{
 "cells": [
  {
   "cell_type": "markdown",
   "metadata": {
    "id": "k7bctphDmhmb"
   },
   "source": [
    "#<center><h1>-- Gambaran --</h1></center>"
   ]
  },
  {
   "cell_type": "markdown",
   "metadata": {
    "id": "HeocLecxnrvI"
   },
   "source": [
    "Kompilasi semua kursus terkait pengembangan (13 ribu kursus) yang tersedia di situs web Udemy. Di bawah kategori pengembangan, ada kursus dari Keuangan, Akuntansi, Pembukuan, Kepatuhan, Cryptocurrence, Blockchain, Ekonomi, Investasi & Perdagangan, Pajak dan banyak lagi masing-masing memiliki beberapa kursus di bawah domainnya.\n",
    "Semua detailnya juga dapat ditemukan di situs web Udemy!\n",
    "\n",
    "Isi\n",
    "Di sini, saya telah mengekstrak data yang terkait dengan kursus 10k yang termasuk dalam kategori pengembangan di situs web Udemy.\n",
    "17 kolom dalam kumpulan data dapat digunakan untuk mendapatkan wawasan terkait dengan:\n",
    "\n",
    "*  ***id*** : ID mata kuliah dari mata kuliah tersebut.\n",
    "*  ***title*** : Menampilkan nama unik kursus yang tersedia di bawah kategori pengembangan di Udemy.\n",
    "*  ***url***: Memberikan URL kursus.\n",
    "*  ***is_paid*** : Mengembalikan nilai boolean yang menampilkan true jika kursus dibayar dan false jika sebaliknya.\n",
    "*  ***num_subscribers*** : Menunjukkan jumlah orang yang telah berlangganan kursus itu.\n",
    "*  ***avg_rating*** : Menampilkan nilai rata-rata kursus.\n",
    "*  ***avg rating*** recent : Mencerminkan perubahan terbaru dalam peringkat rata-rata.\n",
    "*  ***num_reviews*** : Memberi kami gambaran terkait jumlah peringkat yang diterima suatu kursus.\n",
    "*  ***num_published_lectures*** : Menampilkan jumlah kuliah yang ditawarkan kursus.\n",
    "*  ***num_published_ practice_tests*** : Memberikan gambaran tentang jumlah tes latihan yang ditawarkan kursus.\n",
    "*  ***dibuat*** : Waktu pembuatan kursus.\n",
    "*  ***publish_time*** : Waktu penerbitan kursus.\n",
    "*  ***discounted_ price_amount*** : Harga diskon yang ditawarkan pada kursus tertentu.\n",
    "*  ***discounted_ price_currency*** : Mata uang yang sesuai dengan harga diskon yang ditawarkan pada kursus tertentu.\n",
    "*  ***price_ detail_amount*** : Harga asli dari kursus tertentu.\n",
    "*  ***price_ detail_currency*** : Mata uang yang sesuai dengan jumlah detail harga untuk kursus."
   ]
  },
  {
   "cell_type": "code",
   "execution_count": null,
   "metadata": {
    "id": "C5VMO5WUmZpV"
   },
   "outputs": [],
   "source": [
    "import numpy as np\n",
    "import pandas as pd\n",
    "import seaborn as sns\n",
    "import seaborn as stopwords_clean\n",
    "import matplotlib.pyplot as plt\n",
    "from scipy import stats"
   ]
  },
  {
   "cell_type": "code",
   "execution_count": null,
   "metadata": {
    "id": "I77BBES5cA3V"
   },
   "outputs": [],
   "source": [
    "import nltk\n",
    "import string\n",
    "import re"
   ]
  },
  {
   "cell_type": "code",
   "execution_count": null,
   "metadata": {
    "colab": {
     "base_uri": "https://localhost:8080/"
    },
    "id": "naWNyNW64r4y",
    "outputId": "8fb4b481-1b05-4d6d-c11e-0e245e7e8d9f"
   },
   "outputs": [
    {
     "name": "stdout",
     "output_type": "stream",
     "text": [
      "[nltk_data] Downloading package stopwords to /root/nltk_data...\n",
      "[nltk_data]   Unzipping corpora/stopwords.zip.\n"
     ]
    },
    {
     "data": {
      "text/plain": [
       "True"
      ]
     },
     "execution_count": 3,
     "metadata": {},
     "output_type": "execute_result"
    }
   ],
   "source": [
    "nltk.download('stopwords')"
   ]
  },
  {
   "cell_type": "code",
   "execution_count": null,
   "metadata": {
    "colab": {
     "base_uri": "https://localhost:8080/"
    },
    "id": "yImKOW4k-gjH",
    "outputId": "b027b683-3fcb-4a20-eef7-1f360ef85ef3"
   },
   "outputs": [
    {
     "name": "stdout",
     "output_type": "stream",
     "text": [
      "[nltk_data] Downloading package wordnet to /root/nltk_data...\n",
      "[nltk_data]   Unzipping corpora/wordnet.zip.\n"
     ]
    },
    {
     "data": {
      "text/plain": [
       "True"
      ]
     },
     "execution_count": 4,
     "metadata": {},
     "output_type": "execute_result"
    }
   ],
   "source": [
    "nltk.download('wordnet')"
   ]
  },
  {
   "cell_type": "markdown",
   "metadata": {
    "id": "ZNClnM6XvYCb"
   },
   "source": [
    "# *Loading Data*"
   ]
  },
  {
   "cell_type": "code",
   "execution_count": null,
   "metadata": {
    "id": "RXbtATz3vN5c"
   },
   "outputs": [],
   "source": [
    "data = pd.read_csv('Dataset1.csv')"
   ]
  },
  {
   "cell_type": "code",
   "execution_count": null,
   "metadata": {
    "colab": {
     "base_uri": "https://localhost:8080/",
     "height": 521
    },
    "id": "zAUsjUbDvg30",
    "outputId": "a5d3c07f-bb47-4d93-f860-32990f886145"
   },
   "outputs": [
    {
     "data": {
      "text/html": [
       "<div>\n",
       "<style scoped>\n",
       "    .dataframe tbody tr th:only-of-type {\n",
       "        vertical-align: middle;\n",
       "    }\n",
       "\n",
       "    .dataframe tbody tr th {\n",
       "        vertical-align: top;\n",
       "    }\n",
       "\n",
       "    .dataframe thead th {\n",
       "        text-align: right;\n",
       "    }\n",
       "</style>\n",
       "<table border=\"1\" class=\"dataframe\">\n",
       "  <thead>\n",
       "    <tr style=\"text-align: right;\">\n",
       "      <th></th>\n",
       "      <th>id</th>\n",
       "      <th>title</th>\n",
       "      <th>url</th>\n",
       "      <th>is_paid</th>\n",
       "      <th>num_subscribers</th>\n",
       "      <th>avg_rating</th>\n",
       "      <th>avg_rating_recent</th>\n",
       "      <th>rating</th>\n",
       "      <th>num_reviews</th>\n",
       "      <th>is_wishlisted</th>\n",
       "      <th>num_published_lectures</th>\n",
       "      <th>num_published_practice_tests</th>\n",
       "      <th>created</th>\n",
       "      <th>published_time</th>\n",
       "      <th>discount_price__amount</th>\n",
       "      <th>discount_price__currency</th>\n",
       "      <th>discount_price__price_string</th>\n",
       "      <th>price_detail__amount</th>\n",
       "      <th>price_detail__currency</th>\n",
       "      <th>price_detail__price_string</th>\n",
       "    </tr>\n",
       "  </thead>\n",
       "  <tbody>\n",
       "    <tr>\n",
       "      <th>0</th>\n",
       "      <td>762616</td>\n",
       "      <td>The Complete SQL Bootcamp 2020: Go from Zero t...</td>\n",
       "      <td>/course/the-complete-sql-bootcamp/</td>\n",
       "      <td>True</td>\n",
       "      <td>295509</td>\n",
       "      <td>4.66019</td>\n",
       "      <td>4.67874</td>\n",
       "      <td>4.67874</td>\n",
       "      <td>78006</td>\n",
       "      <td>False</td>\n",
       "      <td>84</td>\n",
       "      <td>0</td>\n",
       "      <td>2016-02-14T22:57:48Z</td>\n",
       "      <td>2016-04-06T05:16:11Z</td>\n",
       "      <td>455.0</td>\n",
       "      <td>INR</td>\n",
       "      <td>₹455</td>\n",
       "      <td>8640.0</td>\n",
       "      <td>INR</td>\n",
       "      <td>₹8,640</td>\n",
       "    </tr>\n",
       "    <tr>\n",
       "      <th>1</th>\n",
       "      <td>937678</td>\n",
       "      <td>Tableau 2020 A-Z: Hands-On Tableau Training fo...</td>\n",
       "      <td>/course/tableau10/</td>\n",
       "      <td>True</td>\n",
       "      <td>209070</td>\n",
       "      <td>4.58956</td>\n",
       "      <td>4.60015</td>\n",
       "      <td>4.60015</td>\n",
       "      <td>54581</td>\n",
       "      <td>False</td>\n",
       "      <td>78</td>\n",
       "      <td>0</td>\n",
       "      <td>2016-08-22T12:10:18Z</td>\n",
       "      <td>2016-08-23T16:59:49Z</td>\n",
       "      <td>455.0</td>\n",
       "      <td>INR</td>\n",
       "      <td>₹455</td>\n",
       "      <td>8640.0</td>\n",
       "      <td>INR</td>\n",
       "      <td>₹8,640</td>\n",
       "    </tr>\n",
       "    <tr>\n",
       "      <th>2</th>\n",
       "      <td>1361790</td>\n",
       "      <td>PMP Exam Prep Seminar -  PMBOK Guide 6</td>\n",
       "      <td>/course/pmp-pmbok6-35-pdus/</td>\n",
       "      <td>True</td>\n",
       "      <td>155282</td>\n",
       "      <td>4.59491</td>\n",
       "      <td>4.59326</td>\n",
       "      <td>4.59326</td>\n",
       "      <td>52653</td>\n",
       "      <td>False</td>\n",
       "      <td>292</td>\n",
       "      <td>2</td>\n",
       "      <td>2017-09-26T16:32:48Z</td>\n",
       "      <td>2017-11-14T23:58:14Z</td>\n",
       "      <td>455.0</td>\n",
       "      <td>INR</td>\n",
       "      <td>₹455</td>\n",
       "      <td>8640.0</td>\n",
       "      <td>INR</td>\n",
       "      <td>₹8,640</td>\n",
       "    </tr>\n",
       "    <tr>\n",
       "      <th>3</th>\n",
       "      <td>648826</td>\n",
       "      <td>The Complete Financial Analyst Course 2020</td>\n",
       "      <td>/course/the-complete-financial-analyst-course/</td>\n",
       "      <td>True</td>\n",
       "      <td>245860</td>\n",
       "      <td>4.54407</td>\n",
       "      <td>4.53772</td>\n",
       "      <td>4.53772</td>\n",
       "      <td>46447</td>\n",
       "      <td>False</td>\n",
       "      <td>338</td>\n",
       "      <td>0</td>\n",
       "      <td>2015-10-23T13:34:35Z</td>\n",
       "      <td>2016-01-21T01:38:48Z</td>\n",
       "      <td>455.0</td>\n",
       "      <td>INR</td>\n",
       "      <td>₹455</td>\n",
       "      <td>8640.0</td>\n",
       "      <td>INR</td>\n",
       "      <td>₹8,640</td>\n",
       "    </tr>\n",
       "    <tr>\n",
       "      <th>4</th>\n",
       "      <td>637930</td>\n",
       "      <td>An Entire MBA in 1 Course:Award Winning Busine...</td>\n",
       "      <td>/course/an-entire-mba-in-1-courseaward-winning...</td>\n",
       "      <td>True</td>\n",
       "      <td>374836</td>\n",
       "      <td>4.47080</td>\n",
       "      <td>4.47173</td>\n",
       "      <td>4.47173</td>\n",
       "      <td>41630</td>\n",
       "      <td>False</td>\n",
       "      <td>83</td>\n",
       "      <td>0</td>\n",
       "      <td>2015-10-12T06:39:46Z</td>\n",
       "      <td>2016-01-11T21:39:33Z</td>\n",
       "      <td>455.0</td>\n",
       "      <td>INR</td>\n",
       "      <td>₹455</td>\n",
       "      <td>8640.0</td>\n",
       "      <td>INR</td>\n",
       "      <td>₹8,640</td>\n",
       "    </tr>\n",
       "  </tbody>\n",
       "</table>\n",
       "</div>"
      ],
      "text/plain": [
       "        id  ... price_detail__price_string\n",
       "0   762616  ...                     ₹8,640\n",
       "1   937678  ...                     ₹8,640\n",
       "2  1361790  ...                     ₹8,640\n",
       "3   648826  ...                     ₹8,640\n",
       "4   637930  ...                     ₹8,640\n",
       "\n",
       "[5 rows x 20 columns]"
      ]
     },
     "execution_count": 45,
     "metadata": {},
     "output_type": "execute_result"
    }
   ],
   "source": [
    "data.head()"
   ]
  },
  {
   "cell_type": "markdown",
   "metadata": {
    "id": "mxEhjkuRZU5P"
   },
   "source": [
    "# EDA"
   ]
  },
  {
   "cell_type": "markdown",
   "metadata": {
    "id": "M7jTUoBeB2zC"
   },
   "source": [
    "## Informasi umum dataset"
   ]
  },
  {
   "cell_type": "code",
   "execution_count": null,
   "metadata": {
    "colab": {
     "base_uri": "https://localhost:8080/"
    },
    "id": "Wvdr4aEdZcxj",
    "outputId": "2f785cce-e607-4a8a-b9f4-ba00b8ddb3f0"
   },
   "outputs": [
    {
     "data": {
      "text/plain": [
       "(9447, 20)"
      ]
     },
     "execution_count": 7,
     "metadata": {},
     "output_type": "execute_result"
    }
   ],
   "source": [
    "# cek jumlah baris dan kolom\n",
    "data.shape"
   ]
  },
  {
   "cell_type": "code",
   "execution_count": null,
   "metadata": {
    "colab": {
     "base_uri": "https://localhost:8080/"
    },
    "id": "-f2wmXApdCMB",
    "outputId": "b878a9ee-ccab-4fd2-c994-786b144d8834"
   },
   "outputs": [
    {
     "data": {
      "text/plain": [
       "Index(['id', 'title', 'url', 'is_paid', 'num_subscribers', 'avg_rating',\n",
       "       'avg_rating_recent', 'rating', 'num_reviews', 'is_wishlisted',\n",
       "       'num_published_lectures', 'num_published_practice_tests', 'created',\n",
       "       'published_time', 'discount_price__amount', 'discount_price__currency',\n",
       "       'discount_price__price_string', 'price_detail__amount',\n",
       "       'price_detail__currency', 'price_detail__price_string'],\n",
       "      dtype='object')"
      ]
     },
     "execution_count": 8,
     "metadata": {},
     "output_type": "execute_result"
    }
   ],
   "source": [
    "# cek nama-nama kolom pada dataset\n",
    "data.columns"
   ]
  },
  {
   "cell_type": "markdown",
   "metadata": {
    "id": "kzP-G144dHJc"
   },
   "source": [
    "Dari kolom dataset diatas, bisa kita kategorikan dalam 3 jenis informasi\n",
    "1. `Informasi course`, meliputi id, title, url, is_paid, num_published_lectures, num_published_practice_tests, created,published_time\n",
    "2. `Informasi performa course`, meliputi num_subscribers, avg_rating, avg_rating_recent, rating, num_reviews, is_wishlisted\n",
    "3. `Informasi harga course`, meliputi discount_price__amount, discount_price__currency, discount_price__price_string, price_detail__amount,\n",
    "price_detail__currency, price_detail__price_string"
   ]
  },
  {
   "cell_type": "code",
   "execution_count": null,
   "metadata": {
    "colab": {
     "base_uri": "https://localhost:8080/"
    },
    "id": "Ujtw4F5efef-",
    "outputId": "be8a5a5d-2692-49fd-c37d-0b269177cb42"
   },
   "outputs": [
    {
     "data": {
      "text/plain": [
       "id                                int64\n",
       "title                            object\n",
       "url                              object\n",
       "is_paid                            bool\n",
       "num_subscribers                   int64\n",
       "avg_rating                      float64\n",
       "avg_rating_recent               float64\n",
       "rating                          float64\n",
       "num_reviews                       int64\n",
       "is_wishlisted                      bool\n",
       "num_published_lectures            int64\n",
       "num_published_practice_tests      int64\n",
       "created                          object\n",
       "published_time                   object\n",
       "discount_price__amount          float64\n",
       "discount_price__currency         object\n",
       "discount_price__price_string     object\n",
       "price_detail__amount            float64\n",
       "price_detail__currency           object\n",
       "price_detail__price_string       object\n",
       "dtype: object"
      ]
     },
     "execution_count": 9,
     "metadata": {},
     "output_type": "execute_result"
    }
   ],
   "source": [
    "# cek jenis tipe dataset\n",
    "data.dtypes"
   ]
  },
  {
   "cell_type": "code",
   "execution_count": null,
   "metadata": {
    "colab": {
     "base_uri": "https://localhost:8080/"
    },
    "id": "Nqt8YC7RgrZh",
    "outputId": "e930ddea-f129-4d71-9f64-e1ee0d1dfd61"
   },
   "outputs": [
    {
     "data": {
      "text/plain": [
       "9447"
      ]
     },
     "execution_count": 10,
     "metadata": {},
     "output_type": "execute_result"
    }
   ],
   "source": [
    "# cek apakah data ID unik\n",
    "data['id'].unique().size"
   ]
  },
  {
   "cell_type": "markdown",
   "metadata": {
    "id": "VvQhwozz9_lA"
   },
   "source": [
    "jumlah baris pada dataset jumlahnya sama dengan jumlah data ID yang unik. artinya dalam dataset tidak ada data yang duplikat atau sama"
   ]
  },
  {
   "cell_type": "code",
   "execution_count": null,
   "metadata": {
    "colab": {
     "base_uri": "https://localhost:8080/",
     "height": 466
    },
    "id": "RglK0SEr-LIW",
    "outputId": "6f5fecd1-d15b-4914-bc45-d6ae8fbb1c81",
    "scrolled": true
   },
   "outputs": [
    {
     "data": {
      "text/html": [
       "<div>\n",
       "<style scoped>\n",
       "    .dataframe tbody tr th:only-of-type {\n",
       "        vertical-align: middle;\n",
       "    }\n",
       "\n",
       "    .dataframe tbody tr th {\n",
       "        vertical-align: top;\n",
       "    }\n",
       "\n",
       "    .dataframe thead th {\n",
       "        text-align: right;\n",
       "    }\n",
       "</style>\n",
       "<table border=\"1\" class=\"dataframe\">\n",
       "  <thead>\n",
       "    <tr style=\"text-align: right;\">\n",
       "      <th></th>\n",
       "      <th>id</th>\n",
       "      <th>title</th>\n",
       "      <th>url</th>\n",
       "      <th>is_paid</th>\n",
       "      <th>num_subscribers</th>\n",
       "      <th>avg_rating</th>\n",
       "      <th>avg_rating_recent</th>\n",
       "      <th>rating</th>\n",
       "      <th>num_reviews</th>\n",
       "      <th>is_wishlisted</th>\n",
       "      <th>num_published_lectures</th>\n",
       "      <th>num_published_practice_tests</th>\n",
       "      <th>created</th>\n",
       "      <th>published_time</th>\n",
       "      <th>discount_price__amount</th>\n",
       "      <th>discount_price__currency</th>\n",
       "      <th>discount_price__price_string</th>\n",
       "      <th>price_detail__amount</th>\n",
       "      <th>price_detail__currency</th>\n",
       "      <th>price_detail__price_string</th>\n",
       "    </tr>\n",
       "  </thead>\n",
       "  <tbody>\n",
       "    <tr>\n",
       "      <th>count</th>\n",
       "      <td>9.447000e+03</td>\n",
       "      <td>9447</td>\n",
       "      <td>9447</td>\n",
       "      <td>9447</td>\n",
       "      <td>9447.000000</td>\n",
       "      <td>9447.000000</td>\n",
       "      <td>9447.000000</td>\n",
       "      <td>9447.000000</td>\n",
       "      <td>9447.000000</td>\n",
       "      <td>9447</td>\n",
       "      <td>9447.000000</td>\n",
       "      <td>9447.000000</td>\n",
       "      <td>9447</td>\n",
       "      <td>9447</td>\n",
       "      <td>8937.000000</td>\n",
       "      <td>8937</td>\n",
       "      <td>8937</td>\n",
       "      <td>9447.000000</td>\n",
       "      <td>9447</td>\n",
       "      <td>9447</td>\n",
       "    </tr>\n",
       "    <tr>\n",
       "      <th>unique</th>\n",
       "      <td>NaN</td>\n",
       "      <td>9424</td>\n",
       "      <td>9447</td>\n",
       "      <td>1</td>\n",
       "      <td>NaN</td>\n",
       "      <td>NaN</td>\n",
       "      <td>NaN</td>\n",
       "      <td>NaN</td>\n",
       "      <td>NaN</td>\n",
       "      <td>1</td>\n",
       "      <td>NaN</td>\n",
       "      <td>NaN</td>\n",
       "      <td>9446</td>\n",
       "      <td>9446</td>\n",
       "      <td>NaN</td>\n",
       "      <td>1</td>\n",
       "      <td>48</td>\n",
       "      <td>NaN</td>\n",
       "      <td>1</td>\n",
       "      <td>36</td>\n",
       "    </tr>\n",
       "    <tr>\n",
       "      <th>top</th>\n",
       "      <td>NaN</td>\n",
       "      <td>Become Earned Value Management (EVM) Expert</td>\n",
       "      <td>/course/tableau-introduction-dataset-analysis/</td>\n",
       "      <td>True</td>\n",
       "      <td>NaN</td>\n",
       "      <td>NaN</td>\n",
       "      <td>NaN</td>\n",
       "      <td>NaN</td>\n",
       "      <td>NaN</td>\n",
       "      <td>False</td>\n",
       "      <td>NaN</td>\n",
       "      <td>NaN</td>\n",
       "      <td>2015-09-17T20:27:07Z</td>\n",
       "      <td>2019-08-13T23:28:20Z</td>\n",
       "      <td>NaN</td>\n",
       "      <td>INR</td>\n",
       "      <td>₹455</td>\n",
       "      <td>NaN</td>\n",
       "      <td>INR</td>\n",
       "      <td>₹8,640</td>\n",
       "    </tr>\n",
       "    <tr>\n",
       "      <th>freq</th>\n",
       "      <td>NaN</td>\n",
       "      <td>2</td>\n",
       "      <td>1</td>\n",
       "      <td>9447</td>\n",
       "      <td>NaN</td>\n",
       "      <td>NaN</td>\n",
       "      <td>NaN</td>\n",
       "      <td>NaN</td>\n",
       "      <td>NaN</td>\n",
       "      <td>9447</td>\n",
       "      <td>NaN</td>\n",
       "      <td>NaN</td>\n",
       "      <td>2</td>\n",
       "      <td>2</td>\n",
       "      <td>NaN</td>\n",
       "      <td>8937</td>\n",
       "      <td>8350</td>\n",
       "      <td>NaN</td>\n",
       "      <td>9447</td>\n",
       "      <td>2505</td>\n",
       "    </tr>\n",
       "    <tr>\n",
       "      <th>mean</th>\n",
       "      <td>1.456603e+06</td>\n",
       "      <td>NaN</td>\n",
       "      <td>NaN</td>\n",
       "      <td>NaN</td>\n",
       "      <td>3399.298190</td>\n",
       "      <td>4.138522</td>\n",
       "      <td>4.124756</td>\n",
       "      <td>4.124756</td>\n",
       "      <td>299.054515</td>\n",
       "      <td>NaN</td>\n",
       "      <td>34.400868</td>\n",
       "      <td>0.101831</td>\n",
       "      <td>NaN</td>\n",
       "      <td>NaN</td>\n",
       "      <td>488.984111</td>\n",
       "      <td>NaN</td>\n",
       "      <td>NaN</td>\n",
       "      <td>4828.758336</td>\n",
       "      <td>NaN</td>\n",
       "      <td>NaN</td>\n",
       "    </tr>\n",
       "    <tr>\n",
       "      <th>std</th>\n",
       "      <td>8.956601e+05</td>\n",
       "      <td>NaN</td>\n",
       "      <td>NaN</td>\n",
       "      <td>NaN</td>\n",
       "      <td>10451.534122</td>\n",
       "      <td>0.453581</td>\n",
       "      <td>0.478410</td>\n",
       "      <td>0.478410</td>\n",
       "      <td>1826.867472</td>\n",
       "      <td>NaN</td>\n",
       "      <td>46.061088</td>\n",
       "      <td>0.580037</td>\n",
       "      <td>NaN</td>\n",
       "      <td>NaN</td>\n",
       "      <td>247.833161</td>\n",
       "      <td>NaN</td>\n",
       "      <td>NaN</td>\n",
       "      <td>3108.307674</td>\n",
       "      <td>NaN</td>\n",
       "      <td>NaN</td>\n",
       "    </tr>\n",
       "    <tr>\n",
       "      <th>min</th>\n",
       "      <td>2.762000e+03</td>\n",
       "      <td>NaN</td>\n",
       "      <td>NaN</td>\n",
       "      <td>NaN</td>\n",
       "      <td>3.000000</td>\n",
       "      <td>1.000000</td>\n",
       "      <td>1.000000</td>\n",
       "      <td>1.000000</td>\n",
       "      <td>3.000000</td>\n",
       "      <td>NaN</td>\n",
       "      <td>0.000000</td>\n",
       "      <td>0.000000</td>\n",
       "      <td>NaN</td>\n",
       "      <td>NaN</td>\n",
       "      <td>455.000000</td>\n",
       "      <td>NaN</td>\n",
       "      <td>NaN</td>\n",
       "      <td>1280.000000</td>\n",
       "      <td>NaN</td>\n",
       "      <td>NaN</td>\n",
       "    </tr>\n",
       "    <tr>\n",
       "      <th>25%</th>\n",
       "      <td>6.730310e+05</td>\n",
       "      <td>NaN</td>\n",
       "      <td>NaN</td>\n",
       "      <td>NaN</td>\n",
       "      <td>141.000000</td>\n",
       "      <td>3.900000</td>\n",
       "      <td>3.879410</td>\n",
       "      <td>3.879410</td>\n",
       "      <td>12.000000</td>\n",
       "      <td>NaN</td>\n",
       "      <td>13.000000</td>\n",
       "      <td>0.000000</td>\n",
       "      <td>NaN</td>\n",
       "      <td>NaN</td>\n",
       "      <td>455.000000</td>\n",
       "      <td>NaN</td>\n",
       "      <td>NaN</td>\n",
       "      <td>1600.000000</td>\n",
       "      <td>NaN</td>\n",
       "      <td>NaN</td>\n",
       "    </tr>\n",
       "    <tr>\n",
       "      <th>50%</th>\n",
       "      <td>1.381806e+06</td>\n",
       "      <td>NaN</td>\n",
       "      <td>NaN</td>\n",
       "      <td>NaN</td>\n",
       "      <td>916.000000</td>\n",
       "      <td>4.200000</td>\n",
       "      <td>4.206080</td>\n",
       "      <td>4.206080</td>\n",
       "      <td>33.000000</td>\n",
       "      <td>NaN</td>\n",
       "      <td>23.000000</td>\n",
       "      <td>0.000000</td>\n",
       "      <td>NaN</td>\n",
       "      <td>NaN</td>\n",
       "      <td>455.000000</td>\n",
       "      <td>NaN</td>\n",
       "      <td>NaN</td>\n",
       "      <td>3840.000000</td>\n",
       "      <td>NaN</td>\n",
       "      <td>NaN</td>\n",
       "    </tr>\n",
       "    <tr>\n",
       "      <th>75%</th>\n",
       "      <td>2.154793e+06</td>\n",
       "      <td>NaN</td>\n",
       "      <td>NaN</td>\n",
       "      <td>NaN</td>\n",
       "      <td>2889.500000</td>\n",
       "      <td>4.450000</td>\n",
       "      <td>4.447495</td>\n",
       "      <td>4.447495</td>\n",
       "      <td>110.000000</td>\n",
       "      <td>NaN</td>\n",
       "      <td>39.000000</td>\n",
       "      <td>0.000000</td>\n",
       "      <td>NaN</td>\n",
       "      <td>NaN</td>\n",
       "      <td>455.000000</td>\n",
       "      <td>NaN</td>\n",
       "      <td>NaN</td>\n",
       "      <td>8640.000000</td>\n",
       "      <td>NaN</td>\n",
       "      <td>NaN</td>\n",
       "    </tr>\n",
       "    <tr>\n",
       "      <th>max</th>\n",
       "      <td>3.469452e+06</td>\n",
       "      <td>NaN</td>\n",
       "      <td>NaN</td>\n",
       "      <td>NaN</td>\n",
       "      <td>374836.000000</td>\n",
       "      <td>5.000000</td>\n",
       "      <td>5.000000</td>\n",
       "      <td>5.000000</td>\n",
       "      <td>78006.000000</td>\n",
       "      <td>NaN</td>\n",
       "      <td>699.000000</td>\n",
       "      <td>6.000000</td>\n",
       "      <td>NaN</td>\n",
       "      <td>NaN</td>\n",
       "      <td>3200.000000</td>\n",
       "      <td>NaN</td>\n",
       "      <td>NaN</td>\n",
       "      <td>12800.000000</td>\n",
       "      <td>NaN</td>\n",
       "      <td>NaN</td>\n",
       "    </tr>\n",
       "  </tbody>\n",
       "</table>\n",
       "</div>"
      ],
      "text/plain": [
       "                  id  ... price_detail__price_string\n",
       "count   9.447000e+03  ...                       9447\n",
       "unique           NaN  ...                         36\n",
       "top              NaN  ...                     ₹8,640\n",
       "freq             NaN  ...                       2505\n",
       "mean    1.456603e+06  ...                        NaN\n",
       "std     8.956601e+05  ...                        NaN\n",
       "min     2.762000e+03  ...                        NaN\n",
       "25%     6.730310e+05  ...                        NaN\n",
       "50%     1.381806e+06  ...                        NaN\n",
       "75%     2.154793e+06  ...                        NaN\n",
       "max     3.469452e+06  ...                        NaN\n",
       "\n",
       "[11 rows x 20 columns]"
      ]
     },
     "execution_count": 11,
     "metadata": {},
     "output_type": "execute_result"
    }
   ],
   "source": [
    "# cek informasi dataset\n",
    "data.describe(include='all')"
   ]
  },
  {
   "cell_type": "markdown",
   "metadata": {
    "id": "cWa1-bUsiUnX"
   },
   "source": [
    "Dari hasil descripsi diatas, dapat diperoleh informasi yang diperoleh yaitu:\n",
    "1. kolom `title`, ternyata ada judul yang ditulis sama karena dari jumlah 9447 dan jumlah data uniknya yaitu 9424. Namun `url` maisng-masing kelas berbeda\n",
    "2. pada kolom `is_paid`, ada 1 data unik yang berarti memiliki 1 nilai yang sama\n",
    "3. pada kolom `is_wishlisted`, ada 1 data unik yang berarti memiliki 1 nilai yang sama\n",
    "\n",
    "Hal yang perlu dipastikan lagi\n",
    "1. apakah kolom `discount_price__currency` dan kolom `discount_price__currency` unik hanya 1? jika iya tampilkan datanya\n",
    "2. apakah kolom `avg_rating_recent` memiliki informasi statiska sama dengan kolom `rating`?  \n",
    "3. apakah Kolom `discount price price string` sama dengan nilai kolom `discount_price__amount`?\n",
    "4. apakah kolom `price_detail__amount` dan kolom `price_detail__price_string` memiliki nilai yang sama?\n",
    "5. Apakah mata uang antara kolom `discount_price__currency` sama dengan kolom `price_detail__currency`?\n"
   ]
  },
  {
   "cell_type": "code",
   "execution_count": null,
   "metadata": {
    "colab": {
     "base_uri": "https://localhost:8080/"
    },
    "id": "0hWYySLi2-TC",
    "outputId": "86bb56dd-8134-495a-87a4-c4e39c9b483a",
    "scrolled": false
   },
   "outputs": [
    {
     "data": {
      "text/plain": [
       "id                                0\n",
       "title                             0\n",
       "url                               0\n",
       "is_paid                           0\n",
       "num_subscribers                   0\n",
       "avg_rating                        0\n",
       "avg_rating_recent                 0\n",
       "rating                            0\n",
       "num_reviews                       0\n",
       "is_wishlisted                     0\n",
       "num_published_lectures            0\n",
       "num_published_practice_tests      0\n",
       "created                           0\n",
       "published_time                    0\n",
       "discount_price__amount          510\n",
       "discount_price__currency        510\n",
       "discount_price__price_string    510\n",
       "price_detail__amount              0\n",
       "price_detail__currency            0\n",
       "price_detail__price_string        0\n",
       "dtype: int64"
      ]
     },
     "execution_count": 12,
     "metadata": {},
     "output_type": "execute_result"
    }
   ],
   "source": [
    "data.isnull().sum()"
   ]
  },
  {
   "cell_type": "code",
   "execution_count": null,
   "metadata": {
    "colab": {
     "base_uri": "https://localhost:8080/"
    },
    "id": "36blEillcEMC",
    "outputId": "499e707c-8b33-4efd-db70-549a86b2b5b4"
   },
   "outputs": [
    {
     "data": {
      "text/plain": [
       "23"
      ]
     },
     "execution_count": 13,
     "metadata": {},
     "output_type": "execute_result"
    }
   ],
   "source": [
    "data.duplicated('title').sum()"
   ]
  },
  {
   "cell_type": "code",
   "execution_count": null,
   "metadata": {
    "colab": {
     "base_uri": "https://localhost:8080/",
     "height": 452
    },
    "id": "n8PIO2efcg4g",
    "outputId": "b5ec4f6c-500d-47d0-ecef-7128367b446e"
   },
   "outputs": [
    {
     "data": {
      "text/html": [
       "<div>\n",
       "<style scoped>\n",
       "    .dataframe tbody tr th:only-of-type {\n",
       "        vertical-align: middle;\n",
       "    }\n",
       "\n",
       "    .dataframe tbody tr th {\n",
       "        vertical-align: top;\n",
       "    }\n",
       "\n",
       "    .dataframe thead th {\n",
       "        text-align: right;\n",
       "    }\n",
       "</style>\n",
       "<table border=\"1\" class=\"dataframe\">\n",
       "  <thead>\n",
       "    <tr style=\"text-align: right;\">\n",
       "      <th></th>\n",
       "      <th>id</th>\n",
       "      <th>title</th>\n",
       "      <th>url</th>\n",
       "      <th>is_paid</th>\n",
       "      <th>num_subscribers</th>\n",
       "      <th>avg_rating</th>\n",
       "      <th>avg_rating_recent</th>\n",
       "      <th>rating</th>\n",
       "      <th>num_reviews</th>\n",
       "      <th>is_wishlisted</th>\n",
       "      <th>num_published_lectures</th>\n",
       "      <th>num_published_practice_tests</th>\n",
       "      <th>created</th>\n",
       "      <th>published_time</th>\n",
       "      <th>discount_price__amount</th>\n",
       "      <th>discount_price__currency</th>\n",
       "      <th>discount_price__price_string</th>\n",
       "      <th>price_detail__amount</th>\n",
       "      <th>price_detail__currency</th>\n",
       "      <th>price_detail__price_string</th>\n",
       "    </tr>\n",
       "  </thead>\n",
       "  <tbody>\n",
       "    <tr>\n",
       "      <th>1571</th>\n",
       "      <td>2794534</td>\n",
       "      <td>Sales Fundamentals</td>\n",
       "      <td>/course/sales-fundamentals-x/</td>\n",
       "      <td>True</td>\n",
       "      <td>2245</td>\n",
       "      <td>3.70000</td>\n",
       "      <td>3.62002</td>\n",
       "      <td>3.62002</td>\n",
       "      <td>215</td>\n",
       "      <td>False</td>\n",
       "      <td>23</td>\n",
       "      <td>0</td>\n",
       "      <td>2020-02-03T18:08:39Z</td>\n",
       "      <td>2020-02-11T21:21:39Z</td>\n",
       "      <td>700.0</td>\n",
       "      <td>INR</td>\n",
       "      <td>₹700</td>\n",
       "      <td>1280.0</td>\n",
       "      <td>INR</td>\n",
       "      <td>₹1,280</td>\n",
       "    </tr>\n",
       "    <tr>\n",
       "      <th>2574</th>\n",
       "      <td>1533564</td>\n",
       "      <td>Lean Six Sigma White Belt</td>\n",
       "      <td>/course/lean-six-sigma-white-belt-cert/</td>\n",
       "      <td>True</td>\n",
       "      <td>263</td>\n",
       "      <td>4.35000</td>\n",
       "      <td>4.31770</td>\n",
       "      <td>4.31770</td>\n",
       "      <td>95</td>\n",
       "      <td>False</td>\n",
       "      <td>7</td>\n",
       "      <td>0</td>\n",
       "      <td>2018-01-31T01:09:07Z</td>\n",
       "      <td>2018-02-14T20:35:04Z</td>\n",
       "      <td>455.0</td>\n",
       "      <td>INR</td>\n",
       "      <td>₹455</td>\n",
       "      <td>1280.0</td>\n",
       "      <td>INR</td>\n",
       "      <td>₹1,280</td>\n",
       "    </tr>\n",
       "    <tr>\n",
       "      <th>2944</th>\n",
       "      <td>1809178</td>\n",
       "      <td>PMP EXAM PREP-Project Management Professional ...</td>\n",
       "      <td>/course/pmp-certification-training-35-hours-ba...</td>\n",
       "      <td>True</td>\n",
       "      <td>353</td>\n",
       "      <td>4.05882</td>\n",
       "      <td>4.06389</td>\n",
       "      <td>4.06389</td>\n",
       "      <td>77</td>\n",
       "      <td>False</td>\n",
       "      <td>270</td>\n",
       "      <td>0</td>\n",
       "      <td>2018-07-20T06:43:21Z</td>\n",
       "      <td>2018-12-21T21:42:23Z</td>\n",
       "      <td>481.0</td>\n",
       "      <td>INR</td>\n",
       "      <td>₹481</td>\n",
       "      <td>8960.0</td>\n",
       "      <td>INR</td>\n",
       "      <td>₹8,960</td>\n",
       "    </tr>\n",
       "    <tr>\n",
       "      <th>3355</th>\n",
       "      <td>1133386</td>\n",
       "      <td>Fundamentals of Accounting &amp; Bookkeeping</td>\n",
       "      <td>/course/fundamentals-of-accounting-j/</td>\n",
       "      <td>True</td>\n",
       "      <td>1867</td>\n",
       "      <td>4.05000</td>\n",
       "      <td>3.91132</td>\n",
       "      <td>3.91132</td>\n",
       "      <td>61</td>\n",
       "      <td>False</td>\n",
       "      <td>15</td>\n",
       "      <td>0</td>\n",
       "      <td>2017-03-03T07:16:17Z</td>\n",
       "      <td>2017-09-18T14:18:30Z</td>\n",
       "      <td>455.0</td>\n",
       "      <td>INR</td>\n",
       "      <td>₹455</td>\n",
       "      <td>1280.0</td>\n",
       "      <td>INR</td>\n",
       "      <td>₹1,280</td>\n",
       "    </tr>\n",
       "    <tr>\n",
       "      <th>4266</th>\n",
       "      <td>2466230</td>\n",
       "      <td>Learn Machine Learning From Scratch</td>\n",
       "      <td>/course/complete-machine-learning-course-learn...</td>\n",
       "      <td>True</td>\n",
       "      <td>4863</td>\n",
       "      <td>2.70000</td>\n",
       "      <td>2.63667</td>\n",
       "      <td>2.63667</td>\n",
       "      <td>40</td>\n",
       "      <td>False</td>\n",
       "      <td>5</td>\n",
       "      <td>0</td>\n",
       "      <td>2019-07-18T22:21:39Z</td>\n",
       "      <td>2019-07-20T21:42:20Z</td>\n",
       "      <td>455.0</td>\n",
       "      <td>INR</td>\n",
       "      <td>₹455</td>\n",
       "      <td>8640.0</td>\n",
       "      <td>INR</td>\n",
       "      <td>₹8,640</td>\n",
       "    </tr>\n",
       "  </tbody>\n",
       "</table>\n",
       "</div>"
      ],
      "text/plain": [
       "           id  ... price_detail__price_string\n",
       "1571  2794534  ...                     ₹1,280\n",
       "2574  1533564  ...                     ₹1,280\n",
       "2944  1809178  ...                     ₹8,960\n",
       "3355  1133386  ...                     ₹1,280\n",
       "4266  2466230  ...                     ₹8,640\n",
       "\n",
       "[5 rows x 20 columns]"
      ]
     },
     "execution_count": 14,
     "metadata": {},
     "output_type": "execute_result"
    }
   ],
   "source": [
    "data[data.duplicated('title')].head()"
   ]
  },
  {
   "cell_type": "markdown",
   "metadata": {
    "id": "HhUyErtQdzSQ"
   },
   "source": [
    "dari hasil diatas ada 23 data duplicated dari kolom title. namun untuk kolom lainnya semua datanya berbeda (jika disamakan antar kolom). pada title yang sama yang membuat row tersebut dikatakan berbeda karena tahun publishnya berbeda. contohnya pada course Sales Fundamentals yang mawalnya pernah dipublish tahun 2015 namun di row lain dipublish tahun 2020. Kami mengasumsikan bahwa course tersebut diperbarui. Namun mengingat data duplikat disini hanya 23, yang bisa dikatakan jumlahnya sedikit, maka kami tidak menganalisisnya lebih lanjut. membiarkan data tersebut seperti data lain, dengan mengganggapkan bahwa judul yang sama namun course kelas yang berbeda. pada url kelas pun judul cuorse yang sama namun url course berbeda. berarti memang ada dua kelas yang berbeda dengan topik/judul yang sama"
   ]
  },
  {
   "cell_type": "code",
   "execution_count": null,
   "metadata": {
    "colab": {
     "base_uri": "https://localhost:8080/",
     "height": 519
    },
    "id": "Tvg4SyIaiVSD",
    "outputId": "dc109a89-9966-4107-e028-dca3c35ba3b7"
   },
   "outputs": [
    {
     "data": {
      "image/png": "[encoded data removed]",
      "text/plain": [
       "<Figure size 648x432 with 2 Axes>"
      ]
     },
     "metadata": {},
     "output_type": "display_data"
    }
   ],
   "source": [
    "corr = data.corr()\n",
    "\n",
    "f,ax = plt.subplots(figsize=(9,6))\n",
    "sns.heatmap(corr,annot = True, linewidths= 1.5, fmt = '.2f', ax=ax)\n",
    "\n",
    "plt.show()"
   ]
  },
  {
   "cell_type": "markdown",
   "metadata": {
    "id": "KdtXjQObCG-M"
   },
   "source": [
    "## *Comparisson* mata uang"
   ]
  },
  {
   "cell_type": "code",
   "execution_count": null,
   "metadata": {
    "id": "V646WbDd5yZk"
   },
   "outputs": [],
   "source": [
    "string_price = data[['discount_price__currency','price_detail__currency']]"
   ]
  },
  {
   "cell_type": "code",
   "execution_count": null,
   "metadata": {
    "colab": {
     "base_uri": "https://localhost:8080/"
    },
    "id": "BC5fSXXb8L86",
    "outputId": "6467c990-cec4-48a6-de3e-efa2b9c05d55"
   },
   "outputs": [
    {
     "name": "stderr",
     "output_type": "stream",
     "text": [
      "/usr/local/lib/python3.7/dist-packages/ipykernel_launcher.py:2: SettingWithCopyWarning: \n",
      "A value is trying to be set on a copy of a slice from a DataFrame.\n",
      "Try using .loc[row_indexer,col_indexer] = value instead\n",
      "\n",
      "See the caveats in the documentation: https://pandas.pydata.org/pandas-docs/stable/user_guide/indexing.html#returning-a-view-versus-a-copy\n",
      "  \n"
     ]
    }
   ],
   "source": [
    "comparison_columns = np.where(string_price['discount_price__currency'] == string_price['price_detail__currency'], True, False)\n",
    "string_price['comparison'] = comparison_columns"
   ]
  },
  {
   "cell_type": "code",
   "execution_count": null,
   "metadata": {
    "colab": {
     "base_uri": "https://localhost:8080/"
    },
    "id": "a4EF8C0W9VoM",
    "outputId": "9982e648-1848-4c7a-e85f-b381971f85dd"
   },
   "outputs": [
    {
     "data": {
      "text/html": [
       "<div>\n",
       "<style scoped>\n",
       "    .dataframe tbody tr th:only-of-type {\n",
       "        vertical-align: middle;\n",
       "    }\n",
       "\n",
       "    .dataframe tbody tr th {\n",
       "        vertical-align: top;\n",
       "    }\n",
       "\n",
       "    .dataframe thead th {\n",
       "        text-align: right;\n",
       "    }\n",
       "</style>\n",
       "<table border=\"1\" class=\"dataframe\">\n",
       "  <thead>\n",
       "    <tr style=\"text-align: right;\">\n",
       "      <th></th>\n",
       "      <th>discount_price__currency</th>\n",
       "      <th>price_detail__currency</th>\n",
       "      <th>comparison</th>\n",
       "    </tr>\n",
       "  </thead>\n",
       "  <tbody>\n",
       "    <tr>\n",
       "      <th>0</th>\n",
       "      <td>INR</td>\n",
       "      <td>INR</td>\n",
       "      <td>True</td>\n",
       "    </tr>\n",
       "    <tr>\n",
       "      <th>1</th>\n",
       "      <td>INR</td>\n",
       "      <td>INR</td>\n",
       "      <td>True</td>\n",
       "    </tr>\n",
       "    <tr>\n",
       "      <th>2</th>\n",
       "      <td>INR</td>\n",
       "      <td>INR</td>\n",
       "      <td>True</td>\n",
       "    </tr>\n",
       "    <tr>\n",
       "      <th>3</th>\n",
       "      <td>INR</td>\n",
       "      <td>INR</td>\n",
       "      <td>True</td>\n",
       "    </tr>\n",
       "    <tr>\n",
       "      <th>4</th>\n",
       "      <td>INR</td>\n",
       "      <td>INR</td>\n",
       "      <td>True</td>\n",
       "    </tr>\n",
       "  </tbody>\n",
       "</table>\n",
       "</div>"
      ],
      "text/plain": [
       "  discount_price__currency price_detail__currency  comparison\n",
       "0                      INR                    INR        True\n",
       "1                      INR                    INR        True\n",
       "2                      INR                    INR        True\n",
       "3                      INR                    INR        True\n",
       "4                      INR                    INR        True"
      ]
     },
     "execution_count": 18,
     "metadata": {},
     "output_type": "execute_result"
    }
   ],
   "source": [
    "string_price.head()"
   ]
  },
  {
   "cell_type": "code",
   "execution_count": null,
   "metadata": {
    "colab": {
     "base_uri": "https://localhost:8080/"
    },
    "id": "RbvSL38t97Yw",
    "outputId": "9ccc5483-7420-45d1-c3b0-197279036baf"
   },
   "outputs": [
    {
     "data": {
      "text/plain": [
       "True     8937\n",
       "False     510\n",
       "Name: comparison, dtype: int64"
      ]
     },
     "execution_count": 19,
     "metadata": {},
     "output_type": "execute_result"
    }
   ],
   "source": [
    "string_price['comparison'].value_counts()"
   ]
  },
  {
   "cell_type": "code",
   "execution_count": null,
   "metadata": {
    "colab": {
     "base_uri": "https://localhost:8080/"
    },
    "id": "lYYmAQR7jHf0",
    "outputId": "b4a29ad4-23dc-4b42-e025-7dd31d449088"
   },
   "outputs": [
    {
     "data": {
      "text/html": [
       "<div>\n",
       "<style scoped>\n",
       "    .dataframe tbody tr th:only-of-type {\n",
       "        vertical-align: middle;\n",
       "    }\n",
       "\n",
       "    .dataframe tbody tr th {\n",
       "        vertical-align: top;\n",
       "    }\n",
       "\n",
       "    .dataframe thead th {\n",
       "        text-align: right;\n",
       "    }\n",
       "</style>\n",
       "<table border=\"1\" class=\"dataframe\">\n",
       "  <thead>\n",
       "    <tr style=\"text-align: right;\">\n",
       "      <th></th>\n",
       "      <th>discount_price__currency</th>\n",
       "      <th>price_detail__currency</th>\n",
       "      <th>comparison</th>\n",
       "    </tr>\n",
       "  </thead>\n",
       "  <tbody>\n",
       "    <tr>\n",
       "      <th>33</th>\n",
       "      <td>NaN</td>\n",
       "      <td>INR</td>\n",
       "      <td>False</td>\n",
       "    </tr>\n",
       "    <tr>\n",
       "      <th>39</th>\n",
       "      <td>NaN</td>\n",
       "      <td>INR</td>\n",
       "      <td>False</td>\n",
       "    </tr>\n",
       "    <tr>\n",
       "      <th>40</th>\n",
       "      <td>NaN</td>\n",
       "      <td>INR</td>\n",
       "      <td>False</td>\n",
       "    </tr>\n",
       "    <tr>\n",
       "      <th>80</th>\n",
       "      <td>NaN</td>\n",
       "      <td>INR</td>\n",
       "      <td>False</td>\n",
       "    </tr>\n",
       "    <tr>\n",
       "      <th>90</th>\n",
       "      <td>NaN</td>\n",
       "      <td>INR</td>\n",
       "      <td>False</td>\n",
       "    </tr>\n",
       "    <tr>\n",
       "      <th>...</th>\n",
       "      <td>...</td>\n",
       "      <td>...</td>\n",
       "      <td>...</td>\n",
       "    </tr>\n",
       "    <tr>\n",
       "      <th>9410</th>\n",
       "      <td>NaN</td>\n",
       "      <td>INR</td>\n",
       "      <td>False</td>\n",
       "    </tr>\n",
       "    <tr>\n",
       "      <th>9411</th>\n",
       "      <td>NaN</td>\n",
       "      <td>INR</td>\n",
       "      <td>False</td>\n",
       "    </tr>\n",
       "    <tr>\n",
       "      <th>9412</th>\n",
       "      <td>NaN</td>\n",
       "      <td>INR</td>\n",
       "      <td>False</td>\n",
       "    </tr>\n",
       "    <tr>\n",
       "      <th>9413</th>\n",
       "      <td>NaN</td>\n",
       "      <td>INR</td>\n",
       "      <td>False</td>\n",
       "    </tr>\n",
       "    <tr>\n",
       "      <th>9423</th>\n",
       "      <td>NaN</td>\n",
       "      <td>INR</td>\n",
       "      <td>False</td>\n",
       "    </tr>\n",
       "  </tbody>\n",
       "</table>\n",
       "<p>510 rows × 3 columns</p>\n",
       "</div>"
      ],
      "text/plain": [
       "     discount_price__currency price_detail__currency  comparison\n",
       "33                        NaN                    INR       False\n",
       "39                        NaN                    INR       False\n",
       "40                        NaN                    INR       False\n",
       "80                        NaN                    INR       False\n",
       "90                        NaN                    INR       False\n",
       "...                       ...                    ...         ...\n",
       "9410                      NaN                    INR       False\n",
       "9411                      NaN                    INR       False\n",
       "9412                      NaN                    INR       False\n",
       "9413                      NaN                    INR       False\n",
       "9423                      NaN                    INR       False\n",
       "\n",
       "[510 rows x 3 columns]"
      ]
     },
     "execution_count": 20,
     "metadata": {},
     "output_type": "execute_result"
    }
   ],
   "source": [
    "string_price[string_price['comparison'] == False]"
   ]
  },
  {
   "cell_type": "code",
   "execution_count": null,
   "metadata": {
    "colab": {
     "base_uri": "https://localhost:8080/"
    },
    "id": "EN40jLPxjbZE",
    "outputId": "70573745-70b4-45f5-f72b-5cef532d04c8"
   },
   "outputs": [
    {
     "data": {
      "text/plain": [
       "discount_price__currency    510\n",
       "price_detail__currency        0\n",
       "comparison                    0\n",
       "dtype: int64"
      ]
     },
     "execution_count": 21,
     "metadata": {},
     "output_type": "execute_result"
    }
   ],
   "source": [
    "string_price.isnull().sum()"
   ]
  },
  {
   "cell_type": "markdown",
   "metadata": {
    "id": "bqUFVunk_Bog"
   },
   "source": [
    "mata uang antara kolom `discount_price__currency` sama dengan kolom `price_detail__currency` ternyata ada yang tidak sama, yaitu 510 data memiliki mata uang yang berbeda. hal itu dikarenakan ada data yang kosong"
   ]
  },
  {
   "cell_type": "markdown",
   "metadata": {
    "id": "qzqVJE4ICh01"
   },
   "source": [
    "## *Comparison* diskon"
   ]
  },
  {
   "cell_type": "code",
   "execution_count": null,
   "metadata": {
    "id": "JxI_3GhqCi-k"
   },
   "outputs": [],
   "source": [
    "discount_price = data[['discount_price__amount','discount_price__price_string']]"
   ]
  },
  {
   "cell_type": "code",
   "execution_count": null,
   "metadata": {
    "colab": {
     "base_uri": "https://localhost:8080/"
    },
    "id": "25L-gfxVDK4B",
    "outputId": "6824df9f-685d-4017-95e8-579d61e6f45a"
   },
   "outputs": [
    {
     "data": {
      "text/html": [
       "<div>\n",
       "<style scoped>\n",
       "    .dataframe tbody tr th:only-of-type {\n",
       "        vertical-align: middle;\n",
       "    }\n",
       "\n",
       "    .dataframe tbody tr th {\n",
       "        vertical-align: top;\n",
       "    }\n",
       "\n",
       "    .dataframe thead th {\n",
       "        text-align: right;\n",
       "    }\n",
       "</style>\n",
       "<table border=\"1\" class=\"dataframe\">\n",
       "  <thead>\n",
       "    <tr style=\"text-align: right;\">\n",
       "      <th></th>\n",
       "      <th>discount_price__amount</th>\n",
       "      <th>discount_price__price_string</th>\n",
       "    </tr>\n",
       "  </thead>\n",
       "  <tbody>\n",
       "    <tr>\n",
       "      <th>0</th>\n",
       "      <td>455.0</td>\n",
       "      <td>₹455</td>\n",
       "    </tr>\n",
       "    <tr>\n",
       "      <th>1</th>\n",
       "      <td>455.0</td>\n",
       "      <td>₹455</td>\n",
       "    </tr>\n",
       "    <tr>\n",
       "      <th>2</th>\n",
       "      <td>455.0</td>\n",
       "      <td>₹455</td>\n",
       "    </tr>\n",
       "    <tr>\n",
       "      <th>3</th>\n",
       "      <td>455.0</td>\n",
       "      <td>₹455</td>\n",
       "    </tr>\n",
       "    <tr>\n",
       "      <th>4</th>\n",
       "      <td>455.0</td>\n",
       "      <td>₹455</td>\n",
       "    </tr>\n",
       "  </tbody>\n",
       "</table>\n",
       "</div>"
      ],
      "text/plain": [
       "   discount_price__amount discount_price__price_string\n",
       "0                   455.0                         ₹455\n",
       "1                   455.0                         ₹455\n",
       "2                   455.0                         ₹455\n",
       "3                   455.0                         ₹455\n",
       "4                   455.0                         ₹455"
      ]
     },
     "execution_count": 23,
     "metadata": {},
     "output_type": "execute_result"
    }
   ],
   "source": [
    "discount_price.head()"
   ]
  },
  {
   "cell_type": "code",
   "execution_count": null,
   "metadata": {
    "colab": {
     "base_uri": "https://localhost:8080/"
    },
    "id": "yv7oQZGtEtyd",
    "outputId": "179f3bc1-266b-43d5-e5ed-9aa6fc999479"
   },
   "outputs": [
    {
     "data": {
      "text/plain": [
       "discount_price__amount          510\n",
       "discount_price__price_string    510\n",
       "dtype: int64"
      ]
     },
     "execution_count": 24,
     "metadata": {},
     "output_type": "execute_result"
    }
   ],
   "source": [
    "discount_price.isnull().sum()"
   ]
  },
  {
   "cell_type": "code",
   "execution_count": null,
   "metadata": {
    "id": "_ir5ywukFE0T"
   },
   "outputs": [],
   "source": [
    "discount_price = discount_price.dropna()"
   ]
  },
  {
   "cell_type": "code",
   "execution_count": null,
   "metadata": {
    "colab": {
     "base_uri": "https://localhost:8080/"
    },
    "id": "4LwBldY9DV9R",
    "outputId": "51366d32-f1bb-48fe-d7f3-ca2394397fe6"
   },
   "outputs": [
    {
     "data": {
      "text/html": [
       "<div>\n",
       "<style scoped>\n",
       "    .dataframe tbody tr th:only-of-type {\n",
       "        vertical-align: middle;\n",
       "    }\n",
       "\n",
       "    .dataframe tbody tr th {\n",
       "        vertical-align: top;\n",
       "    }\n",
       "\n",
       "    .dataframe thead th {\n",
       "        text-align: right;\n",
       "    }\n",
       "</style>\n",
       "<table border=\"1\" class=\"dataframe\">\n",
       "  <thead>\n",
       "    <tr style=\"text-align: right;\">\n",
       "      <th></th>\n",
       "      <th>discount_price__amount</th>\n",
       "      <th>discount_price__price_string</th>\n",
       "    </tr>\n",
       "  </thead>\n",
       "  <tbody>\n",
       "    <tr>\n",
       "      <th>0</th>\n",
       "      <td>455</td>\n",
       "      <td>₹455</td>\n",
       "    </tr>\n",
       "    <tr>\n",
       "      <th>1</th>\n",
       "      <td>455</td>\n",
       "      <td>₹455</td>\n",
       "    </tr>\n",
       "    <tr>\n",
       "      <th>2</th>\n",
       "      <td>455</td>\n",
       "      <td>₹455</td>\n",
       "    </tr>\n",
       "    <tr>\n",
       "      <th>3</th>\n",
       "      <td>455</td>\n",
       "      <td>₹455</td>\n",
       "    </tr>\n",
       "    <tr>\n",
       "      <th>4</th>\n",
       "      <td>455</td>\n",
       "      <td>₹455</td>\n",
       "    </tr>\n",
       "  </tbody>\n",
       "</table>\n",
       "</div>"
      ],
      "text/plain": [
       "   discount_price__amount discount_price__price_string\n",
       "0                     455                         ₹455\n",
       "1                     455                         ₹455\n",
       "2                     455                         ₹455\n",
       "3                     455                         ₹455\n",
       "4                     455                         ₹455"
      ]
     },
     "execution_count": 26,
     "metadata": {},
     "output_type": "execute_result"
    }
   ],
   "source": [
    "discount_price['discount_price__amount'] = discount_price['discount_price__amount'].apply(np.int64)\n",
    "discount_price.head()"
   ]
  },
  {
   "cell_type": "code",
   "execution_count": null,
   "metadata": {
    "colab": {
     "base_uri": "https://localhost:8080/"
    },
    "id": "HZjaxxZIJopI",
    "outputId": "8d390cc5-e5ca-49ee-c7e6-8936cda34e74"
   },
   "outputs": [
    {
     "data": {
      "text/plain": [
       "discount_price__amount           int64\n",
       "discount_price__price_string    string\n",
       "dtype: object"
      ]
     },
     "execution_count": 27,
     "metadata": {},
     "output_type": "execute_result"
    }
   ],
   "source": [
    "discount_price['discount_price__price_string'] = discount_price['discount_price__price_string'].astype('string')\n",
    "discount_price.dtypes"
   ]
  },
  {
   "cell_type": "code",
   "execution_count": null,
   "metadata": {
    "id": "TMryZdFDMP4V"
   },
   "outputs": [],
   "source": [
    "def select_number(text):\n",
    "  txt_nonumber = \"\".join([i for i in text if i in string.digits])\n",
    "  return txt_nonumber"
   ]
  },
  {
   "cell_type": "code",
   "execution_count": null,
   "metadata": {
    "colab": {
     "base_uri": "https://localhost:8080/"
    },
    "id": "xqMkUHfiLAGo",
    "outputId": "0a7e329d-61f4-4f42-922e-bc1610d7818c"
   },
   "outputs": [
    {
     "data": {
      "text/html": [
       "<div>\n",
       "<style scoped>\n",
       "    .dataframe tbody tr th:only-of-type {\n",
       "        vertical-align: middle;\n",
       "    }\n",
       "\n",
       "    .dataframe tbody tr th {\n",
       "        vertical-align: top;\n",
       "    }\n",
       "\n",
       "    .dataframe thead th {\n",
       "        text-align: right;\n",
       "    }\n",
       "</style>\n",
       "<table border=\"1\" class=\"dataframe\">\n",
       "  <thead>\n",
       "    <tr style=\"text-align: right;\">\n",
       "      <th></th>\n",
       "      <th>discount_price__amount</th>\n",
       "      <th>discount_price__price_string</th>\n",
       "    </tr>\n",
       "  </thead>\n",
       "  <tbody>\n",
       "    <tr>\n",
       "      <th>0</th>\n",
       "      <td>455</td>\n",
       "      <td>455</td>\n",
       "    </tr>\n",
       "    <tr>\n",
       "      <th>1</th>\n",
       "      <td>455</td>\n",
       "      <td>455</td>\n",
       "    </tr>\n",
       "    <tr>\n",
       "      <th>2</th>\n",
       "      <td>455</td>\n",
       "      <td>455</td>\n",
       "    </tr>\n",
       "    <tr>\n",
       "      <th>3</th>\n",
       "      <td>455</td>\n",
       "      <td>455</td>\n",
       "    </tr>\n",
       "    <tr>\n",
       "      <th>4</th>\n",
       "      <td>455</td>\n",
       "      <td>455</td>\n",
       "    </tr>\n",
       "  </tbody>\n",
       "</table>\n",
       "</div>"
      ],
      "text/plain": [
       "   discount_price__amount discount_price__price_string\n",
       "0                     455                          455\n",
       "1                     455                          455\n",
       "2                     455                          455\n",
       "3                     455                          455\n",
       "4                     455                          455"
      ]
     },
     "execution_count": 29,
     "metadata": {},
     "output_type": "execute_result"
    }
   ],
   "source": [
    "discount_price['discount_price__price_string'] = discount_price['discount_price__price_string'].apply(lambda x: select_number(x))\n",
    "discount_price.head()"
   ]
  },
  {
   "cell_type": "code",
   "execution_count": null,
   "metadata": {
    "colab": {
     "base_uri": "https://localhost:8080/"
    },
    "id": "vfhnSDoLMnOD",
    "outputId": "a572e383-34f7-46fb-970c-bb2ff852f3fc"
   },
   "outputs": [
    {
     "name": "stdout",
     "output_type": "stream",
     "text": [
      "<class 'pandas.core.frame.DataFrame'>\n",
      "Int64Index: 8937 entries, 0 to 9446\n",
      "Data columns (total 2 columns):\n",
      " #   Column                        Non-Null Count  Dtype\n",
      "---  ------                        --------------  -----\n",
      " 0   discount_price__amount        8937 non-null   int64\n",
      " 1   discount_price__price_string  8937 non-null   int64\n",
      "dtypes: int64(2)\n",
      "memory usage: 209.5 KB\n"
     ]
    }
   ],
   "source": [
    "discount_price['discount_price__price_string'] = discount_price['discount_price__price_string'].apply(np.int64)\n",
    "discount_price.info()"
   ]
  },
  {
   "cell_type": "code",
   "execution_count": null,
   "metadata": {
    "id": "BaVi1HzkNBfG"
   },
   "outputs": [],
   "source": [
    "comparison_price = np.where(discount_price['discount_price__amount'] == discount_price['discount_price__price_string'], True, False)\n",
    "discount_price['comparison_price'] = comparison_price"
   ]
  },
  {
   "cell_type": "code",
   "execution_count": null,
   "metadata": {
    "colab": {
     "base_uri": "https://localhost:8080/"
    },
    "id": "Eny0vPAHNW01",
    "outputId": "f1fd9825-580b-419c-f0f7-ac9592faeb6b"
   },
   "outputs": [
    {
     "data": {
      "text/plain": [
       "True    8937\n",
       "Name: comparison_price, dtype: int64"
      ]
     },
     "execution_count": 32,
     "metadata": {},
     "output_type": "execute_result"
    }
   ],
   "source": [
    "discount_price['comparison_price'].value_counts()"
   ]
  },
  {
   "cell_type": "markdown",
   "metadata": {
    "id": "YxeRi4-kOFq_"
   },
   "source": [
    "kolom discount_price__amount dan discount_price__price_string ternyata memiliki nilai yang sama"
   ]
  },
  {
   "cell_type": "markdown",
   "metadata": {
    "id": "OLP-JtRsPBWN"
   },
   "source": [
    "## *Comparison* harga asli"
   ]
  },
  {
   "cell_type": "code",
   "execution_count": null,
   "metadata": {
    "id": "-JIrG9xYPBWS"
   },
   "outputs": [],
   "source": [
    "price = data[['price_detail__amount', 'price_detail__price_string']]"
   ]
  },
  {
   "cell_type": "code",
   "execution_count": null,
   "metadata": {
    "colab": {
     "base_uri": "https://localhost:8080/"
    },
    "id": "t9G-_Ff_PBWW",
    "outputId": "59f06368-3fbf-4404-8fe7-bbe236841f13"
   },
   "outputs": [
    {
     "data": {
      "text/html": [
       "<div>\n",
       "<style scoped>\n",
       "    .dataframe tbody tr th:only-of-type {\n",
       "        vertical-align: middle;\n",
       "    }\n",
       "\n",
       "    .dataframe tbody tr th {\n",
       "        vertical-align: top;\n",
       "    }\n",
       "\n",
       "    .dataframe thead th {\n",
       "        text-align: right;\n",
       "    }\n",
       "</style>\n",
       "<table border=\"1\" class=\"dataframe\">\n",
       "  <thead>\n",
       "    <tr style=\"text-align: right;\">\n",
       "      <th></th>\n",
       "      <th>price_detail__amount</th>\n",
       "      <th>price_detail__price_string</th>\n",
       "    </tr>\n",
       "  </thead>\n",
       "  <tbody>\n",
       "    <tr>\n",
       "      <th>0</th>\n",
       "      <td>8640.0</td>\n",
       "      <td>₹8,640</td>\n",
       "    </tr>\n",
       "    <tr>\n",
       "      <th>1</th>\n",
       "      <td>8640.0</td>\n",
       "      <td>₹8,640</td>\n",
       "    </tr>\n",
       "    <tr>\n",
       "      <th>2</th>\n",
       "      <td>8640.0</td>\n",
       "      <td>₹8,640</td>\n",
       "    </tr>\n",
       "    <tr>\n",
       "      <th>3</th>\n",
       "      <td>8640.0</td>\n",
       "      <td>₹8,640</td>\n",
       "    </tr>\n",
       "    <tr>\n",
       "      <th>4</th>\n",
       "      <td>8640.0</td>\n",
       "      <td>₹8,640</td>\n",
       "    </tr>\n",
       "  </tbody>\n",
       "</table>\n",
       "</div>"
      ],
      "text/plain": [
       "   price_detail__amount price_detail__price_string\n",
       "0                8640.0                     ₹8,640\n",
       "1                8640.0                     ₹8,640\n",
       "2                8640.0                     ₹8,640\n",
       "3                8640.0                     ₹8,640\n",
       "4                8640.0                     ₹8,640"
      ]
     },
     "execution_count": 34,
     "metadata": {},
     "output_type": "execute_result"
    }
   ],
   "source": [
    "price.head()"
   ]
  },
  {
   "cell_type": "code",
   "execution_count": null,
   "metadata": {
    "colab": {
     "base_uri": "https://localhost:8080/"
    },
    "id": "WDq2oTwGPBWY",
    "outputId": "9e5f25fe-7a8b-4791-f384-b0ab91e2beb2"
   },
   "outputs": [
    {
     "data": {
      "text/plain": [
       "price_detail__amount          0\n",
       "price_detail__price_string    0\n",
       "dtype: int64"
      ]
     },
     "execution_count": 35,
     "metadata": {},
     "output_type": "execute_result"
    }
   ],
   "source": [
    "price.isnull().sum()"
   ]
  },
  {
   "cell_type": "code",
   "execution_count": null,
   "metadata": {
    "id": "DXGZ4GMsPBWh"
   },
   "outputs": [],
   "source": [
    "discount_price = discount_price.dropna()"
   ]
  },
  {
   "cell_type": "code",
   "execution_count": null,
   "metadata": {
    "colab": {
     "base_uri": "https://localhost:8080/"
    },
    "id": "_qe1OqtZPBWr",
    "outputId": "800b3cd3-9c09-4e3e-c69f-0da63d8fbd2f"
   },
   "outputs": [
    {
     "name": "stderr",
     "output_type": "stream",
     "text": [
      "/usr/local/lib/python3.7/dist-packages/ipykernel_launcher.py:1: SettingWithCopyWarning: \n",
      "A value is trying to be set on a copy of a slice from a DataFrame.\n",
      "Try using .loc[row_indexer,col_indexer] = value instead\n",
      "\n",
      "See the caveats in the documentation: https://pandas.pydata.org/pandas-docs/stable/user_guide/indexing.html#returning-a-view-versus-a-copy\n",
      "  \"\"\"Entry point for launching an IPython kernel.\n"
     ]
    },
    {
     "data": {
      "text/html": [
       "<div>\n",
       "<style scoped>\n",
       "    .dataframe tbody tr th:only-of-type {\n",
       "        vertical-align: middle;\n",
       "    }\n",
       "\n",
       "    .dataframe tbody tr th {\n",
       "        vertical-align: top;\n",
       "    }\n",
       "\n",
       "    .dataframe thead th {\n",
       "        text-align: right;\n",
       "    }\n",
       "</style>\n",
       "<table border=\"1\" class=\"dataframe\">\n",
       "  <thead>\n",
       "    <tr style=\"text-align: right;\">\n",
       "      <th></th>\n",
       "      <th>price_detail__amount</th>\n",
       "      <th>price_detail__price_string</th>\n",
       "    </tr>\n",
       "  </thead>\n",
       "  <tbody>\n",
       "    <tr>\n",
       "      <th>0</th>\n",
       "      <td>8640</td>\n",
       "      <td>₹8,640</td>\n",
       "    </tr>\n",
       "    <tr>\n",
       "      <th>1</th>\n",
       "      <td>8640</td>\n",
       "      <td>₹8,640</td>\n",
       "    </tr>\n",
       "    <tr>\n",
       "      <th>2</th>\n",
       "      <td>8640</td>\n",
       "      <td>₹8,640</td>\n",
       "    </tr>\n",
       "    <tr>\n",
       "      <th>3</th>\n",
       "      <td>8640</td>\n",
       "      <td>₹8,640</td>\n",
       "    </tr>\n",
       "    <tr>\n",
       "      <th>4</th>\n",
       "      <td>8640</td>\n",
       "      <td>₹8,640</td>\n",
       "    </tr>\n",
       "  </tbody>\n",
       "</table>\n",
       "</div>"
      ],
      "text/plain": [
       "   price_detail__amount price_detail__price_string\n",
       "0                  8640                     ₹8,640\n",
       "1                  8640                     ₹8,640\n",
       "2                  8640                     ₹8,640\n",
       "3                  8640                     ₹8,640\n",
       "4                  8640                     ₹8,640"
      ]
     },
     "execution_count": 37,
     "metadata": {},
     "output_type": "execute_result"
    }
   ],
   "source": [
    "price['price_detail__amount'] = price['price_detail__amount'].apply(np.int64)\n",
    "price.head()"
   ]
  },
  {
   "cell_type": "code",
   "execution_count": null,
   "metadata": {
    "colab": {
     "base_uri": "https://localhost:8080/"
    },
    "id": "ZobAhLXBPBWv",
    "outputId": "151e3bed-0c67-458a-ad0e-c9e78f5c2716"
   },
   "outputs": [
    {
     "name": "stderr",
     "output_type": "stream",
     "text": [
      "/usr/local/lib/python3.7/dist-packages/ipykernel_launcher.py:1: SettingWithCopyWarning: \n",
      "A value is trying to be set on a copy of a slice from a DataFrame.\n",
      "Try using .loc[row_indexer,col_indexer] = value instead\n",
      "\n",
      "See the caveats in the documentation: https://pandas.pydata.org/pandas-docs/stable/user_guide/indexing.html#returning-a-view-versus-a-copy\n",
      "  \"\"\"Entry point for launching an IPython kernel.\n"
     ]
    },
    {
     "data": {
      "text/plain": [
       "price_detail__amount           int64\n",
       "price_detail__price_string    string\n",
       "dtype: object"
      ]
     },
     "execution_count": 38,
     "metadata": {},
     "output_type": "execute_result"
    }
   ],
   "source": [
    "price['price_detail__price_string'] = price['price_detail__price_string'].astype('string')\n",
    "price.dtypes"
   ]
  },
  {
   "cell_type": "code",
   "execution_count": null,
   "metadata": {
    "id": "3CNT1LUbPBZJ"
   },
   "outputs": [],
   "source": [
    "def select_number(text):\n",
    "  txt_nonumber = \"\".join([i for i in text if i in string.digits])\n",
    "  return txt_nonumber"
   ]
  },
  {
   "cell_type": "code",
   "execution_count": null,
   "metadata": {
    "colab": {
     "base_uri": "https://localhost:8080/"
    },
    "id": "jHcLkuIPPBZK",
    "outputId": "7ff628de-b81a-4715-992d-ab2244990fc2"
   },
   "outputs": [
    {
     "name": "stderr",
     "output_type": "stream",
     "text": [
      "/usr/local/lib/python3.7/dist-packages/ipykernel_launcher.py:1: SettingWithCopyWarning: \n",
      "A value is trying to be set on a copy of a slice from a DataFrame.\n",
      "Try using .loc[row_indexer,col_indexer] = value instead\n",
      "\n",
      "See the caveats in the documentation: https://pandas.pydata.org/pandas-docs/stable/user_guide/indexing.html#returning-a-view-versus-a-copy\n",
      "  \"\"\"Entry point for launching an IPython kernel.\n"
     ]
    },
    {
     "data": {
      "text/html": [
       "<div>\n",
       "<style scoped>\n",
       "    .dataframe tbody tr th:only-of-type {\n",
       "        vertical-align: middle;\n",
       "    }\n",
       "\n",
       "    .dataframe tbody tr th {\n",
       "        vertical-align: top;\n",
       "    }\n",
       "\n",
       "    .dataframe thead th {\n",
       "        text-align: right;\n",
       "    }\n",
       "</style>\n",
       "<table border=\"1\" class=\"dataframe\">\n",
       "  <thead>\n",
       "    <tr style=\"text-align: right;\">\n",
       "      <th></th>\n",
       "      <th>price_detail__amount</th>\n",
       "      <th>price_detail__price_string</th>\n",
       "    </tr>\n",
       "  </thead>\n",
       "  <tbody>\n",
       "    <tr>\n",
       "      <th>0</th>\n",
       "      <td>8640</td>\n",
       "      <td>8640</td>\n",
       "    </tr>\n",
       "    <tr>\n",
       "      <th>1</th>\n",
       "      <td>8640</td>\n",
       "      <td>8640</td>\n",
       "    </tr>\n",
       "    <tr>\n",
       "      <th>2</th>\n",
       "      <td>8640</td>\n",
       "      <td>8640</td>\n",
       "    </tr>\n",
       "    <tr>\n",
       "      <th>3</th>\n",
       "      <td>8640</td>\n",
       "      <td>8640</td>\n",
       "    </tr>\n",
       "    <tr>\n",
       "      <th>4</th>\n",
       "      <td>8640</td>\n",
       "      <td>8640</td>\n",
       "    </tr>\n",
       "  </tbody>\n",
       "</table>\n",
       "</div>"
      ],
      "text/plain": [
       "   price_detail__amount price_detail__price_string\n",
       "0                  8640                       8640\n",
       "1                  8640                       8640\n",
       "2                  8640                       8640\n",
       "3                  8640                       8640\n",
       "4                  8640                       8640"
      ]
     },
     "execution_count": 40,
     "metadata": {},
     "output_type": "execute_result"
    }
   ],
   "source": [
    "price['price_detail__price_string'] = price['price_detail__price_string'].apply(lambda x: select_number(x))\n",
    "price.head()"
   ]
  },
  {
   "cell_type": "code",
   "execution_count": null,
   "metadata": {
    "colab": {
     "base_uri": "https://localhost:8080/"
    },
    "id": "JYTBIsh7PBZO",
    "outputId": "daea2cba-48fb-40fd-e74d-4597bd6b885a"
   },
   "outputs": [
    {
     "name": "stdout",
     "output_type": "stream",
     "text": [
      "<class 'pandas.core.frame.DataFrame'>\n",
      "RangeIndex: 9447 entries, 0 to 9446\n",
      "Data columns (total 2 columns):\n",
      " #   Column                      Non-Null Count  Dtype\n",
      "---  ------                      --------------  -----\n",
      " 0   price_detail__amount        9447 non-null   int64\n",
      " 1   price_detail__price_string  9447 non-null   int64\n",
      "dtypes: int64(2)\n",
      "memory usage: 147.7 KB\n"
     ]
    },
    {
     "name": "stderr",
     "output_type": "stream",
     "text": [
      "/usr/local/lib/python3.7/dist-packages/ipykernel_launcher.py:1: SettingWithCopyWarning: \n",
      "A value is trying to be set on a copy of a slice from a DataFrame.\n",
      "Try using .loc[row_indexer,col_indexer] = value instead\n",
      "\n",
      "See the caveats in the documentation: https://pandas.pydata.org/pandas-docs/stable/user_guide/indexing.html#returning-a-view-versus-a-copy\n",
      "  \"\"\"Entry point for launching an IPython kernel.\n"
     ]
    }
   ],
   "source": [
    "price['price_detail__price_string'] = price['price_detail__price_string'].apply(np.int64)\n",
    "price.info()"
   ]
  },
  {
   "cell_type": "code",
   "execution_count": null,
   "metadata": {
    "colab": {
     "base_uri": "https://localhost:8080/"
    },
    "id": "-GlYXYWwPBZi",
    "outputId": "4f372b49-0caa-404c-f639-a93198db3e0f"
   },
   "outputs": [
    {
     "name": "stderr",
     "output_type": "stream",
     "text": [
      "/usr/local/lib/python3.7/dist-packages/ipykernel_launcher.py:2: SettingWithCopyWarning: \n",
      "A value is trying to be set on a copy of a slice from a DataFrame.\n",
      "Try using .loc[row_indexer,col_indexer] = value instead\n",
      "\n",
      "See the caveats in the documentation: https://pandas.pydata.org/pandas-docs/stable/user_guide/indexing.html#returning-a-view-versus-a-copy\n",
      "  \n"
     ]
    }
   ],
   "source": [
    "comparison_price_real = np.where(price['price_detail__amount'] == price['price_detail__price_string'], True, False)\n",
    "price['comparison_price_real'] = comparison_price_real"
   ]
  },
  {
   "cell_type": "code",
   "execution_count": null,
   "metadata": {
    "colab": {
     "base_uri": "https://localhost:8080/"
    },
    "id": "fljnqCoQPBZr",
    "outputId": "d1ecf8e5-9d66-41b0-c722-8b9579412aa0"
   },
   "outputs": [
    {
     "data": {
      "text/plain": [
       "True    9447\n",
       "Name: comparison_price_real, dtype: int64"
      ]
     },
     "execution_count": 43,
     "metadata": {},
     "output_type": "execute_result"
    }
   ],
   "source": [
    "price['comparison_price_real'].value_counts()"
   ]
  },
  {
   "cell_type": "markdown",
   "metadata": {
    "id": "IxvUj0AOPBZu"
   },
   "source": [
    "kolom Comparison kolom price_detail__amount dan kolom price_detail__price_string ternyata memiliki nilai yang sama dan ada 510 course yang tidak menerapkan diskon"
   ]
  },
  {
   "cell_type": "code",
   "execution_count": null,
   "metadata": {
    "id": "4trAqx6HUwrI"
   },
   "outputs": [],
   "source": [
    "non_discount = data[data['discount_price__amount'].isnull()]"
   ]
  },
  {
   "cell_type": "code",
   "execution_count": null,
   "metadata": {
    "colab": {
     "base_uri": "https://localhost:8080/"
    },
    "id": "8B4msUrhVNxB",
    "outputId": "ae355681-b013-4060-fd5c-8bbad65ab0a0"
   },
   "outputs": [
    {
     "data": {
      "text/html": [
       "<div>\n",
       "<style scoped>\n",
       "    .dataframe tbody tr th:only-of-type {\n",
       "        vertical-align: middle;\n",
       "    }\n",
       "\n",
       "    .dataframe tbody tr th {\n",
       "        vertical-align: top;\n",
       "    }\n",
       "\n",
       "    .dataframe thead th {\n",
       "        text-align: right;\n",
       "    }\n",
       "</style>\n",
       "<table border=\"1\" class=\"dataframe\">\n",
       "  <thead>\n",
       "    <tr style=\"text-align: right;\">\n",
       "      <th></th>\n",
       "      <th>id</th>\n",
       "      <th>title</th>\n",
       "      <th>url</th>\n",
       "      <th>is_paid</th>\n",
       "      <th>num_subscribers</th>\n",
       "      <th>avg_rating</th>\n",
       "      <th>avg_rating_recent</th>\n",
       "      <th>rating</th>\n",
       "      <th>num_reviews</th>\n",
       "      <th>is_wishlisted</th>\n",
       "      <th>num_published_lectures</th>\n",
       "      <th>num_published_practice_tests</th>\n",
       "      <th>created</th>\n",
       "      <th>published_time</th>\n",
       "      <th>discount_price__amount</th>\n",
       "      <th>discount_price__currency</th>\n",
       "      <th>discount_price__price_string</th>\n",
       "      <th>price_detail__amount</th>\n",
       "      <th>price_detail__currency</th>\n",
       "      <th>price_detail__price_string</th>\n",
       "    </tr>\n",
       "  </thead>\n",
       "  <tbody>\n",
       "    <tr>\n",
       "      <th>33</th>\n",
       "      <td>139166</td>\n",
       "      <td>Conscious Listening</td>\n",
       "      <td>/course/conscious-listening/</td>\n",
       "      <td>True</td>\n",
       "      <td>27681</td>\n",
       "      <td>4.47545</td>\n",
       "      <td>4.48064</td>\n",
       "      <td>4.48064</td>\n",
       "      <td>10671</td>\n",
       "      <td>False</td>\n",
       "      <td>14</td>\n",
       "      <td>0</td>\n",
       "      <td>2013-12-29T13:38:01Z</td>\n",
       "      <td>2013-12-31T16:51:18Z</td>\n",
       "      <td>NaN</td>\n",
       "      <td>NaN</td>\n",
       "      <td>NaN</td>\n",
       "      <td>2240.0</td>\n",
       "      <td>INR</td>\n",
       "      <td>₹2,240</td>\n",
       "    </tr>\n",
       "    <tr>\n",
       "      <th>39</th>\n",
       "      <td>2246852</td>\n",
       "      <td>Emotional Intelligence at Work: Learn from You...</td>\n",
       "      <td>/course/emotional-intelligence-at-work-learn-f...</td>\n",
       "      <td>True</td>\n",
       "      <td>20978</td>\n",
       "      <td>4.45476</td>\n",
       "      <td>4.45477</td>\n",
       "      <td>4.45477</td>\n",
       "      <td>9594</td>\n",
       "      <td>False</td>\n",
       "      <td>21</td>\n",
       "      <td>1</td>\n",
       "      <td>2019-02-28T23:37:10Z</td>\n",
       "      <td>2019-03-18T14:09:54Z</td>\n",
       "      <td>NaN</td>\n",
       "      <td>NaN</td>\n",
       "      <td>NaN</td>\n",
       "      <td>3200.0</td>\n",
       "      <td>INR</td>\n",
       "      <td>₹3,200</td>\n",
       "    </tr>\n",
       "    <tr>\n",
       "      <th>40</th>\n",
       "      <td>139200</td>\n",
       "      <td>Powerful speaking</td>\n",
       "      <td>/course/powerful-speaking/</td>\n",
       "      <td>True</td>\n",
       "      <td>34296</td>\n",
       "      <td>4.43750</td>\n",
       "      <td>4.45212</td>\n",
       "      <td>4.45212</td>\n",
       "      <td>9520</td>\n",
       "      <td>False</td>\n",
       "      <td>19</td>\n",
       "      <td>0</td>\n",
       "      <td>2013-12-29T15:38:47Z</td>\n",
       "      <td>2013-12-31T16:52:41Z</td>\n",
       "      <td>NaN</td>\n",
       "      <td>NaN</td>\n",
       "      <td>NaN</td>\n",
       "      <td>2240.0</td>\n",
       "      <td>INR</td>\n",
       "      <td>₹2,240</td>\n",
       "    </tr>\n",
       "    <tr>\n",
       "      <th>80</th>\n",
       "      <td>43319</td>\n",
       "      <td>Options Trading Basics (3-Course Bundle)</td>\n",
       "      <td>/course/learn-options-trading-courses/</td>\n",
       "      <td>True</td>\n",
       "      <td>28932</td>\n",
       "      <td>4.42527</td>\n",
       "      <td>4.41998</td>\n",
       "      <td>4.41998</td>\n",
       "      <td>4881</td>\n",
       "      <td>False</td>\n",
       "      <td>47</td>\n",
       "      <td>0</td>\n",
       "      <td>2013-02-24T14:47:08Z</td>\n",
       "      <td>2013-02-25T11:36:06Z</td>\n",
       "      <td>NaN</td>\n",
       "      <td>NaN</td>\n",
       "      <td>NaN</td>\n",
       "      <td>9600.0</td>\n",
       "      <td>INR</td>\n",
       "      <td>₹9,600</td>\n",
       "    </tr>\n",
       "    <tr>\n",
       "      <th>90</th>\n",
       "      <td>328266</td>\n",
       "      <td>Project Management Professional (PMP)® - 35 Co...</td>\n",
       "      <td>/course/pmp-certification-complete/</td>\n",
       "      <td>True</td>\n",
       "      <td>27653</td>\n",
       "      <td>4.40769</td>\n",
       "      <td>4.41472</td>\n",
       "      <td>4.41472</td>\n",
       "      <td>4579</td>\n",
       "      <td>False</td>\n",
       "      <td>345</td>\n",
       "      <td>0</td>\n",
       "      <td>2014-10-27T16:27:34Z</td>\n",
       "      <td>2014-11-05T21:07:38Z</td>\n",
       "      <td>NaN</td>\n",
       "      <td>NaN</td>\n",
       "      <td>NaN</td>\n",
       "      <td>12800.0</td>\n",
       "      <td>INR</td>\n",
       "      <td>₹12,800</td>\n",
       "    </tr>\n",
       "    <tr>\n",
       "      <th>...</th>\n",
       "      <td>...</td>\n",
       "      <td>...</td>\n",
       "      <td>...</td>\n",
       "      <td>...</td>\n",
       "      <td>...</td>\n",
       "      <td>...</td>\n",
       "      <td>...</td>\n",
       "      <td>...</td>\n",
       "      <td>...</td>\n",
       "      <td>...</td>\n",
       "      <td>...</td>\n",
       "      <td>...</td>\n",
       "      <td>...</td>\n",
       "      <td>...</td>\n",
       "      <td>...</td>\n",
       "      <td>...</td>\n",
       "      <td>...</td>\n",
       "      <td>...</td>\n",
       "      <td>...</td>\n",
       "      <td>...</td>\n",
       "    </tr>\n",
       "    <tr>\n",
       "      <th>9410</th>\n",
       "      <td>333014</td>\n",
       "      <td>Leadership Challenges</td>\n",
       "      <td>/course/leadership-challenges/</td>\n",
       "      <td>True</td>\n",
       "      <td>6</td>\n",
       "      <td>3.50000</td>\n",
       "      <td>3.27103</td>\n",
       "      <td>3.27103</td>\n",
       "      <td>3</td>\n",
       "      <td>False</td>\n",
       "      <td>15</td>\n",
       "      <td>0</td>\n",
       "      <td>2014-10-31T21:19:02Z</td>\n",
       "      <td>2014-11-22T01:54:02Z</td>\n",
       "      <td>NaN</td>\n",
       "      <td>NaN</td>\n",
       "      <td>NaN</td>\n",
       "      <td>1280.0</td>\n",
       "      <td>INR</td>\n",
       "      <td>₹1,280</td>\n",
       "    </tr>\n",
       "    <tr>\n",
       "      <th>9411</th>\n",
       "      <td>283448</td>\n",
       "      <td>Building Your Nonprofit Board - The Smart Way</td>\n",
       "      <td>/course/build-nonprofit-board/</td>\n",
       "      <td>True</td>\n",
       "      <td>55</td>\n",
       "      <td>4.33333</td>\n",
       "      <td>4.29669</td>\n",
       "      <td>4.29669</td>\n",
       "      <td>3</td>\n",
       "      <td>False</td>\n",
       "      <td>13</td>\n",
       "      <td>0</td>\n",
       "      <td>2014-08-19T02:36:57Z</td>\n",
       "      <td>2014-08-31T22:02:20Z</td>\n",
       "      <td>NaN</td>\n",
       "      <td>NaN</td>\n",
       "      <td>NaN</td>\n",
       "      <td>12480.0</td>\n",
       "      <td>INR</td>\n",
       "      <td>₹12,480</td>\n",
       "    </tr>\n",
       "    <tr>\n",
       "      <th>9412</th>\n",
       "      <td>229360</td>\n",
       "      <td>Level 1 2014 CFA® Program – Corporate Finance</td>\n",
       "      <td>/course/level-1-2014-cfa-program-corporate-fin...</td>\n",
       "      <td>True</td>\n",
       "      <td>223</td>\n",
       "      <td>4.33333</td>\n",
       "      <td>4.29610</td>\n",
       "      <td>4.29610</td>\n",
       "      <td>3</td>\n",
       "      <td>False</td>\n",
       "      <td>18</td>\n",
       "      <td>0</td>\n",
       "      <td>2014-05-26T05:44:55Z</td>\n",
       "      <td>2014-06-21T05:43:33Z</td>\n",
       "      <td>NaN</td>\n",
       "      <td>NaN</td>\n",
       "      <td>NaN</td>\n",
       "      <td>2560.0</td>\n",
       "      <td>INR</td>\n",
       "      <td>₹2,560</td>\n",
       "    </tr>\n",
       "    <tr>\n",
       "      <th>9413</th>\n",
       "      <td>767350</td>\n",
       "      <td>7) CSMF: Certified Strategic Modeling Facilitator</td>\n",
       "      <td>/course/csmf-certified-strategic-modeling-faci...</td>\n",
       "      <td>True</td>\n",
       "      <td>9</td>\n",
       "      <td>4.66667</td>\n",
       "      <td>4.76602</td>\n",
       "      <td>4.76602</td>\n",
       "      <td>3</td>\n",
       "      <td>False</td>\n",
       "      <td>22</td>\n",
       "      <td>0</td>\n",
       "      <td>2016-02-19T07:14:40Z</td>\n",
       "      <td>2016-03-11T18:20:15Z</td>\n",
       "      <td>NaN</td>\n",
       "      <td>NaN</td>\n",
       "      <td>NaN</td>\n",
       "      <td>7040.0</td>\n",
       "      <td>INR</td>\n",
       "      <td>₹7,040</td>\n",
       "    </tr>\n",
       "    <tr>\n",
       "      <th>9423</th>\n",
       "      <td>1557320</td>\n",
       "      <td>Working with Russians - understanding cultural...</td>\n",
       "      <td>/course/working-with-russians-understanding-cu...</td>\n",
       "      <td>True</td>\n",
       "      <td>8</td>\n",
       "      <td>4.33333</td>\n",
       "      <td>4.41305</td>\n",
       "      <td>4.41305</td>\n",
       "      <td>3</td>\n",
       "      <td>False</td>\n",
       "      <td>12</td>\n",
       "      <td>0</td>\n",
       "      <td>2018-02-16T13:28:35Z</td>\n",
       "      <td>2018-04-03T18:52:00Z</td>\n",
       "      <td>NaN</td>\n",
       "      <td>NaN</td>\n",
       "      <td>NaN</td>\n",
       "      <td>2240.0</td>\n",
       "      <td>INR</td>\n",
       "      <td>₹2,240</td>\n",
       "    </tr>\n",
       "  </tbody>\n",
       "</table>\n",
       "<p>510 rows × 20 columns</p>\n",
       "</div>"
      ],
      "text/plain": [
       "           id  ... price_detail__price_string\n",
       "33     139166  ...                     ₹2,240\n",
       "39    2246852  ...                     ₹3,200\n",
       "40     139200  ...                     ₹2,240\n",
       "80      43319  ...                     ₹9,600\n",
       "90     328266  ...                    ₹12,800\n",
       "...       ...  ...                        ...\n",
       "9410   333014  ...                     ₹1,280\n",
       "9411   283448  ...                    ₹12,480\n",
       "9412   229360  ...                     ₹2,560\n",
       "9413   767350  ...                     ₹7,040\n",
       "9423  1557320  ...                     ₹2,240\n",
       "\n",
       "[510 rows x 20 columns]"
      ]
     },
     "execution_count": 45,
     "metadata": {},
     "output_type": "execute_result"
    }
   ],
   "source": [
    "non_discount"
   ]
  },
  {
   "cell_type": "markdown",
   "metadata": {
    "id": "b9f2YIkAfGVa"
   },
   "source": [
    "## *Unique value*"
   ]
  },
  {
   "cell_type": "code",
   "execution_count": null,
   "metadata": {
    "colab": {
     "base_uri": "https://localhost:8080/"
    },
    "id": "2Jvc9MjqegfK",
    "outputId": "fe42bc76-14aa-4ecc-cec8-06a3af73ea32"
   },
   "outputs": [
    {
     "data": {
      "text/plain": [
       "True    9447\n",
       "Name: is_paid, dtype: int64"
      ]
     },
     "execution_count": 46,
     "metadata": {},
     "output_type": "execute_result"
    }
   ],
   "source": [
    "data['is_paid'].value_counts()"
   ]
  },
  {
   "cell_type": "markdown",
   "metadata": {
    "id": "5Gz9NOKogdav"
   },
   "source": [
    "ternyata dari hasil ilustrasi diatas, is_paid memiliki nilai True semuanya, sehingga bisa diartikan bahwa seluruh course telah dibayar oleh pengguna"
   ]
  },
  {
   "cell_type": "code",
   "execution_count": null,
   "metadata": {
    "colab": {
     "base_uri": "https://localhost:8080/"
    },
    "id": "XNKLLqVSgqMO",
    "outputId": "bf4ee16c-03d2-442c-a976-3b35ecee05c2"
   },
   "outputs": [
    {
     "data": {
      "text/plain": [
       "False    9447\n",
       "Name: is_wishlisted, dtype: int64"
      ]
     },
     "execution_count": 47,
     "metadata": {},
     "output_type": "execute_result"
    }
   ],
   "source": [
    "data['is_wishlisted'].value_counts()"
   ]
  },
  {
   "cell_type": "markdown",
   "metadata": {
    "id": "li-dpAZHgzku"
   },
   "source": [
    "ternyata dari hasil ilustrasi diatas, kolom is_wishlisted memiliki nilai False semuanya, sehingga bisa diartikan bahwa semua course bukan termasuk dari pilihan daftar keinginan pengguna"
   ]
  },
  {
   "cell_type": "code",
   "execution_count": null,
   "metadata": {
    "colab": {
     "base_uri": "https://localhost:8080/"
    },
    "id": "5-Xrqt7vhZp-",
    "outputId": "42dc43ec-1ec8-483a-ac1a-99d29d4d83bc"
   },
   "outputs": [
    {
     "data": {
      "text/plain": [
       "INR    8937\n",
       "Name: discount_price__currency, dtype: int64"
      ]
     },
     "execution_count": 48,
     "metadata": {},
     "output_type": "execute_result"
    }
   ],
   "source": [
    "data['discount_price__currency'].value_counts()"
   ]
  },
  {
   "cell_type": "code",
   "execution_count": null,
   "metadata": {
    "colab": {
     "base_uri": "https://localhost:8080/"
    },
    "id": "uK0hHpIZjmGJ",
    "outputId": "56a26e60-1a0b-4e51-e67b-962066f49970"
   },
   "outputs": [
    {
     "data": {
      "text/plain": [
       "array(['INR', nan], dtype=object)"
      ]
     },
     "execution_count": 49,
     "metadata": {},
     "output_type": "execute_result"
    }
   ],
   "source": [
    "data['discount_price__currency'].unique()"
   ]
  },
  {
   "cell_type": "markdown",
   "metadata": {
    "id": "6T8o2HWSia6h"
   },
   "source": [
    "ternyata dari hasil ilustrasi diatas, kolom discount_price_currency memiliki nilai mata uang yang sama. namun ada data kosong disana"
   ]
  },
  {
   "cell_type": "code",
   "execution_count": null,
   "metadata": {
    "colab": {
     "base_uri": "https://localhost:8080/"
    },
    "id": "BIa6xHk3iqRF",
    "outputId": "2ba2b1ba-b1b0-40b3-f753-daf73aed6c5f"
   },
   "outputs": [
    {
     "data": {
      "text/plain": [
       "INR    9447\n",
       "Name: price_detail__currency, dtype: int64"
      ]
     },
     "execution_count": 50,
     "metadata": {},
     "output_type": "execute_result"
    }
   ],
   "source": [
    "data['price_detail__currency'].value_counts()"
   ]
  },
  {
   "cell_type": "markdown",
   "metadata": {
    "id": "0cR-reAnjyyS"
   },
   "source": [
    "ternyata dari hasil ilustrasi diatas, kolom price_detail_currency memiliki nilai mata uang yang sama. tidak terdapat data kosong, mengingat jumlah nilai INR sama dengan jumlah baris dataset"
   ]
  },
  {
   "cell_type": "markdown",
   "metadata": {
    "id": "nLfeFLoClGdP"
   },
   "source": [
    "## *Comparison rating*"
   ]
  },
  {
   "cell_type": "code",
   "execution_count": null,
   "metadata": {
    "id": "FK3_BO9QlLRd"
   },
   "outputs": [],
   "source": [
    "rating = data[['avg_rating_recent', 'rating']]"
   ]
  },
  {
   "cell_type": "code",
   "execution_count": null,
   "metadata": {
    "colab": {
     "base_uri": "https://localhost:8080/"
    },
    "id": "kiwrMJ0slo9d",
    "outputId": "fd479e35-2026-4fbe-91c6-2e7a7cdc5eb5"
   },
   "outputs": [
    {
     "name": "stderr",
     "output_type": "stream",
     "text": [
      "/usr/local/lib/python3.7/dist-packages/ipykernel_launcher.py:2: SettingWithCopyWarning: \n",
      "A value is trying to be set on a copy of a slice from a DataFrame.\n",
      "Try using .loc[row_indexer,col_indexer] = value instead\n",
      "\n",
      "See the caveats in the documentation: https://pandas.pydata.org/pandas-docs/stable/user_guide/indexing.html#returning-a-view-versus-a-copy\n",
      "  \n"
     ]
    },
    {
     "data": {
      "text/html": [
       "<div>\n",
       "<style scoped>\n",
       "    .dataframe tbody tr th:only-of-type {\n",
       "        vertical-align: middle;\n",
       "    }\n",
       "\n",
       "    .dataframe tbody tr th {\n",
       "        vertical-align: top;\n",
       "    }\n",
       "\n",
       "    .dataframe thead th {\n",
       "        text-align: right;\n",
       "    }\n",
       "</style>\n",
       "<table border=\"1\" class=\"dataframe\">\n",
       "  <thead>\n",
       "    <tr style=\"text-align: right;\">\n",
       "      <th></th>\n",
       "      <th>avg_rating_recent</th>\n",
       "      <th>rating</th>\n",
       "      <th>comparison_rate</th>\n",
       "    </tr>\n",
       "  </thead>\n",
       "  <tbody>\n",
       "    <tr>\n",
       "      <th>0</th>\n",
       "      <td>4.67874</td>\n",
       "      <td>4.67874</td>\n",
       "      <td>True</td>\n",
       "    </tr>\n",
       "    <tr>\n",
       "      <th>1</th>\n",
       "      <td>4.60015</td>\n",
       "      <td>4.60015</td>\n",
       "      <td>True</td>\n",
       "    </tr>\n",
       "    <tr>\n",
       "      <th>2</th>\n",
       "      <td>4.59326</td>\n",
       "      <td>4.59326</td>\n",
       "      <td>True</td>\n",
       "    </tr>\n",
       "    <tr>\n",
       "      <th>3</th>\n",
       "      <td>4.53772</td>\n",
       "      <td>4.53772</td>\n",
       "      <td>True</td>\n",
       "    </tr>\n",
       "    <tr>\n",
       "      <th>4</th>\n",
       "      <td>4.47173</td>\n",
       "      <td>4.47173</td>\n",
       "      <td>True</td>\n",
       "    </tr>\n",
       "  </tbody>\n",
       "</table>\n",
       "</div>"
      ],
      "text/plain": [
       "   avg_rating_recent   rating  comparison_rate\n",
       "0            4.67874  4.67874             True\n",
       "1            4.60015  4.60015             True\n",
       "2            4.59326  4.59326             True\n",
       "3            4.53772  4.53772             True\n",
       "4            4.47173  4.47173             True"
      ]
     },
     "execution_count": 52,
     "metadata": {},
     "output_type": "execute_result"
    }
   ],
   "source": [
    "comparison_rate = np.where(rating['avg_rating_recent'] == rating['rating'], True, False)\n",
    "rating['comparison_rate'] = comparison_rate\n",
    "rating.head()"
   ]
  },
  {
   "cell_type": "code",
   "execution_count": null,
   "metadata": {
    "colab": {
     "base_uri": "https://localhost:8080/"
    },
    "id": "_POMUrwMmAwK",
    "outputId": "c91762c2-d7be-49f3-8f14-dc6ba87b8b83"
   },
   "outputs": [
    {
     "data": {
      "text/plain": [
       "array([ True])"
      ]
     },
     "execution_count": 53,
     "metadata": {},
     "output_type": "execute_result"
    }
   ],
   "source": [
    "rating['comparison_rate'].unique()"
   ]
  },
  {
   "cell_type": "markdown",
   "metadata": {
    "id": "sHFEnHUrmUFp"
   },
   "source": [
    "memastikan kembali, apakah rating saat ini dengan kolom rating memiliki nilai yang saa, karena sebelumnya dari informasi statiska, kedua kolom memiliki perhitungan statiska yang serupa. dan ternyata setelah di comparison, ternyata keduanya memiliki nilai yang sama"
   ]
  },
  {
   "cell_type": "markdown",
   "metadata": {
    "id": "96gNO0Kx1umi"
   },
   "source": [
    "## Jumlah *views*"
   ]
  },
  {
   "cell_type": "markdown",
   "metadata": {
    "id": "S8kc99JK1989"
   },
   "source": [
    "jumlah ulasan tidaklah boleh melebihi jumlah pelanggan. hal ini harus dipastikan terlebih dahulu"
   ]
  },
  {
   "cell_type": "code",
   "execution_count": null,
   "metadata": {
    "colab": {
     "base_uri": "https://localhost:8080/"
    },
    "id": "STKsi2UF11C3",
    "outputId": "70175080-ad99-402e-ed3f-040d0c8c25d5"
   },
   "outputs": [
    {
     "data": {
      "text/plain": [
       "0"
      ]
     },
     "execution_count": 54,
     "metadata": {},
     "output_type": "execute_result"
    }
   ],
   "source": [
    "review = (data['num_reviews'] > data['num_subscribers'])\n",
    "review.sum()"
   ]
  },
  {
   "cell_type": "markdown",
   "metadata": {
    "id": "oKvW70Aw2XQc"
   },
   "source": [
    "ternyata tidak, jadi data tersebut sesuai karena jumlah review tidak melebihi jumlah berlangganan"
   ]
  },
  {
   "cell_type": "markdown",
   "metadata": {
    "id": "AAr4aQHR5b2W"
   },
   "source": [
    "## *Published_time*"
   ]
  },
  {
   "cell_type": "code",
   "execution_count": null,
   "metadata": {
    "id": "-R7doAj25pTq"
   },
   "outputs": [],
   "source": [
    "time = data[['created','published_time']]"
   ]
  },
  {
   "cell_type": "code",
   "execution_count": null,
   "metadata": {
    "colab": {
     "base_uri": "https://localhost:8080/",
     "height": 206
    },
    "id": "JxW6jWHS5sa8",
    "outputId": "5ab26da7-30fb-406b-94de-029a07e1efc8"
   },
   "outputs": [
    {
     "data": {
      "text/html": [
       "<div>\n",
       "<style scoped>\n",
       "    .dataframe tbody tr th:only-of-type {\n",
       "        vertical-align: middle;\n",
       "    }\n",
       "\n",
       "    .dataframe tbody tr th {\n",
       "        vertical-align: top;\n",
       "    }\n",
       "\n",
       "    .dataframe thead th {\n",
       "        text-align: right;\n",
       "    }\n",
       "</style>\n",
       "<table border=\"1\" class=\"dataframe\">\n",
       "  <thead>\n",
       "    <tr style=\"text-align: right;\">\n",
       "      <th></th>\n",
       "      <th>created</th>\n",
       "      <th>published_time</th>\n",
       "    </tr>\n",
       "  </thead>\n",
       "  <tbody>\n",
       "    <tr>\n",
       "      <th>0</th>\n",
       "      <td>2016-02-14T22:57:48Z</td>\n",
       "      <td>2016-04-06T05:16:11Z</td>\n",
       "    </tr>\n",
       "    <tr>\n",
       "      <th>1</th>\n",
       "      <td>2016-08-22T12:10:18Z</td>\n",
       "      <td>2016-08-23T16:59:49Z</td>\n",
       "    </tr>\n",
       "    <tr>\n",
       "      <th>2</th>\n",
       "      <td>2017-09-26T16:32:48Z</td>\n",
       "      <td>2017-11-14T23:58:14Z</td>\n",
       "    </tr>\n",
       "    <tr>\n",
       "      <th>3</th>\n",
       "      <td>2015-10-23T13:34:35Z</td>\n",
       "      <td>2016-01-21T01:38:48Z</td>\n",
       "    </tr>\n",
       "    <tr>\n",
       "      <th>4</th>\n",
       "      <td>2015-10-12T06:39:46Z</td>\n",
       "      <td>2016-01-11T21:39:33Z</td>\n",
       "    </tr>\n",
       "  </tbody>\n",
       "</table>\n",
       "</div>"
      ],
      "text/plain": [
       "                created        published_time\n",
       "0  2016-02-14T22:57:48Z  2016-04-06T05:16:11Z\n",
       "1  2016-08-22T12:10:18Z  2016-08-23T16:59:49Z\n",
       "2  2017-09-26T16:32:48Z  2017-11-14T23:58:14Z\n",
       "3  2015-10-23T13:34:35Z  2016-01-21T01:38:48Z\n",
       "4  2015-10-12T06:39:46Z  2016-01-11T21:39:33Z"
      ]
     },
     "execution_count": 56,
     "metadata": {},
     "output_type": "execute_result"
    }
   ],
   "source": [
    "time.head()"
   ]
  },
  {
   "cell_type": "code",
   "execution_count": null,
   "metadata": {
    "colab": {
     "base_uri": "https://localhost:8080/"
    },
    "id": "iJI1uWND6V7D",
    "outputId": "3d9c4985-e119-4c62-c2aa-948f81d9542f"
   },
   "outputs": [
    {
     "name": "stderr",
     "output_type": "stream",
     "text": [
      "/usr/local/lib/python3.7/dist-packages/pandas/core/frame.py:3069: SettingWithCopyWarning: \n",
      "A value is trying to be set on a copy of a slice from a DataFrame.\n",
      "Try using .loc[row_indexer,col_indexer] = value instead\n",
      "\n",
      "See the caveats in the documentation: https://pandas.pydata.org/pandas-docs/stable/user_guide/indexing.html#returning-a-view-versus-a-copy\n",
      "  self[k1] = value[k2]\n"
     ]
    }
   ],
   "source": [
    "time[['created','published_time']] = time[['created','published_time']].apply(pd.to_datetime)"
   ]
  },
  {
   "cell_type": "code",
   "execution_count": null,
   "metadata": {
    "colab": {
     "base_uri": "https://localhost:8080/"
    },
    "id": "QCWgD0eI62oI",
    "outputId": "d9b93296-8f85-4c55-d27d-7469e5abdfe2"
   },
   "outputs": [
    {
     "name": "stdout",
     "output_type": "stream",
     "text": [
      "<class 'pandas.core.frame.DataFrame'>\n",
      "RangeIndex: 9447 entries, 0 to 9446\n",
      "Data columns (total 2 columns):\n",
      " #   Column          Non-Null Count  Dtype              \n",
      "---  ------          --------------  -----              \n",
      " 0   created         9447 non-null   datetime64[ns, UTC]\n",
      " 1   published_time  9447 non-null   datetime64[ns, UTC]\n",
      "dtypes: datetime64[ns, UTC](2)\n",
      "memory usage: 147.7 KB\n"
     ]
    }
   ],
   "source": [
    "time.info()"
   ]
  },
  {
   "cell_type": "code",
   "execution_count": null,
   "metadata": {
    "colab": {
     "base_uri": "https://localhost:8080/",
     "height": 434
    },
    "id": "_DiHJfB07H-U",
    "outputId": "8144a3e1-9365-4765-87ce-70fbc33cb996"
   },
   "outputs": [
    {
     "name": "stderr",
     "output_type": "stream",
     "text": [
      "/usr/local/lib/python3.7/dist-packages/ipykernel_launcher.py:1: SettingWithCopyWarning: \n",
      "A value is trying to be set on a copy of a slice from a DataFrame.\n",
      "Try using .loc[row_indexer,col_indexer] = value instead\n",
      "\n",
      "See the caveats in the documentation: https://pandas.pydata.org/pandas-docs/stable/user_guide/indexing.html#returning-a-view-versus-a-copy\n",
      "  \"\"\"Entry point for launching an IPython kernel.\n",
      "/usr/local/lib/python3.7/dist-packages/ipykernel_launcher.py:2: SettingWithCopyWarning: \n",
      "A value is trying to be set on a copy of a slice from a DataFrame.\n",
      "Try using .loc[row_indexer,col_indexer] = value instead\n",
      "\n",
      "See the caveats in the documentation: https://pandas.pydata.org/pandas-docs/stable/user_guide/indexing.html#returning-a-view-versus-a-copy\n",
      "  \n"
     ]
    },
    {
     "data": {
      "text/html": [
       "<div>\n",
       "<style scoped>\n",
       "    .dataframe tbody tr th:only-of-type {\n",
       "        vertical-align: middle;\n",
       "    }\n",
       "\n",
       "    .dataframe tbody tr th {\n",
       "        vertical-align: top;\n",
       "    }\n",
       "\n",
       "    .dataframe thead th {\n",
       "        text-align: right;\n",
       "    }\n",
       "</style>\n",
       "<table border=\"1\" class=\"dataframe\">\n",
       "  <thead>\n",
       "    <tr style=\"text-align: right;\">\n",
       "      <th></th>\n",
       "      <th>created</th>\n",
       "      <th>published_time</th>\n",
       "      <th>publish_year</th>\n",
       "      <th>create_year</th>\n",
       "    </tr>\n",
       "  </thead>\n",
       "  <tbody>\n",
       "    <tr>\n",
       "      <th>0</th>\n",
       "      <td>2016-02-14 22:57:48+00:00</td>\n",
       "      <td>2016-04-06 05:16:11+00:00</td>\n",
       "      <td>2016</td>\n",
       "      <td>2016</td>\n",
       "    </tr>\n",
       "    <tr>\n",
       "      <th>1</th>\n",
       "      <td>2016-08-22 12:10:18+00:00</td>\n",
       "      <td>2016-08-23 16:59:49+00:00</td>\n",
       "      <td>2016</td>\n",
       "      <td>2016</td>\n",
       "    </tr>\n",
       "    <tr>\n",
       "      <th>2</th>\n",
       "      <td>2017-09-26 16:32:48+00:00</td>\n",
       "      <td>2017-11-14 23:58:14+00:00</td>\n",
       "      <td>2017</td>\n",
       "      <td>2017</td>\n",
       "    </tr>\n",
       "    <tr>\n",
       "      <th>3</th>\n",
       "      <td>2015-10-23 13:34:35+00:00</td>\n",
       "      <td>2016-01-21 01:38:48+00:00</td>\n",
       "      <td>2016</td>\n",
       "      <td>2015</td>\n",
       "    </tr>\n",
       "    <tr>\n",
       "      <th>4</th>\n",
       "      <td>2015-10-12 06:39:46+00:00</td>\n",
       "      <td>2016-01-11 21:39:33+00:00</td>\n",
       "      <td>2016</td>\n",
       "      <td>2015</td>\n",
       "    </tr>\n",
       "  </tbody>\n",
       "</table>\n",
       "</div>"
      ],
      "text/plain": [
       "                    created  ... create_year\n",
       "0 2016-02-14 22:57:48+00:00  ...        2016\n",
       "1 2016-08-22 12:10:18+00:00  ...        2016\n",
       "2 2017-09-26 16:32:48+00:00  ...        2017\n",
       "3 2015-10-23 13:34:35+00:00  ...        2015\n",
       "4 2015-10-12 06:39:46+00:00  ...        2015\n",
       "\n",
       "[5 rows x 4 columns]"
      ]
     },
     "execution_count": 59,
     "metadata": {},
     "output_type": "execute_result"
    }
   ],
   "source": [
    "time['publish_year'] = pd.DatetimeIndex(time['published_time']).year\n",
    "time['create_year'] = pd.DatetimeIndex(time['created']).year\n",
    "time.head()"
   ]
  },
  {
   "cell_type": "code",
   "execution_count": null,
   "metadata": {
    "colab": {
     "base_uri": "https://localhost:8080/"
    },
    "id": "-ryB3sKB8c0F",
    "outputId": "cd70702f-3aed-49c4-beaf-6cc7d3ce8449"
   },
   "outputs": [
    {
     "name": "stderr",
     "output_type": "stream",
     "text": [
      "/usr/local/lib/python3.7/dist-packages/ipykernel_launcher.py:2: SettingWithCopyWarning: \n",
      "A value is trying to be set on a copy of a slice from a DataFrame.\n",
      "Try using .loc[row_indexer,col_indexer] = value instead\n",
      "\n",
      "See the caveats in the documentation: https://pandas.pydata.org/pandas-docs/stable/user_guide/indexing.html#returning-a-view-versus-a-copy\n",
      "  \n"
     ]
    },
    {
     "data": {
      "text/plain": [
       "True     8305\n",
       "False    1142\n",
       "Name: comparison_year, dtype: int64"
      ]
     },
     "execution_count": 60,
     "metadata": {},
     "output_type": "execute_result"
    }
   ],
   "source": [
    "comparison_year = np.where(time['publish_year'] == time['create_year'], True, False)\n",
    "time['comparison_year'] = comparison_year\n",
    "time['comparison_year'].value_counts()"
   ]
  },
  {
   "cell_type": "code",
   "execution_count": null,
   "metadata": {
    "colab": {
     "base_uri": "https://localhost:8080/",
     "height": 424
    },
    "id": "ex8qhFbgFv4t",
    "outputId": "fd2f9fc9-ce48-448e-faf9-ded489d7f4bb"
   },
   "outputs": [
    {
     "data": {
      "text/html": [
       "<div>\n",
       "<style scoped>\n",
       "    .dataframe tbody tr th:only-of-type {\n",
       "        vertical-align: middle;\n",
       "    }\n",
       "\n",
       "    .dataframe tbody tr th {\n",
       "        vertical-align: top;\n",
       "    }\n",
       "\n",
       "    .dataframe thead th {\n",
       "        text-align: right;\n",
       "    }\n",
       "</style>\n",
       "<table border=\"1\" class=\"dataframe\">\n",
       "  <thead>\n",
       "    <tr style=\"text-align: right;\">\n",
       "      <th></th>\n",
       "      <th>created</th>\n",
       "      <th>published_time</th>\n",
       "      <th>publish_year</th>\n",
       "      <th>create_year</th>\n",
       "      <th>comparison_year</th>\n",
       "    </tr>\n",
       "  </thead>\n",
       "  <tbody>\n",
       "    <tr>\n",
       "      <th>3</th>\n",
       "      <td>2015-10-23 13:34:35+00:00</td>\n",
       "      <td>2016-01-21 01:38:48+00:00</td>\n",
       "      <td>2016</td>\n",
       "      <td>2015</td>\n",
       "      <td>False</td>\n",
       "    </tr>\n",
       "    <tr>\n",
       "      <th>4</th>\n",
       "      <td>2015-10-12 06:39:46+00:00</td>\n",
       "      <td>2016-01-11 21:39:33+00:00</td>\n",
       "      <td>2016</td>\n",
       "      <td>2015</td>\n",
       "      <td>False</td>\n",
       "    </tr>\n",
       "    <tr>\n",
       "      <th>8</th>\n",
       "      <td>2015-11-18 19:35:12+00:00</td>\n",
       "      <td>2016-03-17 17:04:59+00:00</td>\n",
       "      <td>2016</td>\n",
       "      <td>2015</td>\n",
       "      <td>False</td>\n",
       "    </tr>\n",
       "    <tr>\n",
       "      <th>16</th>\n",
       "      <td>2016-10-27 21:39:22+00:00</td>\n",
       "      <td>2017-02-23 18:42:20+00:00</td>\n",
       "      <td>2017</td>\n",
       "      <td>2016</td>\n",
       "      <td>False</td>\n",
       "    </tr>\n",
       "    <tr>\n",
       "      <th>20</th>\n",
       "      <td>2016-12-08 13:48:36+00:00</td>\n",
       "      <td>2017-03-30 22:17:09+00:00</td>\n",
       "      <td>2017</td>\n",
       "      <td>2016</td>\n",
       "      <td>False</td>\n",
       "    </tr>\n",
       "    <tr>\n",
       "      <th>...</th>\n",
       "      <td>...</td>\n",
       "      <td>...</td>\n",
       "      <td>...</td>\n",
       "      <td>...</td>\n",
       "      <td>...</td>\n",
       "    </tr>\n",
       "    <tr>\n",
       "      <th>9398</th>\n",
       "      <td>2019-11-28 09:31:45+00:00</td>\n",
       "      <td>2020-07-13 13:24:16+00:00</td>\n",
       "      <td>2020</td>\n",
       "      <td>2019</td>\n",
       "      <td>False</td>\n",
       "    </tr>\n",
       "    <tr>\n",
       "      <th>9403</th>\n",
       "      <td>2018-10-29 09:42:39+00:00</td>\n",
       "      <td>2019-04-17 14:36:06+00:00</td>\n",
       "      <td>2019</td>\n",
       "      <td>2018</td>\n",
       "      <td>False</td>\n",
       "    </tr>\n",
       "    <tr>\n",
       "      <th>9408</th>\n",
       "      <td>2014-08-31 21:16:41+00:00</td>\n",
       "      <td>2020-01-24 03:08:12+00:00</td>\n",
       "      <td>2020</td>\n",
       "      <td>2014</td>\n",
       "      <td>False</td>\n",
       "    </tr>\n",
       "    <tr>\n",
       "      <th>9425</th>\n",
       "      <td>2017-11-14 19:30:25+00:00</td>\n",
       "      <td>2018-05-10 21:15:06+00:00</td>\n",
       "      <td>2018</td>\n",
       "      <td>2017</td>\n",
       "      <td>False</td>\n",
       "    </tr>\n",
       "    <tr>\n",
       "      <th>9438</th>\n",
       "      <td>2016-11-27 22:37:01+00:00</td>\n",
       "      <td>2018-11-30 18:00:29+00:00</td>\n",
       "      <td>2018</td>\n",
       "      <td>2016</td>\n",
       "      <td>False</td>\n",
       "    </tr>\n",
       "  </tbody>\n",
       "</table>\n",
       "<p>1142 rows × 5 columns</p>\n",
       "</div>"
      ],
      "text/plain": [
       "                       created  ... comparison_year\n",
       "3    2015-10-23 13:34:35+00:00  ...           False\n",
       "4    2015-10-12 06:39:46+00:00  ...           False\n",
       "8    2015-11-18 19:35:12+00:00  ...           False\n",
       "16   2016-10-27 21:39:22+00:00  ...           False\n",
       "20   2016-12-08 13:48:36+00:00  ...           False\n",
       "...                        ...  ...             ...\n",
       "9398 2019-11-28 09:31:45+00:00  ...           False\n",
       "9403 2018-10-29 09:42:39+00:00  ...           False\n",
       "9408 2014-08-31 21:16:41+00:00  ...           False\n",
       "9425 2017-11-14 19:30:25+00:00  ...           False\n",
       "9438 2016-11-27 22:37:01+00:00  ...           False\n",
       "\n",
       "[1142 rows x 5 columns]"
      ]
     },
     "execution_count": 61,
     "metadata": {},
     "output_type": "execute_result"
    }
   ],
   "source": [
    "time[time['comparison_year'] == False]"
   ]
  },
  {
   "cell_type": "code",
   "execution_count": null,
   "metadata": {
    "colab": {
     "base_uri": "https://localhost:8080/",
     "height": 330
    },
    "id": "M9K_D5A3G4DZ",
    "outputId": "8ae661ef-983b-4e44-be5e-0b2d7cba1aad"
   },
   "outputs": [
    {
     "name": "stderr",
     "output_type": "stream",
     "text": [
      "/usr/local/lib/python3.7/dist-packages/ipykernel_launcher.py:1: SettingWithCopyWarning: \n",
      "A value is trying to be set on a copy of a slice from a DataFrame.\n",
      "Try using .loc[row_indexer,col_indexer] = value instead\n",
      "\n",
      "See the caveats in the documentation: https://pandas.pydata.org/pandas-docs/stable/user_guide/indexing.html#returning-a-view-versus-a-copy\n",
      "  \"\"\"Entry point for launching an IPython kernel.\n"
     ]
    },
    {
     "data": {
      "text/html": [
       "<div>\n",
       "<style scoped>\n",
       "    .dataframe tbody tr th:only-of-type {\n",
       "        vertical-align: middle;\n",
       "    }\n",
       "\n",
       "    .dataframe tbody tr th {\n",
       "        vertical-align: top;\n",
       "    }\n",
       "\n",
       "    .dataframe thead th {\n",
       "        text-align: right;\n",
       "    }\n",
       "</style>\n",
       "<table border=\"1\" class=\"dataframe\">\n",
       "  <thead>\n",
       "    <tr style=\"text-align: right;\">\n",
       "      <th></th>\n",
       "      <th>created</th>\n",
       "      <th>published_time</th>\n",
       "      <th>publish_year</th>\n",
       "      <th>create_year</th>\n",
       "      <th>comparison_year</th>\n",
       "      <th>gap_days</th>\n",
       "    </tr>\n",
       "  </thead>\n",
       "  <tbody>\n",
       "    <tr>\n",
       "      <th>0</th>\n",
       "      <td>2016-02-14 22:57:48+00:00</td>\n",
       "      <td>2016-04-06 05:16:11+00:00</td>\n",
       "      <td>2016</td>\n",
       "      <td>2016</td>\n",
       "      <td>True</td>\n",
       "      <td>51</td>\n",
       "    </tr>\n",
       "    <tr>\n",
       "      <th>1</th>\n",
       "      <td>2016-08-22 12:10:18+00:00</td>\n",
       "      <td>2016-08-23 16:59:49+00:00</td>\n",
       "      <td>2016</td>\n",
       "      <td>2016</td>\n",
       "      <td>True</td>\n",
       "      <td>1</td>\n",
       "    </tr>\n",
       "    <tr>\n",
       "      <th>2</th>\n",
       "      <td>2017-09-26 16:32:48+00:00</td>\n",
       "      <td>2017-11-14 23:58:14+00:00</td>\n",
       "      <td>2017</td>\n",
       "      <td>2017</td>\n",
       "      <td>True</td>\n",
       "      <td>49</td>\n",
       "    </tr>\n",
       "    <tr>\n",
       "      <th>3</th>\n",
       "      <td>2015-10-23 13:34:35+00:00</td>\n",
       "      <td>2016-01-21 01:38:48+00:00</td>\n",
       "      <td>2016</td>\n",
       "      <td>2015</td>\n",
       "      <td>False</td>\n",
       "      <td>89</td>\n",
       "    </tr>\n",
       "    <tr>\n",
       "      <th>4</th>\n",
       "      <td>2015-10-12 06:39:46+00:00</td>\n",
       "      <td>2016-01-11 21:39:33+00:00</td>\n",
       "      <td>2016</td>\n",
       "      <td>2015</td>\n",
       "      <td>False</td>\n",
       "      <td>91</td>\n",
       "    </tr>\n",
       "  </tbody>\n",
       "</table>\n",
       "</div>"
      ],
      "text/plain": [
       "                    created  ... gap_days\n",
       "0 2016-02-14 22:57:48+00:00  ...       51\n",
       "1 2016-08-22 12:10:18+00:00  ...        1\n",
       "2 2017-09-26 16:32:48+00:00  ...       49\n",
       "3 2015-10-23 13:34:35+00:00  ...       89\n",
       "4 2015-10-12 06:39:46+00:00  ...       91\n",
       "\n",
       "[5 rows x 6 columns]"
      ]
     },
     "execution_count": 62,
     "metadata": {},
     "output_type": "execute_result"
    }
   ],
   "source": [
    "time['gap_days'] = (time['published_time'] - time['created']).dt.days\n",
    "time.head()"
   ]
  },
  {
   "cell_type": "code",
   "execution_count": null,
   "metadata": {
    "colab": {
     "base_uri": "https://localhost:8080/"
    },
    "id": "ZVyaQD_XHuVC",
    "outputId": "f1284596-7ebb-4bab-a87b-48cabfda660d"
   },
   "outputs": [
    {
     "data": {
      "text/plain": [
       "count    9447.000000\n",
       "mean       53.526305\n",
       "std       130.702036\n",
       "min        -1.000000\n",
       "25%         4.000000\n",
       "50%        14.000000\n",
       "75%        44.000000\n",
       "max      1971.000000\n",
       "Name: gap_days, dtype: float64"
      ]
     },
     "execution_count": 63,
     "metadata": {},
     "output_type": "execute_result"
    }
   ],
   "source": [
    "time['gap_days'].describe()"
   ]
  },
  {
   "cell_type": "code",
   "execution_count": null,
   "metadata": {
    "colab": {
     "base_uri": "https://localhost:8080/"
    },
    "id": "t0NFmp8EJMiP",
    "outputId": "314af4c1-e0c7-449e-f711-d13f6132077d"
   },
   "outputs": [
    {
     "data": {
      "text/plain": [
       "[2010, 2011, 2012, 2013, 2014, 2015, 2016, 2017, 2018, 2019, 2020]"
      ]
     },
     "execution_count": 64,
     "metadata": {},
     "output_type": "execute_result"
    }
   ],
   "source": [
    "sorted(time['publish_year'].unique())"
   ]
  },
  {
   "cell_type": "code",
   "execution_count": null,
   "metadata": {
    "colab": {
     "base_uri": "https://localhost:8080/"
    },
    "id": "8c3iXagcJyMN",
    "outputId": "c0fd0702-7e5f-48c4-cf9c-4cbd06ab2e23"
   },
   "outputs": [
    {
     "data": {
      "text/plain": [
       "[2010, 2011, 2012, 2013, 2014, 2015, 2016, 2017, 2018, 2019, 2020]"
      ]
     },
     "execution_count": 65,
     "metadata": {},
     "output_type": "execute_result"
    }
   ],
   "source": [
    "sorted(time['create_year'].unique())"
   ]
  },
  {
   "cell_type": "code",
   "execution_count": null,
   "metadata": {
    "colab": {
     "base_uri": "https://localhost:8080/"
    },
    "id": "j3pxnyBcFzKv",
    "outputId": "bf891f86-105f-4c8f-d54d-af2b81362027"
   },
   "outputs": [
    {
     "data": {
      "text/plain": [
       "Int64Index([ 4,  8, 11,  1,  1,  5,  6, 11,  3,  4,\n",
       "            ...\n",
       "            10, 11, 10,  7,  8, 10, 12, 10,  1,  2],\n",
       "           dtype='int64', name='published_time', length=9447)"
      ]
     },
     "execution_count": 66,
     "metadata": {},
     "output_type": "execute_result"
    }
   ],
   "source": [
    "pd.DatetimeIndex(time['published_time']).month"
   ]
  },
  {
   "cell_type": "markdown",
   "metadata": {
    "id": "DNOXiCU6P-Bm"
   },
   "source": [
    "# Pre-Processing"
   ]
  },
  {
   "cell_type": "markdown",
   "metadata": {
    "id": "xLv1fzwaQEyc"
   },
   "source": [
    "## Time (count) x Subscribe"
   ]
  },
  {
   "cell_type": "code",
   "execution_count": null,
   "metadata": {
    "id": "MyvLCde_QDlx"
   },
   "outputs": [],
   "source": [
    "time_subs = data"
   ]
  },
  {
   "cell_type": "code",
   "execution_count": null,
   "metadata": {
    "colab": {
     "base_uri": "https://localhost:8080/"
    },
    "id": "Yhb2x5Q7QTly",
    "outputId": "a388c1dd-9dd1-4b0a-c89f-ba46ca62160f"
   },
   "outputs": [
    {
     "name": "stdout",
     "output_type": "stream",
     "text": [
      "<class 'pandas.core.frame.DataFrame'>\n",
      "RangeIndex: 9447 entries, 0 to 9446\n",
      "Data columns (total 20 columns):\n",
      " #   Column                        Non-Null Count  Dtype              \n",
      "---  ------                        --------------  -----              \n",
      " 0   id                            9447 non-null   int64              \n",
      " 1   title                         9447 non-null   object             \n",
      " 2   url                           9447 non-null   object             \n",
      " 3   is_paid                       9447 non-null   bool               \n",
      " 4   num_subscribers               9447 non-null   int64              \n",
      " 5   avg_rating                    9447 non-null   float64            \n",
      " 6   avg_rating_recent             9447 non-null   float64            \n",
      " 7   rating                        9447 non-null   float64            \n",
      " 8   num_reviews                   9447 non-null   int64              \n",
      " 9   is_wishlisted                 9447 non-null   bool               \n",
      " 10  num_published_lectures        9447 non-null   int64              \n",
      " 11  num_published_practice_tests  9447 non-null   int64              \n",
      " 12  created                       9447 non-null   datetime64[ns, UTC]\n",
      " 13  published_time                9447 non-null   datetime64[ns, UTC]\n",
      " 14  discount_price__amount        8937 non-null   float64            \n",
      " 15  discount_price__currency      8937 non-null   object             \n",
      " 16  discount_price__price_string  8937 non-null   object             \n",
      " 17  price_detail__amount          9447 non-null   float64            \n",
      " 18  price_detail__currency        9447 non-null   object             \n",
      " 19  price_detail__price_string    9447 non-null   object             \n",
      "dtypes: bool(2), datetime64[ns, UTC](2), float64(5), int64(5), object(6)\n",
      "memory usage: 1.3+ MB\n"
     ]
    }
   ],
   "source": [
    "time_subs[['created','published_time']] = time_subs[['created','published_time']].apply(pd.to_datetime)\n",
    "time_subs.info()"
   ]
  },
  {
   "cell_type": "code",
   "execution_count": null,
   "metadata": {
    "colab": {
     "base_uri": "https://localhost:8080/",
     "height": 521
    },
    "id": "tlUSoi2CQjh3",
    "outputId": "67bd1b43-3508-4286-f948-382564c234b6"
   },
   "outputs": [
    {
     "data": {
      "text/html": [
       "<div>\n",
       "<style scoped>\n",
       "    .dataframe tbody tr th:only-of-type {\n",
       "        vertical-align: middle;\n",
       "    }\n",
       "\n",
       "    .dataframe tbody tr th {\n",
       "        vertical-align: top;\n",
       "    }\n",
       "\n",
       "    .dataframe thead th {\n",
       "        text-align: right;\n",
       "    }\n",
       "</style>\n",
       "<table border=\"1\" class=\"dataframe\">\n",
       "  <thead>\n",
       "    <tr style=\"text-align: right;\">\n",
       "      <th></th>\n",
       "      <th>id</th>\n",
       "      <th>title</th>\n",
       "      <th>url</th>\n",
       "      <th>is_paid</th>\n",
       "      <th>num_subscribers</th>\n",
       "      <th>avg_rating</th>\n",
       "      <th>avg_rating_recent</th>\n",
       "      <th>rating</th>\n",
       "      <th>num_reviews</th>\n",
       "      <th>is_wishlisted</th>\n",
       "      <th>num_published_lectures</th>\n",
       "      <th>num_published_practice_tests</th>\n",
       "      <th>created</th>\n",
       "      <th>published_time</th>\n",
       "      <th>discount_price__amount</th>\n",
       "      <th>discount_price__currency</th>\n",
       "      <th>discount_price__price_string</th>\n",
       "      <th>price_detail__amount</th>\n",
       "      <th>price_detail__currency</th>\n",
       "      <th>price_detail__price_string</th>\n",
       "      <th>publish_year</th>\n",
       "      <th>create_year</th>\n",
       "    </tr>\n",
       "  </thead>\n",
       "  <tbody>\n",
       "    <tr>\n",
       "      <th>0</th>\n",
       "      <td>762616</td>\n",
       "      <td>The Complete SQL Bootcamp 2020: Go from Zero t...</td>\n",
       "      <td>/course/the-complete-sql-bootcamp/</td>\n",
       "      <td>True</td>\n",
       "      <td>295509</td>\n",
       "      <td>4.66019</td>\n",
       "      <td>4.67874</td>\n",
       "      <td>4.67874</td>\n",
       "      <td>78006</td>\n",
       "      <td>False</td>\n",
       "      <td>84</td>\n",
       "      <td>0</td>\n",
       "      <td>2016-02-14 22:57:48+00:00</td>\n",
       "      <td>2016-04-06 05:16:11+00:00</td>\n",
       "      <td>455.0</td>\n",
       "      <td>INR</td>\n",
       "      <td>₹455</td>\n",
       "      <td>8640.0</td>\n",
       "      <td>INR</td>\n",
       "      <td>₹8,640</td>\n",
       "      <td>2016</td>\n",
       "      <td>2016</td>\n",
       "    </tr>\n",
       "    <tr>\n",
       "      <th>1</th>\n",
       "      <td>937678</td>\n",
       "      <td>Tableau 2020 A-Z: Hands-On Tableau Training fo...</td>\n",
       "      <td>/course/tableau10/</td>\n",
       "      <td>True</td>\n",
       "      <td>209070</td>\n",
       "      <td>4.58956</td>\n",
       "      <td>4.60015</td>\n",
       "      <td>4.60015</td>\n",
       "      <td>54581</td>\n",
       "      <td>False</td>\n",
       "      <td>78</td>\n",
       "      <td>0</td>\n",
       "      <td>2016-08-22 12:10:18+00:00</td>\n",
       "      <td>2016-08-23 16:59:49+00:00</td>\n",
       "      <td>455.0</td>\n",
       "      <td>INR</td>\n",
       "      <td>₹455</td>\n",
       "      <td>8640.0</td>\n",
       "      <td>INR</td>\n",
       "      <td>₹8,640</td>\n",
       "      <td>2016</td>\n",
       "      <td>2016</td>\n",
       "    </tr>\n",
       "    <tr>\n",
       "      <th>2</th>\n",
       "      <td>1361790</td>\n",
       "      <td>PMP Exam Prep Seminar -  PMBOK Guide 6</td>\n",
       "      <td>/course/pmp-pmbok6-35-pdus/</td>\n",
       "      <td>True</td>\n",
       "      <td>155282</td>\n",
       "      <td>4.59491</td>\n",
       "      <td>4.59326</td>\n",
       "      <td>4.59326</td>\n",
       "      <td>52653</td>\n",
       "      <td>False</td>\n",
       "      <td>292</td>\n",
       "      <td>2</td>\n",
       "      <td>2017-09-26 16:32:48+00:00</td>\n",
       "      <td>2017-11-14 23:58:14+00:00</td>\n",
       "      <td>455.0</td>\n",
       "      <td>INR</td>\n",
       "      <td>₹455</td>\n",
       "      <td>8640.0</td>\n",
       "      <td>INR</td>\n",
       "      <td>₹8,640</td>\n",
       "      <td>2017</td>\n",
       "      <td>2017</td>\n",
       "    </tr>\n",
       "    <tr>\n",
       "      <th>3</th>\n",
       "      <td>648826</td>\n",
       "      <td>The Complete Financial Analyst Course 2020</td>\n",
       "      <td>/course/the-complete-financial-analyst-course/</td>\n",
       "      <td>True</td>\n",
       "      <td>245860</td>\n",
       "      <td>4.54407</td>\n",
       "      <td>4.53772</td>\n",
       "      <td>4.53772</td>\n",
       "      <td>46447</td>\n",
       "      <td>False</td>\n",
       "      <td>338</td>\n",
       "      <td>0</td>\n",
       "      <td>2015-10-23 13:34:35+00:00</td>\n",
       "      <td>2016-01-21 01:38:48+00:00</td>\n",
       "      <td>455.0</td>\n",
       "      <td>INR</td>\n",
       "      <td>₹455</td>\n",
       "      <td>8640.0</td>\n",
       "      <td>INR</td>\n",
       "      <td>₹8,640</td>\n",
       "      <td>2016</td>\n",
       "      <td>2015</td>\n",
       "    </tr>\n",
       "    <tr>\n",
       "      <th>4</th>\n",
       "      <td>637930</td>\n",
       "      <td>An Entire MBA in 1 Course:Award Winning Busine...</td>\n",
       "      <td>/course/an-entire-mba-in-1-courseaward-winning...</td>\n",
       "      <td>True</td>\n",
       "      <td>374836</td>\n",
       "      <td>4.47080</td>\n",
       "      <td>4.47173</td>\n",
       "      <td>4.47173</td>\n",
       "      <td>41630</td>\n",
       "      <td>False</td>\n",
       "      <td>83</td>\n",
       "      <td>0</td>\n",
       "      <td>2015-10-12 06:39:46+00:00</td>\n",
       "      <td>2016-01-11 21:39:33+00:00</td>\n",
       "      <td>455.0</td>\n",
       "      <td>INR</td>\n",
       "      <td>₹455</td>\n",
       "      <td>8640.0</td>\n",
       "      <td>INR</td>\n",
       "      <td>₹8,640</td>\n",
       "      <td>2016</td>\n",
       "      <td>2015</td>\n",
       "    </tr>\n",
       "  </tbody>\n",
       "</table>\n",
       "</div>"
      ],
      "text/plain": [
       "        id  ... create_year\n",
       "0   762616  ...        2016\n",
       "1   937678  ...        2016\n",
       "2  1361790  ...        2017\n",
       "3   648826  ...        2015\n",
       "4   637930  ...        2015\n",
       "\n",
       "[5 rows x 22 columns]"
      ]
     },
     "execution_count": 69,
     "metadata": {},
     "output_type": "execute_result"
    }
   ],
   "source": [
    "time_subs['publish_year'] = pd.DatetimeIndex(time['published_time']).year\n",
    "time_subs['create_year'] = pd.DatetimeIndex(time['created']).year\n",
    "time_subs.head()"
   ]
  },
  {
   "cell_type": "code",
   "execution_count": null,
   "metadata": {
    "colab": {
     "base_uri": "https://localhost:8080/",
     "height": 519
    },
    "id": "vRG3yiHLkz9E",
    "outputId": "a58a68bf-d328-41a6-98a2-94eae59f7951"
   },
   "outputs": [
    {
     "data": {
      "image/png": "[encoded data removed]",
      "text/plain": [
       "<Figure size 648x432 with 2 Axes>"
      ]
     },
     "metadata": {},
     "output_type": "display_data"
    }
   ],
   "source": [
    "corr = time_subs.corr()\n",
    "\n",
    "f,ax = plt.subplots(figsize=(9,6))\n",
    "sns.heatmap(corr,annot = True, linewidths= 1.5, fmt = '.2f', ax=ax)\n",
    "\n",
    "plt.show()"
   ]
  },
  {
   "cell_type": "code",
   "execution_count": null,
   "metadata": {
    "colab": {
     "base_uri": "https://localhost:8080/"
    },
    "id": "yv0nYr-9UDNc",
    "outputId": "dfe9bd94-84ff-4e50-dc12-b31ab81c0347"
   },
   "outputs": [
    {
     "name": "stdout",
     "output_type": "stream",
     "text": [
      "publish_year\n",
      "2010       1\n",
      "2011       9\n",
      "2012      64\n",
      "2013     310\n",
      "2014     616\n",
      "2015    1276\n",
      "2016    1077\n",
      "2017    1489\n",
      "2018    1906\n",
      "2019    1564\n",
      "2020    1135\n",
      "Name: publish_year, dtype: int64\n"
     ]
    }
   ],
   "source": [
    "count_year = time_subs.groupby('publish_year').publish_year.count()\n",
    "print(count_year)"
   ]
  },
  {
   "cell_type": "code",
   "execution_count": null,
   "metadata": {
    "id": "mIRBjVIEXwf4"
   },
   "outputs": [],
   "source": [
    "num_year = pd.DataFrame({'Count': time_subs.groupby('publish_year').size()}).reset_index()"
   ]
  },
  {
   "cell_type": "code",
   "execution_count": null,
   "metadata": {
    "colab": {
     "base_uri": "https://localhost:8080/",
     "height": 394
    },
    "id": "Tqj-JRDJYQci",
    "outputId": "d1904b39-0857-4fbf-c240-f925cdc3d5f2"
   },
   "outputs": [
    {
     "data": {
      "text/html": [
       "<div>\n",
       "<style scoped>\n",
       "    .dataframe tbody tr th:only-of-type {\n",
       "        vertical-align: middle;\n",
       "    }\n",
       "\n",
       "    .dataframe tbody tr th {\n",
       "        vertical-align: top;\n",
       "    }\n",
       "\n",
       "    .dataframe thead th {\n",
       "        text-align: right;\n",
       "    }\n",
       "</style>\n",
       "<table border=\"1\" class=\"dataframe\">\n",
       "  <thead>\n",
       "    <tr style=\"text-align: right;\">\n",
       "      <th></th>\n",
       "      <th>publish_year</th>\n",
       "      <th>Count</th>\n",
       "    </tr>\n",
       "  </thead>\n",
       "  <tbody>\n",
       "    <tr>\n",
       "      <th>0</th>\n",
       "      <td>2010</td>\n",
       "      <td>1</td>\n",
       "    </tr>\n",
       "    <tr>\n",
       "      <th>1</th>\n",
       "      <td>2011</td>\n",
       "      <td>9</td>\n",
       "    </tr>\n",
       "    <tr>\n",
       "      <th>2</th>\n",
       "      <td>2012</td>\n",
       "      <td>64</td>\n",
       "    </tr>\n",
       "    <tr>\n",
       "      <th>3</th>\n",
       "      <td>2013</td>\n",
       "      <td>310</td>\n",
       "    </tr>\n",
       "    <tr>\n",
       "      <th>4</th>\n",
       "      <td>2014</td>\n",
       "      <td>616</td>\n",
       "    </tr>\n",
       "    <tr>\n",
       "      <th>5</th>\n",
       "      <td>2015</td>\n",
       "      <td>1276</td>\n",
       "    </tr>\n",
       "    <tr>\n",
       "      <th>6</th>\n",
       "      <td>2016</td>\n",
       "      <td>1077</td>\n",
       "    </tr>\n",
       "    <tr>\n",
       "      <th>7</th>\n",
       "      <td>2017</td>\n",
       "      <td>1489</td>\n",
       "    </tr>\n",
       "    <tr>\n",
       "      <th>8</th>\n",
       "      <td>2018</td>\n",
       "      <td>1906</td>\n",
       "    </tr>\n",
       "    <tr>\n",
       "      <th>9</th>\n",
       "      <td>2019</td>\n",
       "      <td>1564</td>\n",
       "    </tr>\n",
       "    <tr>\n",
       "      <th>10</th>\n",
       "      <td>2020</td>\n",
       "      <td>1135</td>\n",
       "    </tr>\n",
       "  </tbody>\n",
       "</table>\n",
       "</div>"
      ],
      "text/plain": [
       "    publish_year  Count\n",
       "0           2010      1\n",
       "1           2011      9\n",
       "2           2012     64\n",
       "3           2013    310\n",
       "4           2014    616\n",
       "5           2015   1276\n",
       "6           2016   1077\n",
       "7           2017   1489\n",
       "8           2018   1906\n",
       "9           2019   1564\n",
       "10          2020   1135"
      ]
     },
     "execution_count": 73,
     "metadata": {},
     "output_type": "execute_result"
    }
   ],
   "source": [
    "num_year"
   ]
  },
  {
   "cell_type": "code",
   "execution_count": null,
   "metadata": {
    "id": "KSfTmFEsZoqz"
   },
   "outputs": [],
   "source": [
    "num_year['num_subscribe'] = time_subs.groupby('publish_year').count().num_subscribers.reset_index(level=0, drop=True) "
   ]
  },
  {
   "cell_type": "code",
   "execution_count": null,
   "metadata": {
    "id": "3uUiQYq2mYVQ"
   },
   "outputs": [],
   "source": [
    "num_year['num_subscribe'] = time_subs.groupby('publish_year')['num_subscribers'].sum().reset_index(level=0, drop=True)"
   ]
  },
  {
   "cell_type": "code",
   "execution_count": null,
   "metadata": {
    "colab": {
     "base_uri": "https://localhost:8080/",
     "height": 394
    },
    "id": "elccSyhZaJqd",
    "outputId": "4c266a5a-6ce5-4025-cc6a-b48bd0c3a8e0"
   },
   "outputs": [
    {
     "data": {
      "text/html": [
       "<div>\n",
       "<style scoped>\n",
       "    .dataframe tbody tr th:only-of-type {\n",
       "        vertical-align: middle;\n",
       "    }\n",
       "\n",
       "    .dataframe tbody tr th {\n",
       "        vertical-align: top;\n",
       "    }\n",
       "\n",
       "    .dataframe thead th {\n",
       "        text-align: right;\n",
       "    }\n",
       "</style>\n",
       "<table border=\"1\" class=\"dataframe\">\n",
       "  <thead>\n",
       "    <tr style=\"text-align: right;\">\n",
       "      <th></th>\n",
       "      <th>publish_year</th>\n",
       "      <th>Count</th>\n",
       "      <th>num_subscribe</th>\n",
       "    </tr>\n",
       "  </thead>\n",
       "  <tbody>\n",
       "    <tr>\n",
       "      <th>0</th>\n",
       "      <td>2010</td>\n",
       "      <td>1</td>\n",
       "      <td>2268</td>\n",
       "    </tr>\n",
       "    <tr>\n",
       "      <th>1</th>\n",
       "      <td>2011</td>\n",
       "      <td>9</td>\n",
       "      <td>25558</td>\n",
       "    </tr>\n",
       "    <tr>\n",
       "      <th>2</th>\n",
       "      <td>2012</td>\n",
       "      <td>64</td>\n",
       "      <td>112534</td>\n",
       "    </tr>\n",
       "    <tr>\n",
       "      <th>3</th>\n",
       "      <td>2013</td>\n",
       "      <td>310</td>\n",
       "      <td>1126285</td>\n",
       "    </tr>\n",
       "    <tr>\n",
       "      <th>4</th>\n",
       "      <td>2014</td>\n",
       "      <td>616</td>\n",
       "      <td>2541546</td>\n",
       "    </tr>\n",
       "    <tr>\n",
       "      <th>5</th>\n",
       "      <td>2015</td>\n",
       "      <td>1276</td>\n",
       "      <td>4784946</td>\n",
       "    </tr>\n",
       "    <tr>\n",
       "      <th>6</th>\n",
       "      <td>2016</td>\n",
       "      <td>1077</td>\n",
       "      <td>5908404</td>\n",
       "    </tr>\n",
       "    <tr>\n",
       "      <th>7</th>\n",
       "      <td>2017</td>\n",
       "      <td>1489</td>\n",
       "      <td>5827968</td>\n",
       "    </tr>\n",
       "    <tr>\n",
       "      <th>8</th>\n",
       "      <td>2018</td>\n",
       "      <td>1906</td>\n",
       "      <td>5205199</td>\n",
       "    </tr>\n",
       "    <tr>\n",
       "      <th>9</th>\n",
       "      <td>2019</td>\n",
       "      <td>1564</td>\n",
       "      <td>3405410</td>\n",
       "    </tr>\n",
       "    <tr>\n",
       "      <th>10</th>\n",
       "      <td>2020</td>\n",
       "      <td>1135</td>\n",
       "      <td>3173052</td>\n",
       "    </tr>\n",
       "  </tbody>\n",
       "</table>\n",
       "</div>"
      ],
      "text/plain": [
       "    publish_year  Count  num_subscribe\n",
       "0           2010      1           2268\n",
       "1           2011      9          25558\n",
       "2           2012     64         112534\n",
       "3           2013    310        1126285\n",
       "4           2014    616        2541546\n",
       "5           2015   1276        4784946\n",
       "6           2016   1077        5908404\n",
       "7           2017   1489        5827968\n",
       "8           2018   1906        5205199\n",
       "9           2019   1564        3405410\n",
       "10          2020   1135        3173052"
      ]
     },
     "execution_count": 76,
     "metadata": {},
     "output_type": "execute_result"
    }
   ],
   "source": [
    "num_year"
   ]
  },
  {
   "cell_type": "code",
   "execution_count": null,
   "metadata": {
    "id": "SAqnNz2oa4Zp"
   },
   "outputs": [],
   "source": [
    "num_year.to_csv('publish.csv')"
   ]
  },
  {
   "cell_type": "code",
   "execution_count": null,
   "metadata": {
    "id": "zYBzZ0xScMiH"
   },
   "outputs": [],
   "source": [
    "num_year_create = pd.DataFrame({'Count': time_subs.groupby('create_year').size()}).reset_index()\n",
    "num_year_create['num_subscribe'] = time_subs.groupby('create_year').count().num_subscribers.reset_index(level=0, drop=True)"
   ]
  },
  {
   "cell_type": "code",
   "execution_count": null,
   "metadata": {
    "id": "7XvhqaxjciJ4"
   },
   "outputs": [],
   "source": [
    "num_year_create.to_csv('create.csv')"
   ]
  },
  {
   "cell_type": "markdown",
   "metadata": {
    "id": "Xc1ehaJAmRHV"
   },
   "source": [
    "## Time X Price"
   ]
  },
  {
   "cell_type": "markdown",
   "metadata": {
    "id": "B0USx6M2_8JK"
   },
   "source": [
    "### Real Price"
   ]
  },
  {
   "cell_type": "code",
   "execution_count": null,
   "metadata": {
    "id": "EpjqV2-PqvkA"
   },
   "outputs": [],
   "source": [
    "time_price = time_subs"
   ]
  },
  {
   "cell_type": "code",
   "execution_count": null,
   "metadata": {
    "id": "VzMJIqLKmZCI"
   },
   "outputs": [],
   "source": [
    "time_price = pd.DataFrame({'num_subscribers': time_price.groupby('publish_year')['num_subscribers'].sum()}).reset_index()"
   ]
  },
  {
   "cell_type": "code",
   "execution_count": null,
   "metadata": {
    "colab": {
     "base_uri": "https://localhost:8080/",
     "height": 206
    },
    "id": "DUYtFNfcnYki",
    "outputId": "79baf181-2c00-4eb8-e8e6-e3956a01f272"
   },
   "outputs": [
    {
     "data": {
      "text/html": [
       "<div>\n",
       "<style scoped>\n",
       "    .dataframe tbody tr th:only-of-type {\n",
       "        vertical-align: middle;\n",
       "    }\n",
       "\n",
       "    .dataframe tbody tr th {\n",
       "        vertical-align: top;\n",
       "    }\n",
       "\n",
       "    .dataframe thead th {\n",
       "        text-align: right;\n",
       "    }\n",
       "</style>\n",
       "<table border=\"1\" class=\"dataframe\">\n",
       "  <thead>\n",
       "    <tr style=\"text-align: right;\">\n",
       "      <th></th>\n",
       "      <th>publish_year</th>\n",
       "      <th>num_subscribers</th>\n",
       "    </tr>\n",
       "  </thead>\n",
       "  <tbody>\n",
       "    <tr>\n",
       "      <th>0</th>\n",
       "      <td>2010</td>\n",
       "      <td>2268</td>\n",
       "    </tr>\n",
       "    <tr>\n",
       "      <th>1</th>\n",
       "      <td>2011</td>\n",
       "      <td>25558</td>\n",
       "    </tr>\n",
       "    <tr>\n",
       "      <th>2</th>\n",
       "      <td>2012</td>\n",
       "      <td>112534</td>\n",
       "    </tr>\n",
       "    <tr>\n",
       "      <th>3</th>\n",
       "      <td>2013</td>\n",
       "      <td>1126285</td>\n",
       "    </tr>\n",
       "    <tr>\n",
       "      <th>4</th>\n",
       "      <td>2014</td>\n",
       "      <td>2541546</td>\n",
       "    </tr>\n",
       "  </tbody>\n",
       "</table>\n",
       "</div>"
      ],
      "text/plain": [
       "   publish_year  num_subscribers\n",
       "0          2010             2268\n",
       "1          2011            25558\n",
       "2          2012           112534\n",
       "3          2013          1126285\n",
       "4          2014          2541546"
      ]
     },
     "execution_count": 82,
     "metadata": {},
     "output_type": "execute_result"
    }
   ],
   "source": [
    "time_price.head()"
   ]
  },
  {
   "cell_type": "code",
   "execution_count": null,
   "metadata": {
    "id": "ZURQI2LpnvKl"
   },
   "outputs": [],
   "source": [
    "time_price['avg_price'] = time_subs.groupby('publish_year')['price_detail__amount'].mean().reset_index(level=0, drop=True)"
   ]
  },
  {
   "cell_type": "code",
   "execution_count": null,
   "metadata": {
    "colab": {
     "base_uri": "https://localhost:8080/",
     "height": 394
    },
    "id": "LZeNqRqyqDnP",
    "outputId": "d0c9092b-1113-4961-ce78-6bb260540cc2"
   },
   "outputs": [
    {
     "data": {
      "text/html": [
       "<div>\n",
       "<style scoped>\n",
       "    .dataframe tbody tr th:only-of-type {\n",
       "        vertical-align: middle;\n",
       "    }\n",
       "\n",
       "    .dataframe tbody tr th {\n",
       "        vertical-align: top;\n",
       "    }\n",
       "\n",
       "    .dataframe thead th {\n",
       "        text-align: right;\n",
       "    }\n",
       "</style>\n",
       "<table border=\"1\" class=\"dataframe\">\n",
       "  <thead>\n",
       "    <tr style=\"text-align: right;\">\n",
       "      <th></th>\n",
       "      <th>publish_year</th>\n",
       "      <th>num_subscribers</th>\n",
       "      <th>avg_price</th>\n",
       "    </tr>\n",
       "  </thead>\n",
       "  <tbody>\n",
       "    <tr>\n",
       "      <th>0</th>\n",
       "      <td>2010</td>\n",
       "      <td>2268</td>\n",
       "      <td>2560.000000</td>\n",
       "    </tr>\n",
       "    <tr>\n",
       "      <th>1</th>\n",
       "      <td>2011</td>\n",
       "      <td>25558</td>\n",
       "      <td>3520.000000</td>\n",
       "    </tr>\n",
       "    <tr>\n",
       "      <th>2</th>\n",
       "      <td>2012</td>\n",
       "      <td>112534</td>\n",
       "      <td>3190.000000</td>\n",
       "    </tr>\n",
       "    <tr>\n",
       "      <th>3</th>\n",
       "      <td>2013</td>\n",
       "      <td>1126285</td>\n",
       "      <td>3789.419355</td>\n",
       "    </tr>\n",
       "    <tr>\n",
       "      <th>4</th>\n",
       "      <td>2014</td>\n",
       "      <td>2541546</td>\n",
       "      <td>4015.064935</td>\n",
       "    </tr>\n",
       "    <tr>\n",
       "      <th>5</th>\n",
       "      <td>2015</td>\n",
       "      <td>4784946</td>\n",
       "      <td>4470.219436</td>\n",
       "    </tr>\n",
       "    <tr>\n",
       "      <th>6</th>\n",
       "      <td>2016</td>\n",
       "      <td>5908404</td>\n",
       "      <td>4824.363974</td>\n",
       "    </tr>\n",
       "    <tr>\n",
       "      <th>7</th>\n",
       "      <td>2017</td>\n",
       "      <td>5827968</td>\n",
       "      <td>5088.623237</td>\n",
       "    </tr>\n",
       "    <tr>\n",
       "      <th>8</th>\n",
       "      <td>2018</td>\n",
       "      <td>5205199</td>\n",
       "      <td>5191.521511</td>\n",
       "    </tr>\n",
       "    <tr>\n",
       "      <th>9</th>\n",
       "      <td>2019</td>\n",
       "      <td>3405410</td>\n",
       "      <td>5118.567775</td>\n",
       "    </tr>\n",
       "    <tr>\n",
       "      <th>10</th>\n",
       "      <td>2020</td>\n",
       "      <td>3173052</td>\n",
       "      <td>4716.828194</td>\n",
       "    </tr>\n",
       "  </tbody>\n",
       "</table>\n",
       "</div>"
      ],
      "text/plain": [
       "    publish_year  num_subscribers    avg_price\n",
       "0           2010             2268  2560.000000\n",
       "1           2011            25558  3520.000000\n",
       "2           2012           112534  3190.000000\n",
       "3           2013          1126285  3789.419355\n",
       "4           2014          2541546  4015.064935\n",
       "5           2015          4784946  4470.219436\n",
       "6           2016          5908404  4824.363974\n",
       "7           2017          5827968  5088.623237\n",
       "8           2018          5205199  5191.521511\n",
       "9           2019          3405410  5118.567775\n",
       "10          2020          3173052  4716.828194"
      ]
     },
     "execution_count": 84,
     "metadata": {},
     "output_type": "execute_result"
    }
   ],
   "source": [
    "time_price"
   ]
  },
  {
   "cell_type": "code",
   "execution_count": null,
   "metadata": {
    "id": "86VEYpkwueRb"
   },
   "outputs": [],
   "source": [
    "time_price.to_csv('price.csv')"
   ]
  },
  {
   "cell_type": "markdown",
   "metadata": {
    "id": "0iXQ9Yld_6Jn"
   },
   "source": [
    "### Discount"
   ]
  },
  {
   "cell_type": "code",
   "execution_count": null,
   "metadata": {
    "id": "0J3z6EwkAIA0"
   },
   "outputs": [],
   "source": [
    "discount = time_subs"
   ]
  },
  {
   "cell_type": "code",
   "execution_count": null,
   "metadata": {
    "colab": {
     "base_uri": "https://localhost:8080/"
    },
    "id": "cO1gv-2lAxed",
    "outputId": "6111238f-e79c-4440-eb05-6da3e8a00b8a"
   },
   "outputs": [
    {
     "data": {
      "text/plain": [
       "id                                0\n",
       "title                             0\n",
       "url                               0\n",
       "is_paid                           0\n",
       "num_subscribers                   0\n",
       "avg_rating                        0\n",
       "avg_rating_recent                 0\n",
       "rating                            0\n",
       "num_reviews                       0\n",
       "is_wishlisted                     0\n",
       "num_published_lectures            0\n",
       "num_published_practice_tests      0\n",
       "created                           0\n",
       "published_time                    0\n",
       "discount_price__amount          510\n",
       "discount_price__currency        510\n",
       "discount_price__price_string    510\n",
       "price_detail__amount              0\n",
       "price_detail__currency            0\n",
       "price_detail__price_string        0\n",
       "publish_year                      0\n",
       "create_year                       0\n",
       "dtype: int64"
      ]
     },
     "execution_count": 87,
     "metadata": {},
     "output_type": "execute_result"
    }
   ],
   "source": [
    "discount.isnull().sum()"
   ]
  },
  {
   "cell_type": "code",
   "execution_count": null,
   "metadata": {
    "id": "BxBUbOUaA4ul"
   },
   "outputs": [],
   "source": [
    "discount = discount.dropna()"
   ]
  },
  {
   "cell_type": "code",
   "execution_count": null,
   "metadata": {
    "id": "sOOvhAWxBMR_"
   },
   "outputs": [],
   "source": [
    "time_discount = pd.DataFrame({'num_subscribers': discount.groupby('publish_year')['num_subscribers'].sum()}).reset_index()"
   ]
  },
  {
   "cell_type": "code",
   "execution_count": null,
   "metadata": {
    "id": "VSBA96jeBeyW"
   },
   "outputs": [],
   "source": [
    "time_discount['avg_discount'] = discount.groupby('publish_year')['discount_price__amount'].mean().reset_index(level=0, drop=True)"
   ]
  },
  {
   "cell_type": "code",
   "execution_count": null,
   "metadata": {
    "id": "mk2577LpD1e7"
   },
   "outputs": [],
   "source": [
    "time_discount['avg_price'] = time_price['avg_price']"
   ]
  },
  {
   "cell_type": "code",
   "execution_count": null,
   "metadata": {
    "id": "Y9F6TEZGE2Hd"
   },
   "outputs": [],
   "source": [
    "time_discount.to_csv('discount.csv')"
   ]
  },
  {
   "cell_type": "code",
   "execution_count": null,
   "metadata": {
    "colab": {
     "base_uri": "https://localhost:8080/",
     "height": 394
    },
    "id": "VRw1p83MLMZY",
    "outputId": "e28b2a94-9580-4f13-c7c1-624d43c849f7"
   },
   "outputs": [
    {
     "data": {
      "text/html": [
       "<div>\n",
       "<style scoped>\n",
       "    .dataframe tbody tr th:only-of-type {\n",
       "        vertical-align: middle;\n",
       "    }\n",
       "\n",
       "    .dataframe tbody tr th {\n",
       "        vertical-align: top;\n",
       "    }\n",
       "\n",
       "    .dataframe thead th {\n",
       "        text-align: right;\n",
       "    }\n",
       "</style>\n",
       "<table border=\"1\" class=\"dataframe\">\n",
       "  <thead>\n",
       "    <tr style=\"text-align: right;\">\n",
       "      <th></th>\n",
       "      <th>publish_year</th>\n",
       "      <th>num_subscribers</th>\n",
       "      <th>avg_discount</th>\n",
       "      <th>avg_price</th>\n",
       "    </tr>\n",
       "  </thead>\n",
       "  <tbody>\n",
       "    <tr>\n",
       "      <th>0</th>\n",
       "      <td>2010</td>\n",
       "      <td>2268</td>\n",
       "      <td>468.000000</td>\n",
       "      <td>2560.000000</td>\n",
       "    </tr>\n",
       "    <tr>\n",
       "      <th>1</th>\n",
       "      <td>2011</td>\n",
       "      <td>25558</td>\n",
       "      <td>460.000000</td>\n",
       "      <td>3520.000000</td>\n",
       "    </tr>\n",
       "    <tr>\n",
       "      <th>2</th>\n",
       "      <td>2012</td>\n",
       "      <td>109600</td>\n",
       "      <td>468.333333</td>\n",
       "      <td>3190.000000</td>\n",
       "    </tr>\n",
       "    <tr>\n",
       "      <th>3</th>\n",
       "      <td>2013</td>\n",
       "      <td>966487</td>\n",
       "      <td>464.469231</td>\n",
       "      <td>3789.419355</td>\n",
       "    </tr>\n",
       "    <tr>\n",
       "      <th>4</th>\n",
       "      <td>2014</td>\n",
       "      <td>2470145</td>\n",
       "      <td>464.811151</td>\n",
       "      <td>4015.064935</td>\n",
       "    </tr>\n",
       "    <tr>\n",
       "      <th>5</th>\n",
       "      <td>2015</td>\n",
       "      <td>4598933</td>\n",
       "      <td>472.939065</td>\n",
       "      <td>4470.219436</td>\n",
       "    </tr>\n",
       "    <tr>\n",
       "      <th>6</th>\n",
       "      <td>2016</td>\n",
       "      <td>5825538</td>\n",
       "      <td>476.072394</td>\n",
       "      <td>4824.363974</td>\n",
       "    </tr>\n",
       "    <tr>\n",
       "      <th>7</th>\n",
       "      <td>2017</td>\n",
       "      <td>5737281</td>\n",
       "      <td>486.602393</td>\n",
       "      <td>5088.623237</td>\n",
       "    </tr>\n",
       "    <tr>\n",
       "      <th>8</th>\n",
       "      <td>2018</td>\n",
       "      <td>5123974</td>\n",
       "      <td>490.966685</td>\n",
       "      <td>5191.521511</td>\n",
       "    </tr>\n",
       "    <tr>\n",
       "      <th>9</th>\n",
       "      <td>2019</td>\n",
       "      <td>3282814</td>\n",
       "      <td>502.097709</td>\n",
       "      <td>5118.567775</td>\n",
       "    </tr>\n",
       "    <tr>\n",
       "      <th>10</th>\n",
       "      <td>2020</td>\n",
       "      <td>3138793</td>\n",
       "      <td>520.646623</td>\n",
       "      <td>4716.828194</td>\n",
       "    </tr>\n",
       "  </tbody>\n",
       "</table>\n",
       "</div>"
      ],
      "text/plain": [
       "    publish_year  num_subscribers  avg_discount    avg_price\n",
       "0           2010             2268    468.000000  2560.000000\n",
       "1           2011            25558    460.000000  3520.000000\n",
       "2           2012           109600    468.333333  3190.000000\n",
       "3           2013           966487    464.469231  3789.419355\n",
       "4           2014          2470145    464.811151  4015.064935\n",
       "5           2015          4598933    472.939065  4470.219436\n",
       "6           2016          5825538    476.072394  4824.363974\n",
       "7           2017          5737281    486.602393  5088.623237\n",
       "8           2018          5123974    490.966685  5191.521511\n",
       "9           2019          3282814    502.097709  5118.567775\n",
       "10          2020          3138793    520.646623  4716.828194"
      ]
     },
     "execution_count": 93,
     "metadata": {},
     "output_type": "execute_result"
    }
   ],
   "source": [
    "time_discount"
   ]
  },
  {
   "cell_type": "markdown",
   "metadata": {
    "id": "-YAjarh4JgA-"
   },
   "source": [
    "## Price x Lecture\n"
   ]
  },
  {
   "cell_type": "code",
   "execution_count": null,
   "metadata": {
    "id": "u9p4GpQrGK7s"
   },
   "outputs": [],
   "source": [
    "price_course = data"
   ]
  },
  {
   "cell_type": "code",
   "execution_count": null,
   "metadata": {
    "colab": {
     "base_uri": "https://localhost:8080/",
     "height": 320
    },
    "id": "NqGNHiAjPQik",
    "outputId": "2437aa02-cd64-4eae-b220-59fb196a317f"
   },
   "outputs": [
    {
     "data": {
      "text/html": [
       "<div>\n",
       "<style scoped>\n",
       "    .dataframe tbody tr th:only-of-type {\n",
       "        vertical-align: middle;\n",
       "    }\n",
       "\n",
       "    .dataframe tbody tr th {\n",
       "        vertical-align: top;\n",
       "    }\n",
       "\n",
       "    .dataframe thead th {\n",
       "        text-align: right;\n",
       "    }\n",
       "</style>\n",
       "<table border=\"1\" class=\"dataframe\">\n",
       "  <thead>\n",
       "    <tr style=\"text-align: right;\">\n",
       "      <th></th>\n",
       "      <th>id</th>\n",
       "      <th>num_subscribers</th>\n",
       "      <th>avg_rating</th>\n",
       "      <th>avg_rating_recent</th>\n",
       "      <th>rating</th>\n",
       "      <th>num_reviews</th>\n",
       "      <th>num_published_lectures</th>\n",
       "      <th>num_published_practice_tests</th>\n",
       "      <th>discount_price__amount</th>\n",
       "      <th>price_detail__amount</th>\n",
       "      <th>publish_year</th>\n",
       "      <th>create_year</th>\n",
       "    </tr>\n",
       "  </thead>\n",
       "  <tbody>\n",
       "    <tr>\n",
       "      <th>count</th>\n",
       "      <td>9.447000e+03</td>\n",
       "      <td>9447.000000</td>\n",
       "      <td>9447.000000</td>\n",
       "      <td>9447.000000</td>\n",
       "      <td>9447.000000</td>\n",
       "      <td>9447.000000</td>\n",
       "      <td>9447.000000</td>\n",
       "      <td>9447.000000</td>\n",
       "      <td>8937.000000</td>\n",
       "      <td>9447.000000</td>\n",
       "      <td>9447.000000</td>\n",
       "      <td>9447.000000</td>\n",
       "    </tr>\n",
       "    <tr>\n",
       "      <th>mean</th>\n",
       "      <td>1.456603e+06</td>\n",
       "      <td>3399.298190</td>\n",
       "      <td>4.138522</td>\n",
       "      <td>4.124756</td>\n",
       "      <td>4.124756</td>\n",
       "      <td>299.054515</td>\n",
       "      <td>34.400868</td>\n",
       "      <td>0.101831</td>\n",
       "      <td>488.984111</td>\n",
       "      <td>4828.758336</td>\n",
       "      <td>2017.141950</td>\n",
       "      <td>2016.997460</td>\n",
       "    </tr>\n",
       "    <tr>\n",
       "      <th>std</th>\n",
       "      <td>8.956601e+05</td>\n",
       "      <td>10451.534122</td>\n",
       "      <td>0.453581</td>\n",
       "      <td>0.478410</td>\n",
       "      <td>0.478410</td>\n",
       "      <td>1826.867472</td>\n",
       "      <td>46.061088</td>\n",
       "      <td>0.580037</td>\n",
       "      <td>247.833161</td>\n",
       "      <td>3108.307674</td>\n",
       "      <td>1.974982</td>\n",
       "      <td>1.992946</td>\n",
       "    </tr>\n",
       "    <tr>\n",
       "      <th>min</th>\n",
       "      <td>2.762000e+03</td>\n",
       "      <td>3.000000</td>\n",
       "      <td>1.000000</td>\n",
       "      <td>1.000000</td>\n",
       "      <td>1.000000</td>\n",
       "      <td>3.000000</td>\n",
       "      <td>0.000000</td>\n",
       "      <td>0.000000</td>\n",
       "      <td>455.000000</td>\n",
       "      <td>1280.000000</td>\n",
       "      <td>2010.000000</td>\n",
       "      <td>2010.000000</td>\n",
       "    </tr>\n",
       "    <tr>\n",
       "      <th>25%</th>\n",
       "      <td>6.730310e+05</td>\n",
       "      <td>141.000000</td>\n",
       "      <td>3.900000</td>\n",
       "      <td>3.879410</td>\n",
       "      <td>3.879410</td>\n",
       "      <td>12.000000</td>\n",
       "      <td>13.000000</td>\n",
       "      <td>0.000000</td>\n",
       "      <td>455.000000</td>\n",
       "      <td>1600.000000</td>\n",
       "      <td>2016.000000</td>\n",
       "      <td>2015.000000</td>\n",
       "    </tr>\n",
       "    <tr>\n",
       "      <th>50%</th>\n",
       "      <td>1.381806e+06</td>\n",
       "      <td>916.000000</td>\n",
       "      <td>4.200000</td>\n",
       "      <td>4.206080</td>\n",
       "      <td>4.206080</td>\n",
       "      <td>33.000000</td>\n",
       "      <td>23.000000</td>\n",
       "      <td>0.000000</td>\n",
       "      <td>455.000000</td>\n",
       "      <td>3840.000000</td>\n",
       "      <td>2017.000000</td>\n",
       "      <td>2017.000000</td>\n",
       "    </tr>\n",
       "    <tr>\n",
       "      <th>75%</th>\n",
       "      <td>2.154793e+06</td>\n",
       "      <td>2889.500000</td>\n",
       "      <td>4.450000</td>\n",
       "      <td>4.447495</td>\n",
       "      <td>4.447495</td>\n",
       "      <td>110.000000</td>\n",
       "      <td>39.000000</td>\n",
       "      <td>0.000000</td>\n",
       "      <td>455.000000</td>\n",
       "      <td>8640.000000</td>\n",
       "      <td>2019.000000</td>\n",
       "      <td>2019.000000</td>\n",
       "    </tr>\n",
       "    <tr>\n",
       "      <th>max</th>\n",
       "      <td>3.469452e+06</td>\n",
       "      <td>374836.000000</td>\n",
       "      <td>5.000000</td>\n",
       "      <td>5.000000</td>\n",
       "      <td>5.000000</td>\n",
       "      <td>78006.000000</td>\n",
       "      <td>699.000000</td>\n",
       "      <td>6.000000</td>\n",
       "      <td>3200.000000</td>\n",
       "      <td>12800.000000</td>\n",
       "      <td>2020.000000</td>\n",
       "      <td>2020.000000</td>\n",
       "    </tr>\n",
       "  </tbody>\n",
       "</table>\n",
       "</div>"
      ],
      "text/plain": [
       "                 id  num_subscribers  ...  publish_year  create_year\n",
       "count  9.447000e+03      9447.000000  ...   9447.000000  9447.000000\n",
       "mean   1.456603e+06      3399.298190  ...   2017.141950  2016.997460\n",
       "std    8.956601e+05     10451.534122  ...      1.974982     1.992946\n",
       "min    2.762000e+03         3.000000  ...   2010.000000  2010.000000\n",
       "25%    6.730310e+05       141.000000  ...   2016.000000  2015.000000\n",
       "50%    1.381806e+06       916.000000  ...   2017.000000  2017.000000\n",
       "75%    2.154793e+06      2889.500000  ...   2019.000000  2019.000000\n",
       "max    3.469452e+06    374836.000000  ...   2020.000000  2020.000000\n",
       "\n",
       "[8 rows x 12 columns]"
      ]
     },
     "execution_count": 95,
     "metadata": {},
     "output_type": "execute_result"
    }
   ],
   "source": [
    "price_course.describe()"
   ]
  },
  {
   "cell_type": "code",
   "execution_count": null,
   "metadata": {
    "colab": {
     "base_uri": "https://localhost:8080/",
     "height": 352
    },
    "id": "koFrnNyHQB7Y",
    "outputId": "4042becc-43e8-4321-b926-fca8a8227abc"
   },
   "outputs": [
    {
     "name": "stderr",
     "output_type": "stream",
     "text": [
      "/usr/local/lib/python3.7/dist-packages/seaborn/_decorators.py:43: FutureWarning: Pass the following variable as a keyword arg: x. From version 0.12, the only valid positional argument will be `data`, and passing other arguments without an explicit keyword will result in an error or misinterpretation.\n",
      "  FutureWarning\n"
     ]
    },
    {
     "data": {
      "text/plain": [
       "<matplotlib.axes._subplots.AxesSubplot at 0x7f4deda99710>"
      ]
     },
     "execution_count": 96,
     "metadata": {},
     "output_type": "execute_result"
    },
    {
     "data": {
      "image/png": "[encoded data removed]",
      "text/plain": [
       "<Figure size 432x288 with 1 Axes>"
      ]
     },
     "metadata": {},
     "output_type": "display_data"
    }
   ],
   "source": [
    "sns.boxplot(price_course['num_published_lectures'])"
   ]
  },
  {
   "cell_type": "code",
   "execution_count": null,
   "metadata": {
    "colab": {
     "base_uri": "https://localhost:8080/",
     "height": 265
    },
    "id": "kWQn44B-X9m0",
    "outputId": "6ba231af-fdc5-4b80-f3fd-783d46e327ef"
   },
   "outputs": [
    {
     "data": {
      "image/png": "[encoded data removed]",
      "text/plain": [
       "<Figure size 432x288 with 1 Axes>"
      ]
     },
     "metadata": {},
     "output_type": "display_data"
    }
   ],
   "source": [
    "bp = plt.boxplot(price_course['num_published_lectures'])"
   ]
  },
  {
   "cell_type": "code",
   "execution_count": null,
   "metadata": {
    "colab": {
     "base_uri": "https://localhost:8080/"
    },
    "id": "JhPt3FODg6VN",
    "outputId": "64cf0474-d80e-464c-9894-d58a6466de4b"
   },
   "outputs": [
    {
     "data": {
      "text/plain": [
       "[array([ 84, 292, 338,  83, 275, 275, 144, 413, 117, 286, 225, 101, 160,\n",
       "        103, 111,  88,  88, 124, 206, 284,  86, 600,  97, 152, 186, 305,\n",
       "         87,  88, 222,  81, 637, 208, 127,  88, 122,  96,  81,  90,  99,\n",
       "        345,  83, 125,  88,  91, 257, 301,  85,  81, 398,  87, 114, 122,\n",
       "        369, 165, 120, 247, 135,  85, 122, 213, 244,  91, 600, 252, 123,\n",
       "        125,  93,  79, 125,  87, 126, 142, 493, 601,  91, 155,  83,  79,\n",
       "        154,  86,  91, 217, 202,  79, 253, 105, 208, 299, 141, 109, 267,\n",
       "        102, 137, 102,  92,  80, 561, 136, 328, 505,  98, 124,  91, 431,\n",
       "        190, 104, 149, 229,  80,  97, 225, 107,  92, 103, 699,  97, 184,\n",
       "        560,  80,  98,  86,  93, 109,  89, 119, 111,  99,  92, 668,  81,\n",
       "        601,  91, 280, 125,  95,  97,  89, 112,  81, 126, 129, 133, 373,\n",
       "        129, 143, 232,  84, 124, 160,  93, 109,  83, 157, 600, 135, 358,\n",
       "        119,  83, 136, 291, 131,  88, 132, 142,  80, 174,  93, 103, 187,\n",
       "        100, 600, 228,  81, 108, 469,  88,  98,  83, 266,  82, 123, 272,\n",
       "        199, 241,  82, 113, 204,  84,  81, 164, 372, 142, 122, 115, 105,\n",
       "        174,  86, 215, 194, 124, 115, 122, 329, 103,  91, 172, 103, 106,\n",
       "        118, 525,  98, 103, 144, 185, 284,  90, 331, 117, 225, 123, 142,\n",
       "         84, 128, 127, 102, 463,  86, 129, 548,  95,  96,  91,  80,  97,\n",
       "        432, 235, 117, 107, 110, 116, 139, 119,  81, 104,  86,  81, 101,\n",
       "        137, 161, 205, 109, 257, 129, 150, 132,  89,  81, 255, 229, 556,\n",
       "        171, 145, 104, 395, 134, 129,  97, 145, 133, 446,  94,  97,  81,\n",
       "        134, 106, 171, 355, 102, 286,  97, 127,  88, 132, 109,  79, 143,\n",
       "        379, 121, 182, 576, 284, 111, 232,  79, 162, 189, 157, 115, 192,\n",
       "        374, 107,  95,  92, 108, 104,  94, 109,  86, 118,  89, 134,  91,\n",
       "         91, 108, 205,  88, 179,  85, 187,  80, 151,  89, 531,  92,  87,\n",
       "        107, 102, 109,  90, 157,  98,  83,  88,  91, 345, 194,  84, 185,\n",
       "         91,  91,  81, 119, 129,  80, 444, 182, 131,  93, 257, 102, 129,\n",
       "        137, 211,  95, 103,  96, 263, 124,  84, 113,  85,  96,  88, 314,\n",
       "        156, 278, 106, 102,  96,  97,  79,  88,  85, 162, 181,  84, 102,\n",
       "         79, 177, 101, 108, 145, 551, 122, 140, 130, 143,  88, 132,  95,\n",
       "        128,  92, 186,  83, 118, 112, 458, 212,  92,  95,  92,  88, 103,\n",
       "         97,  79, 116, 270, 249,  92, 164, 129, 177,  92,  92,  92, 106,\n",
       "         83,  92,  82, 316, 148, 158,  90, 110, 111, 112, 211,  92, 121,\n",
       "        115, 139, 152, 184,  95,  92, 136, 117, 142,  93,  91, 195, 153,\n",
       "         81,  96, 128, 191, 100, 101,  92, 377, 166, 211, 316, 101,  82,\n",
       "        201, 104, 157, 194,  83, 151,  90, 108, 145, 125,  86, 106, 190,\n",
       "         84, 112, 105, 154,  97,  87, 102,  84, 121,  83,  97, 513, 107,\n",
       "        314, 179,  82, 210,  88, 159, 123,  98, 105, 111,  84,  85, 119,\n",
       "        107, 192, 143, 131,  86, 102,  94, 105,  99, 219, 131, 145, 110,\n",
       "        313, 145,  88, 120,  87,  97,  94, 262, 108,  79,  92,  95,  88,\n",
       "         96, 113,  91, 192, 145,  99, 115,  91,  85, 134,  87, 175,  99,\n",
       "         82, 247,  80, 143, 105,  82,  79, 108,  87, 102,  86, 132, 124,\n",
       "        265, 111, 136, 152, 177,  86,  95,  79, 437, 129, 128, 139,  81,\n",
       "         95, 129,  82,  83, 180, 166,  80,  84, 135, 101, 185,  89, 233,\n",
       "        122, 113, 114,  87,  85, 107, 134, 107, 177,  93, 294,  89,  79,\n",
       "        157, 123, 187,  85, 114, 211, 106, 124, 155, 119, 104,  83, 165,\n",
       "        115, 181, 114, 148, 173,  79, 149, 180, 109, 240,  88, 133,  85,\n",
       "         81, 197,  89, 112, 190,  79,  93, 195, 100,  92, 121, 105, 360,\n",
       "         83,  80, 143, 120,  85,  81, 105,  91, 118, 132, 100, 102, 109,\n",
       "        171,  82,  93, 111, 154, 265, 313, 452, 101, 270,  92, 110,  83,\n",
       "         90, 207,  79,  79, 138,  92, 139,  87, 151,  86, 197, 214, 116,\n",
       "         80, 102, 172])]"
      ]
     },
     "execution_count": 98,
     "metadata": {},
     "output_type": "execute_result"
    }
   ],
   "source": [
    "[item.get_ydata() for item in bp['fliers']]"
   ]
  },
  {
   "cell_type": "code",
   "execution_count": null,
   "metadata": {
    "id": "tmsvZvHRJlas"
   },
   "outputs": [],
   "source": [
    "price_course_2 = price_course.drop(price_course[price_course.num_published_lectures > 83].index)"
   ]
  },
  {
   "cell_type": "code",
   "execution_count": null,
   "metadata": {
    "colab": {
     "base_uri": "https://localhost:8080/",
     "height": 320
    },
    "id": "fFGAPgi1h_rx",
    "outputId": "3addaca6-c6ae-499b-bfd5-037b15d27990"
   },
   "outputs": [
    {
     "data": {
      "text/html": [
       "<div>\n",
       "<style scoped>\n",
       "    .dataframe tbody tr th:only-of-type {\n",
       "        vertical-align: middle;\n",
       "    }\n",
       "\n",
       "    .dataframe tbody tr th {\n",
       "        vertical-align: top;\n",
       "    }\n",
       "\n",
       "    .dataframe thead th {\n",
       "        text-align: right;\n",
       "    }\n",
       "</style>\n",
       "<table border=\"1\" class=\"dataframe\">\n",
       "  <thead>\n",
       "    <tr style=\"text-align: right;\">\n",
       "      <th></th>\n",
       "      <th>id</th>\n",
       "      <th>num_subscribers</th>\n",
       "      <th>avg_rating</th>\n",
       "      <th>avg_rating_recent</th>\n",
       "      <th>rating</th>\n",
       "      <th>num_reviews</th>\n",
       "      <th>num_published_lectures</th>\n",
       "      <th>num_published_practice_tests</th>\n",
       "      <th>discount_price__amount</th>\n",
       "      <th>price_detail__amount</th>\n",
       "      <th>publish_year</th>\n",
       "      <th>create_year</th>\n",
       "    </tr>\n",
       "  </thead>\n",
       "  <tbody>\n",
       "    <tr>\n",
       "      <th>count</th>\n",
       "      <td>8.848000e+03</td>\n",
       "      <td>8848.000000</td>\n",
       "      <td>8848.000000</td>\n",
       "      <td>8848.000000</td>\n",
       "      <td>8848.000000</td>\n",
       "      <td>8848.000000</td>\n",
       "      <td>8848.000000</td>\n",
       "      <td>8848.000000</td>\n",
       "      <td>8375.000000</td>\n",
       "      <td>8848.000000</td>\n",
       "      <td>8848.000000</td>\n",
       "      <td>8848.000000</td>\n",
       "    </tr>\n",
       "    <tr>\n",
       "      <th>mean</th>\n",
       "      <td>1.451814e+06</td>\n",
       "      <td>2912.828323</td>\n",
       "      <td>4.130121</td>\n",
       "      <td>4.116177</td>\n",
       "      <td>4.116177</td>\n",
       "      <td>222.720502</td>\n",
       "      <td>25.751582</td>\n",
       "      <td>0.101492</td>\n",
       "      <td>487.252657</td>\n",
       "      <td>4662.965642</td>\n",
       "      <td>2017.128391</td>\n",
       "      <td>2016.985420</td>\n",
       "    </tr>\n",
       "    <tr>\n",
       "      <th>std</th>\n",
       "      <td>8.968955e+05</td>\n",
       "      <td>8333.087880</td>\n",
       "      <td>0.457375</td>\n",
       "      <td>0.483270</td>\n",
       "      <td>0.483270</td>\n",
       "      <td>1183.281684</td>\n",
       "      <td>17.261039</td>\n",
       "      <td>0.589925</td>\n",
       "      <td>237.841346</td>\n",
       "      <td>3061.002786</td>\n",
       "      <td>1.978868</td>\n",
       "      <td>1.996525</td>\n",
       "    </tr>\n",
       "    <tr>\n",
       "      <th>min</th>\n",
       "      <td>2.762000e+03</td>\n",
       "      <td>3.000000</td>\n",
       "      <td>1.000000</td>\n",
       "      <td>1.000000</td>\n",
       "      <td>1.000000</td>\n",
       "      <td>3.000000</td>\n",
       "      <td>0.000000</td>\n",
       "      <td>0.000000</td>\n",
       "      <td>455.000000</td>\n",
       "      <td>1280.000000</td>\n",
       "      <td>2010.000000</td>\n",
       "      <td>2010.000000</td>\n",
       "    </tr>\n",
       "    <tr>\n",
       "      <th>25%</th>\n",
       "      <td>6.680790e+05</td>\n",
       "      <td>130.000000</td>\n",
       "      <td>3.900000</td>\n",
       "      <td>3.867320</td>\n",
       "      <td>3.867320</td>\n",
       "      <td>11.000000</td>\n",
       "      <td>13.000000</td>\n",
       "      <td>0.000000</td>\n",
       "      <td>455.000000</td>\n",
       "      <td>1600.000000</td>\n",
       "      <td>2016.000000</td>\n",
       "      <td>2015.000000</td>\n",
       "    </tr>\n",
       "    <tr>\n",
       "      <th>50%</th>\n",
       "      <td>1.361751e+06</td>\n",
       "      <td>832.500000</td>\n",
       "      <td>4.200000</td>\n",
       "      <td>4.198310</td>\n",
       "      <td>4.198310</td>\n",
       "      <td>30.000000</td>\n",
       "      <td>22.000000</td>\n",
       "      <td>0.000000</td>\n",
       "      <td>455.000000</td>\n",
       "      <td>3200.000000</td>\n",
       "      <td>2017.000000</td>\n",
       "      <td>2017.000000</td>\n",
       "    </tr>\n",
       "    <tr>\n",
       "      <th>75%</th>\n",
       "      <td>2.149126e+06</td>\n",
       "      <td>2650.000000</td>\n",
       "      <td>4.447370</td>\n",
       "      <td>4.439950</td>\n",
       "      <td>4.439950</td>\n",
       "      <td>96.000000</td>\n",
       "      <td>35.000000</td>\n",
       "      <td>0.000000</td>\n",
       "      <td>455.000000</td>\n",
       "      <td>8640.000000</td>\n",
       "      <td>2019.000000</td>\n",
       "      <td>2019.000000</td>\n",
       "    </tr>\n",
       "    <tr>\n",
       "      <th>max</th>\n",
       "      <td>3.469452e+06</td>\n",
       "      <td>374836.000000</td>\n",
       "      <td>5.000000</td>\n",
       "      <td>5.000000</td>\n",
       "      <td>5.000000</td>\n",
       "      <td>54581.000000</td>\n",
       "      <td>83.000000</td>\n",
       "      <td>6.000000</td>\n",
       "      <td>3200.000000</td>\n",
       "      <td>12800.000000</td>\n",
       "      <td>2020.000000</td>\n",
       "      <td>2020.000000</td>\n",
       "    </tr>\n",
       "  </tbody>\n",
       "</table>\n",
       "</div>"
      ],
      "text/plain": [
       "                 id  num_subscribers  ...  publish_year  create_year\n",
       "count  8.848000e+03      8848.000000  ...   8848.000000  8848.000000\n",
       "mean   1.451814e+06      2912.828323  ...   2017.128391  2016.985420\n",
       "std    8.968955e+05      8333.087880  ...      1.978868     1.996525\n",
       "min    2.762000e+03         3.000000  ...   2010.000000  2010.000000\n",
       "25%    6.680790e+05       130.000000  ...   2016.000000  2015.000000\n",
       "50%    1.361751e+06       832.500000  ...   2017.000000  2017.000000\n",
       "75%    2.149126e+06      2650.000000  ...   2019.000000  2019.000000\n",
       "max    3.469452e+06    374836.000000  ...   2020.000000  2020.000000\n",
       "\n",
       "[8 rows x 12 columns]"
      ]
     },
     "execution_count": 100,
     "metadata": {},
     "output_type": "execute_result"
    }
   ],
   "source": [
    "price_course_2.describe()"
   ]
  },
  {
   "cell_type": "code",
   "execution_count": null,
   "metadata": {
    "colab": {
     "base_uri": "https://localhost:8080/"
    },
    "id": "BWTekNC0jFA7",
    "outputId": "bde9dcf8-7f51-4c15-a5b0-49f094582376"
   },
   "outputs": [
    {
     "name": "stdout",
     "output_type": "stream",
     "text": [
      "[0, 1, 4, 5, 6, 7, 8, 9, 10, 11, 12, 13, 14, 15, 16, 17, 18, 19, 20, 21, 22, 23, 24, 25, 26, 27, 28, 29, 30, 31, 32, 33, 34, 35, 36, 37, 38, 39, 40, 41, 42, 43, 44, 45, 46, 47, 48, 49, 50, 51, 52, 53, 54, 55, 56, 57, 58, 59, 60, 61, 62, 63, 64, 65, 66, 67, 68, 69, 70, 71, 72, 73, 74, 75, 76, 77, 78, 79, 80, 81, 82, 83]\n"
     ]
    }
   ],
   "source": [
    "print(sorted(price_course_2['num_published_lectures'].unique()))"
   ]
  },
  {
   "cell_type": "code",
   "execution_count": null,
   "metadata": {
    "colab": {
     "base_uri": "https://localhost:8080/"
    },
    "id": "t-20qeFpitVE",
    "outputId": "618a981c-d338-44d3-ea10-83ee32141a76"
   },
   "outputs": [
    {
     "data": {
      "text/plain": [
       "IntervalIndex([(0, 22], (22, 44], (44, 66], (66, 88]],\n",
       "              closed='right',\n",
       "              dtype='interval[int64]')"
      ]
     },
     "execution_count": 102,
     "metadata": {},
     "output_type": "execute_result"
    }
   ],
   "source": [
    "intervals = pd.interval_range(start = 0, end = 90, freq = 22)\n",
    "intervals"
   ]
  },
  {
   "cell_type": "code",
   "execution_count": null,
   "metadata": {
    "id": "75_Ufz7xlgXx"
   },
   "outputs": [],
   "source": [
    "price_course_2['lectures_bin'] = pd.cut(x=price_course_2['num_published_lectures'], bins=[0,22,44,66,88])"
   ]
  },
  {
   "cell_type": "code",
   "execution_count": null,
   "metadata": {
    "colab": {
     "base_uri": "https://localhost:8080/",
     "height": 504
    },
    "id": "Dq6rQL5GmR7H",
    "outputId": "e03ae60b-45c9-44af-b247-8b9f3e191be8"
   },
   "outputs": [
    {
     "data": {
      "text/html": [
       "<div>\n",
       "<style scoped>\n",
       "    .dataframe tbody tr th:only-of-type {\n",
       "        vertical-align: middle;\n",
       "    }\n",
       "\n",
       "    .dataframe tbody tr th {\n",
       "        vertical-align: top;\n",
       "    }\n",
       "\n",
       "    .dataframe thead th {\n",
       "        text-align: right;\n",
       "    }\n",
       "</style>\n",
       "<table border=\"1\" class=\"dataframe\">\n",
       "  <thead>\n",
       "    <tr style=\"text-align: right;\">\n",
       "      <th></th>\n",
       "      <th>id</th>\n",
       "      <th>title</th>\n",
       "      <th>url</th>\n",
       "      <th>is_paid</th>\n",
       "      <th>num_subscribers</th>\n",
       "      <th>avg_rating</th>\n",
       "      <th>avg_rating_recent</th>\n",
       "      <th>rating</th>\n",
       "      <th>num_reviews</th>\n",
       "      <th>is_wishlisted</th>\n",
       "      <th>num_published_lectures</th>\n",
       "      <th>num_published_practice_tests</th>\n",
       "      <th>created</th>\n",
       "      <th>published_time</th>\n",
       "      <th>discount_price__amount</th>\n",
       "      <th>discount_price__currency</th>\n",
       "      <th>discount_price__price_string</th>\n",
       "      <th>price_detail__amount</th>\n",
       "      <th>price_detail__currency</th>\n",
       "      <th>price_detail__price_string</th>\n",
       "      <th>publish_year</th>\n",
       "      <th>create_year</th>\n",
       "      <th>lectures_bin</th>\n",
       "    </tr>\n",
       "  </thead>\n",
       "  <tbody>\n",
       "    <tr>\n",
       "      <th>1</th>\n",
       "      <td>937678</td>\n",
       "      <td>Tableau 2020 A-Z: Hands-On Tableau Training fo...</td>\n",
       "      <td>/course/tableau10/</td>\n",
       "      <td>True</td>\n",
       "      <td>209070</td>\n",
       "      <td>4.58956</td>\n",
       "      <td>4.60015</td>\n",
       "      <td>4.60015</td>\n",
       "      <td>54581</td>\n",
       "      <td>False</td>\n",
       "      <td>78</td>\n",
       "      <td>0</td>\n",
       "      <td>2016-08-22 12:10:18+00:00</td>\n",
       "      <td>2016-08-23 16:59:49+00:00</td>\n",
       "      <td>455.0</td>\n",
       "      <td>INR</td>\n",
       "      <td>₹455</td>\n",
       "      <td>8640.0</td>\n",
       "      <td>INR</td>\n",
       "      <td>₹8,640</td>\n",
       "      <td>2016</td>\n",
       "      <td>2016</td>\n",
       "      <td>(66, 88]</td>\n",
       "    </tr>\n",
       "    <tr>\n",
       "      <th>4</th>\n",
       "      <td>637930</td>\n",
       "      <td>An Entire MBA in 1 Course:Award Winning Busine...</td>\n",
       "      <td>/course/an-entire-mba-in-1-courseaward-winning...</td>\n",
       "      <td>True</td>\n",
       "      <td>374836</td>\n",
       "      <td>4.47080</td>\n",
       "      <td>4.47173</td>\n",
       "      <td>4.47173</td>\n",
       "      <td>41630</td>\n",
       "      <td>False</td>\n",
       "      <td>83</td>\n",
       "      <td>0</td>\n",
       "      <td>2015-10-12 06:39:46+00:00</td>\n",
       "      <td>2016-01-11 21:39:33+00:00</td>\n",
       "      <td>455.0</td>\n",
       "      <td>INR</td>\n",
       "      <td>₹455</td>\n",
       "      <td>8640.0</td>\n",
       "      <td>INR</td>\n",
       "      <td>₹8,640</td>\n",
       "      <td>2016</td>\n",
       "      <td>2015</td>\n",
       "      <td>(66, 88]</td>\n",
       "    </tr>\n",
       "    <tr>\n",
       "      <th>6</th>\n",
       "      <td>864146</td>\n",
       "      <td>Agile Crash Course: Agile Project Management; ...</td>\n",
       "      <td>/course/agile-crash-course/</td>\n",
       "      <td>True</td>\n",
       "      <td>96207</td>\n",
       "      <td>4.32383</td>\n",
       "      <td>4.29118</td>\n",
       "      <td>4.29118</td>\n",
       "      <td>30470</td>\n",
       "      <td>False</td>\n",
       "      <td>23</td>\n",
       "      <td>0</td>\n",
       "      <td>2016-05-30 22:57:40+00:00</td>\n",
       "      <td>2016-06-23 17:49:26+00:00</td>\n",
       "      <td>455.0</td>\n",
       "      <td>INR</td>\n",
       "      <td>₹455</td>\n",
       "      <td>8640.0</td>\n",
       "      <td>INR</td>\n",
       "      <td>₹8,640</td>\n",
       "      <td>2016</td>\n",
       "      <td>2016</td>\n",
       "      <td>(22, 44]</td>\n",
       "    </tr>\n",
       "    <tr>\n",
       "      <th>11</th>\n",
       "      <td>751792</td>\n",
       "      <td>Business Analysis Fundamentals</td>\n",
       "      <td>/course/business-analysis-ba/</td>\n",
       "      <td>True</td>\n",
       "      <td>82015</td>\n",
       "      <td>4.49968</td>\n",
       "      <td>4.49034</td>\n",
       "      <td>4.49034</td>\n",
       "      <td>23326</td>\n",
       "      <td>False</td>\n",
       "      <td>67</td>\n",
       "      <td>0</td>\n",
       "      <td>2016-02-03 23:00:19+00:00</td>\n",
       "      <td>2016-02-21 21:40:32+00:00</td>\n",
       "      <td>455.0</td>\n",
       "      <td>INR</td>\n",
       "      <td>₹455</td>\n",
       "      <td>8640.0</td>\n",
       "      <td>INR</td>\n",
       "      <td>₹8,640</td>\n",
       "      <td>2016</td>\n",
       "      <td>2016</td>\n",
       "      <td>(66, 88]</td>\n",
       "    </tr>\n",
       "    <tr>\n",
       "      <th>12</th>\n",
       "      <td>613808</td>\n",
       "      <td>Leadership: Practical Leadership Skills</td>\n",
       "      <td>/course/practical-leadership/</td>\n",
       "      <td>True</td>\n",
       "      <td>68148</td>\n",
       "      <td>4.56870</td>\n",
       "      <td>4.59302</td>\n",
       "      <td>4.59302</td>\n",
       "      <td>22595</td>\n",
       "      <td>False</td>\n",
       "      <td>43</td>\n",
       "      <td>0</td>\n",
       "      <td>2015-09-16 15:18:48+00:00</td>\n",
       "      <td>2015-10-09 20:54:44+00:00</td>\n",
       "      <td>455.0</td>\n",
       "      <td>INR</td>\n",
       "      <td>₹455</td>\n",
       "      <td>5760.0</td>\n",
       "      <td>INR</td>\n",
       "      <td>₹5,760</td>\n",
       "      <td>2015</td>\n",
       "      <td>2015</td>\n",
       "      <td>(22, 44]</td>\n",
       "    </tr>\n",
       "  </tbody>\n",
       "</table>\n",
       "</div>"
      ],
      "text/plain": [
       "        id  ... lectures_bin\n",
       "1   937678  ...     (66, 88]\n",
       "4   637930  ...     (66, 88]\n",
       "6   864146  ...     (22, 44]\n",
       "11  751792  ...     (66, 88]\n",
       "12  613808  ...     (22, 44]\n",
       "\n",
       "[5 rows x 23 columns]"
      ]
     },
     "execution_count": 104,
     "metadata": {},
     "output_type": "execute_result"
    }
   ],
   "source": [
    "price_course_2.head()"
   ]
  },
  {
   "cell_type": "code",
   "execution_count": null,
   "metadata": {
    "id": "fWQ_fto2qla-"
   },
   "outputs": [],
   "source": [
    "num_lectures = pd.DataFrame({'frequency': price_course_2.groupby('lectures_bin').size()}).reset_index()"
   ]
  },
  {
   "cell_type": "code",
   "execution_count": null,
   "metadata": {
    "colab": {
     "base_uri": "https://localhost:8080/",
     "height": 175
    },
    "id": "dP0c5WI5q0dP",
    "outputId": "9547d1b8-6e58-43c1-be3b-e418671d5020"
   },
   "outputs": [
    {
     "data": {
      "text/html": [
       "<div>\n",
       "<style scoped>\n",
       "    .dataframe tbody tr th:only-of-type {\n",
       "        vertical-align: middle;\n",
       "    }\n",
       "\n",
       "    .dataframe tbody tr th {\n",
       "        vertical-align: top;\n",
       "    }\n",
       "\n",
       "    .dataframe thead th {\n",
       "        text-align: right;\n",
       "    }\n",
       "</style>\n",
       "<table border=\"1\" class=\"dataframe\">\n",
       "  <thead>\n",
       "    <tr style=\"text-align: right;\">\n",
       "      <th></th>\n",
       "      <th>lectures_bin</th>\n",
       "      <th>frequency</th>\n",
       "    </tr>\n",
       "  </thead>\n",
       "  <tbody>\n",
       "    <tr>\n",
       "      <th>0</th>\n",
       "      <td>(0, 22]</td>\n",
       "      <td>4453</td>\n",
       "    </tr>\n",
       "    <tr>\n",
       "      <th>1</th>\n",
       "      <td>(22, 44]</td>\n",
       "      <td>2900</td>\n",
       "    </tr>\n",
       "    <tr>\n",
       "      <th>2</th>\n",
       "      <td>(44, 66]</td>\n",
       "      <td>1001</td>\n",
       "    </tr>\n",
       "    <tr>\n",
       "      <th>3</th>\n",
       "      <td>(66, 88]</td>\n",
       "      <td>310</td>\n",
       "    </tr>\n",
       "  </tbody>\n",
       "</table>\n",
       "</div>"
      ],
      "text/plain": [
       "  lectures_bin  frequency\n",
       "0      (0, 22]       4453\n",
       "1     (22, 44]       2900\n",
       "2     (44, 66]       1001\n",
       "3     (66, 88]        310"
      ]
     },
     "execution_count": 106,
     "metadata": {},
     "output_type": "execute_result"
    }
   ],
   "source": [
    "num_lectures"
   ]
  },
  {
   "cell_type": "code",
   "execution_count": null,
   "metadata": {
    "id": "vOGyZyH-3HII"
   },
   "outputs": [],
   "source": [
    "price_course_2 = price_course_2.loc[:,['title', 'lectures_bin', 'price_detail__amount']]"
   ]
  },
  {
   "cell_type": "code",
   "execution_count": null,
   "metadata": {
    "colab": {
     "base_uri": "https://localhost:8080/",
     "height": 424
    },
    "id": "OviqkeP25u_5",
    "outputId": "31b072bf-8827-4e4a-9796-cce09bd9c661"
   },
   "outputs": [
    {
     "data": {
      "text/html": [
       "<div>\n",
       "<style scoped>\n",
       "    .dataframe tbody tr th:only-of-type {\n",
       "        vertical-align: middle;\n",
       "    }\n",
       "\n",
       "    .dataframe tbody tr th {\n",
       "        vertical-align: top;\n",
       "    }\n",
       "\n",
       "    .dataframe thead th {\n",
       "        text-align: right;\n",
       "    }\n",
       "</style>\n",
       "<table border=\"1\" class=\"dataframe\">\n",
       "  <thead>\n",
       "    <tr style=\"text-align: right;\">\n",
       "      <th></th>\n",
       "      <th>title</th>\n",
       "      <th>lectures_bin</th>\n",
       "      <th>price_detail__amount</th>\n",
       "    </tr>\n",
       "  </thead>\n",
       "  <tbody>\n",
       "    <tr>\n",
       "      <th>1</th>\n",
       "      <td>Tableau 2020 A-Z: Hands-On Tableau Training fo...</td>\n",
       "      <td>(66, 88]</td>\n",
       "      <td>8640.0</td>\n",
       "    </tr>\n",
       "    <tr>\n",
       "      <th>4</th>\n",
       "      <td>An Entire MBA in 1 Course:Award Winning Busine...</td>\n",
       "      <td>(66, 88]</td>\n",
       "      <td>8640.0</td>\n",
       "    </tr>\n",
       "    <tr>\n",
       "      <th>6</th>\n",
       "      <td>Agile Crash Course: Agile Project Management; ...</td>\n",
       "      <td>(22, 44]</td>\n",
       "      <td>8640.0</td>\n",
       "    </tr>\n",
       "    <tr>\n",
       "      <th>11</th>\n",
       "      <td>Business Analysis Fundamentals</td>\n",
       "      <td>(66, 88]</td>\n",
       "      <td>8640.0</td>\n",
       "    </tr>\n",
       "    <tr>\n",
       "      <th>12</th>\n",
       "      <td>Leadership: Practical Leadership Skills</td>\n",
       "      <td>(22, 44]</td>\n",
       "      <td>5760.0</td>\n",
       "    </tr>\n",
       "    <tr>\n",
       "      <th>...</th>\n",
       "      <td>...</td>\n",
       "      <td>...</td>\n",
       "      <td>...</td>\n",
       "    </tr>\n",
       "    <tr>\n",
       "      <th>9442</th>\n",
       "      <td>Simple Value Investing Guide With Proven Methods</td>\n",
       "      <td>(22, 44]</td>\n",
       "      <td>8640.0</td>\n",
       "    </tr>\n",
       "    <tr>\n",
       "      <th>9443</th>\n",
       "      <td>Effectively Optimizing Your Recruitment Process</td>\n",
       "      <td>(22, 44]</td>\n",
       "      <td>1280.0</td>\n",
       "    </tr>\n",
       "    <tr>\n",
       "      <th>9444</th>\n",
       "      <td>Leadership Development:Ready To Use Tools to l...</td>\n",
       "      <td>(0, 22]</td>\n",
       "      <td>6400.0</td>\n",
       "    </tr>\n",
       "    <tr>\n",
       "      <th>9445</th>\n",
       "      <td>Business Efficiency: How To Increase Workplace...</td>\n",
       "      <td>(0, 22]</td>\n",
       "      <td>6400.0</td>\n",
       "    </tr>\n",
       "    <tr>\n",
       "      <th>9446</th>\n",
       "      <td>How to enter the US market?</td>\n",
       "      <td>(0, 22]</td>\n",
       "      <td>6400.0</td>\n",
       "    </tr>\n",
       "  </tbody>\n",
       "</table>\n",
       "<p>8848 rows × 3 columns</p>\n",
       "</div>"
      ],
      "text/plain": [
       "                                                  title  ... price_detail__amount\n",
       "1     Tableau 2020 A-Z: Hands-On Tableau Training fo...  ...               8640.0\n",
       "4     An Entire MBA in 1 Course:Award Winning Busine...  ...               8640.0\n",
       "6     Agile Crash Course: Agile Project Management; ...  ...               8640.0\n",
       "11                       Business Analysis Fundamentals  ...               8640.0\n",
       "12              Leadership: Practical Leadership Skills  ...               5760.0\n",
       "...                                                 ...  ...                  ...\n",
       "9442   Simple Value Investing Guide With Proven Methods  ...               8640.0\n",
       "9443    Effectively Optimizing Your Recruitment Process  ...               1280.0\n",
       "9444  Leadership Development:Ready To Use Tools to l...  ...               6400.0\n",
       "9445  Business Efficiency: How To Increase Workplace...  ...               6400.0\n",
       "9446                        How to enter the US market?  ...               6400.0\n",
       "\n",
       "[8848 rows x 3 columns]"
      ]
     },
     "execution_count": 108,
     "metadata": {},
     "output_type": "execute_result"
    }
   ],
   "source": [
    "price_course_2"
   ]
  },
  {
   "cell_type": "code",
   "execution_count": null,
   "metadata": {
    "id": "l23IFia_KcqR"
   },
   "outputs": [],
   "source": [
    "price_course_2.to_csv('price_course2.csv')"
   ]
  },
  {
   "cell_type": "markdown",
   "metadata": {
    "id": "nfOkTs1OGba2"
   },
   "source": [
    "## Price X Rating"
   ]
  },
  {
   "cell_type": "markdown",
   "metadata": {
    "id": "JKERUYP3RoZb"
   },
   "source": [
    "### Bins"
   ]
  },
  {
   "cell_type": "code",
   "execution_count": null,
   "metadata": {
    "id": "SEyi4u4-Gago"
   },
   "outputs": [],
   "source": [
    "price_rating = data"
   ]
  },
  {
   "cell_type": "code",
   "execution_count": null,
   "metadata": {
    "colab": {
     "base_uri": "https://localhost:8080/",
     "height": 352
    },
    "id": "L4CtbR22GzCI",
    "outputId": "c5518584-9bf0-4de6-bd17-38c2e5e19585"
   },
   "outputs": [
    {
     "name": "stderr",
     "output_type": "stream",
     "text": [
      "/usr/local/lib/python3.7/dist-packages/seaborn/_decorators.py:43: FutureWarning: Pass the following variable as a keyword arg: x. From version 0.12, the only valid positional argument will be `data`, and passing other arguments without an explicit keyword will result in an error or misinterpretation.\n",
      "  FutureWarning\n"
     ]
    },
    {
     "data": {
      "text/plain": [
       "<matplotlib.axes._subplots.AxesSubplot at 0x7f4df8dac150>"
      ]
     },
     "execution_count": 111,
     "metadata": {},
     "output_type": "execute_result"
    },
    {
     "data": {
      "image/png": "[encoded data removed]",
      "text/plain": [
       "<Figure size 432x288 with 1 Axes>"
      ]
     },
     "metadata": {},
     "output_type": "display_data"
    }
   ],
   "source": [
    "sns.boxplot(price_rating['price_detail__amount'])"
   ]
  },
  {
   "cell_type": "code",
   "execution_count": null,
   "metadata": {
    "colab": {
     "base_uri": "https://localhost:8080/",
     "height": 320
    },
    "id": "S6mt0KBgJO3l",
    "outputId": "9b9ca1d6-f4a3-4de1-cabc-7ab810c4f86b"
   },
   "outputs": [
    {
     "data": {
      "text/html": [
       "<div>\n",
       "<style scoped>\n",
       "    .dataframe tbody tr th:only-of-type {\n",
       "        vertical-align: middle;\n",
       "    }\n",
       "\n",
       "    .dataframe tbody tr th {\n",
       "        vertical-align: top;\n",
       "    }\n",
       "\n",
       "    .dataframe thead th {\n",
       "        text-align: right;\n",
       "    }\n",
       "</style>\n",
       "<table border=\"1\" class=\"dataframe\">\n",
       "  <thead>\n",
       "    <tr style=\"text-align: right;\">\n",
       "      <th></th>\n",
       "      <th>id</th>\n",
       "      <th>num_subscribers</th>\n",
       "      <th>avg_rating</th>\n",
       "      <th>avg_rating_recent</th>\n",
       "      <th>rating</th>\n",
       "      <th>num_reviews</th>\n",
       "      <th>num_published_lectures</th>\n",
       "      <th>num_published_practice_tests</th>\n",
       "      <th>discount_price__amount</th>\n",
       "      <th>price_detail__amount</th>\n",
       "      <th>publish_year</th>\n",
       "      <th>create_year</th>\n",
       "    </tr>\n",
       "  </thead>\n",
       "  <tbody>\n",
       "    <tr>\n",
       "      <th>count</th>\n",
       "      <td>9.447000e+03</td>\n",
       "      <td>9447.000000</td>\n",
       "      <td>9447.000000</td>\n",
       "      <td>9447.000000</td>\n",
       "      <td>9447.000000</td>\n",
       "      <td>9447.000000</td>\n",
       "      <td>9447.000000</td>\n",
       "      <td>9447.000000</td>\n",
       "      <td>8937.000000</td>\n",
       "      <td>9447.000000</td>\n",
       "      <td>9447.000000</td>\n",
       "      <td>9447.000000</td>\n",
       "    </tr>\n",
       "    <tr>\n",
       "      <th>mean</th>\n",
       "      <td>1.456603e+06</td>\n",
       "      <td>3399.298190</td>\n",
       "      <td>4.138522</td>\n",
       "      <td>4.124756</td>\n",
       "      <td>4.124756</td>\n",
       "      <td>299.054515</td>\n",
       "      <td>34.400868</td>\n",
       "      <td>0.101831</td>\n",
       "      <td>488.984111</td>\n",
       "      <td>4828.758336</td>\n",
       "      <td>2017.141950</td>\n",
       "      <td>2016.997460</td>\n",
       "    </tr>\n",
       "    <tr>\n",
       "      <th>std</th>\n",
       "      <td>8.956601e+05</td>\n",
       "      <td>10451.534122</td>\n",
       "      <td>0.453581</td>\n",
       "      <td>0.478410</td>\n",
       "      <td>0.478410</td>\n",
       "      <td>1826.867472</td>\n",
       "      <td>46.061088</td>\n",
       "      <td>0.580037</td>\n",
       "      <td>247.833161</td>\n",
       "      <td>3108.307674</td>\n",
       "      <td>1.974982</td>\n",
       "      <td>1.992946</td>\n",
       "    </tr>\n",
       "    <tr>\n",
       "      <th>min</th>\n",
       "      <td>2.762000e+03</td>\n",
       "      <td>3.000000</td>\n",
       "      <td>1.000000</td>\n",
       "      <td>1.000000</td>\n",
       "      <td>1.000000</td>\n",
       "      <td>3.000000</td>\n",
       "      <td>0.000000</td>\n",
       "      <td>0.000000</td>\n",
       "      <td>455.000000</td>\n",
       "      <td>1280.000000</td>\n",
       "      <td>2010.000000</td>\n",
       "      <td>2010.000000</td>\n",
       "    </tr>\n",
       "    <tr>\n",
       "      <th>25%</th>\n",
       "      <td>6.730310e+05</td>\n",
       "      <td>141.000000</td>\n",
       "      <td>3.900000</td>\n",
       "      <td>3.879410</td>\n",
       "      <td>3.879410</td>\n",
       "      <td>12.000000</td>\n",
       "      <td>13.000000</td>\n",
       "      <td>0.000000</td>\n",
       "      <td>455.000000</td>\n",
       "      <td>1600.000000</td>\n",
       "      <td>2016.000000</td>\n",
       "      <td>2015.000000</td>\n",
       "    </tr>\n",
       "    <tr>\n",
       "      <th>50%</th>\n",
       "      <td>1.381806e+06</td>\n",
       "      <td>916.000000</td>\n",
       "      <td>4.200000</td>\n",
       "      <td>4.206080</td>\n",
       "      <td>4.206080</td>\n",
       "      <td>33.000000</td>\n",
       "      <td>23.000000</td>\n",
       "      <td>0.000000</td>\n",
       "      <td>455.000000</td>\n",
       "      <td>3840.000000</td>\n",
       "      <td>2017.000000</td>\n",
       "      <td>2017.000000</td>\n",
       "    </tr>\n",
       "    <tr>\n",
       "      <th>75%</th>\n",
       "      <td>2.154793e+06</td>\n",
       "      <td>2889.500000</td>\n",
       "      <td>4.450000</td>\n",
       "      <td>4.447495</td>\n",
       "      <td>4.447495</td>\n",
       "      <td>110.000000</td>\n",
       "      <td>39.000000</td>\n",
       "      <td>0.000000</td>\n",
       "      <td>455.000000</td>\n",
       "      <td>8640.000000</td>\n",
       "      <td>2019.000000</td>\n",
       "      <td>2019.000000</td>\n",
       "    </tr>\n",
       "    <tr>\n",
       "      <th>max</th>\n",
       "      <td>3.469452e+06</td>\n",
       "      <td>374836.000000</td>\n",
       "      <td>5.000000</td>\n",
       "      <td>5.000000</td>\n",
       "      <td>5.000000</td>\n",
       "      <td>78006.000000</td>\n",
       "      <td>699.000000</td>\n",
       "      <td>6.000000</td>\n",
       "      <td>3200.000000</td>\n",
       "      <td>12800.000000</td>\n",
       "      <td>2020.000000</td>\n",
       "      <td>2020.000000</td>\n",
       "    </tr>\n",
       "  </tbody>\n",
       "</table>\n",
       "</div>"
      ],
      "text/plain": [
       "                 id  num_subscribers  ...  publish_year  create_year\n",
       "count  9.447000e+03      9447.000000  ...   9447.000000  9447.000000\n",
       "mean   1.456603e+06      3399.298190  ...   2017.141950  2016.997460\n",
       "std    8.956601e+05     10451.534122  ...      1.974982     1.992946\n",
       "min    2.762000e+03         3.000000  ...   2010.000000  2010.000000\n",
       "25%    6.730310e+05       141.000000  ...   2016.000000  2015.000000\n",
       "50%    1.381806e+06       916.000000  ...   2017.000000  2017.000000\n",
       "75%    2.154793e+06      2889.500000  ...   2019.000000  2019.000000\n",
       "max    3.469452e+06    374836.000000  ...   2020.000000  2020.000000\n",
       "\n",
       "[8 rows x 12 columns]"
      ]
     },
     "execution_count": 112,
     "metadata": {},
     "output_type": "execute_result"
    }
   ],
   "source": [
    "price_rating.describe()"
   ]
  },
  {
   "cell_type": "code",
   "execution_count": null,
   "metadata": {
    "colab": {
     "base_uri": "https://localhost:8080/"
    },
    "id": "dLh0BpTZLizK",
    "outputId": "77ac1371-6e0c-4d18-a3db-b86be66a8c50"
   },
   "outputs": [
    {
     "data": {
      "text/plain": [
       "IntervalIndex([(1250, 4187], (4187, 7124], (7124, 10061], (10061, 12998]],\n",
       "              closed='right',\n",
       "              dtype='interval[int64]')"
      ]
     },
     "execution_count": 113,
     "metadata": {},
     "output_type": "execute_result"
    }
   ],
   "source": [
    "interval = pd.interval_range(start = 1250, end = 13000, freq = 2937)\n",
    "interval"
   ]
  },
  {
   "cell_type": "code",
   "execution_count": null,
   "metadata": {
    "id": "UXndoA1JNsbk"
   },
   "outputs": [],
   "source": [
    "price_rating['price_bin'] = pd.cut(x=price_rating['price_detail__amount'], bins=[1250,4187,7124,10061,12998])"
   ]
  },
  {
   "cell_type": "markdown",
   "metadata": {
    "id": "692LbBFoRe9l"
   },
   "source": [
    "### Average"
   ]
  },
  {
   "cell_type": "code",
   "execution_count": null,
   "metadata": {
    "id": "Fr8A7btcRtGp"
   },
   "outputs": [],
   "source": [
    "num_price = pd.DataFrame({'Count': price_rating.groupby('price_bin').size()}).reset_index()"
   ]
  },
  {
   "cell_type": "code",
   "execution_count": null,
   "metadata": {
    "colab": {
     "base_uri": "https://localhost:8080/",
     "height": 175
    },
    "id": "0gD1-m02SWWr",
    "outputId": "19045099-a61c-4eec-9e65-6c3170e4fc32"
   },
   "outputs": [
    {
     "data": {
      "text/html": [
       "<div>\n",
       "<style scoped>\n",
       "    .dataframe tbody tr th:only-of-type {\n",
       "        vertical-align: middle;\n",
       "    }\n",
       "\n",
       "    .dataframe tbody tr th {\n",
       "        vertical-align: top;\n",
       "    }\n",
       "\n",
       "    .dataframe thead th {\n",
       "        text-align: right;\n",
       "    }\n",
       "</style>\n",
       "<table border=\"1\" class=\"dataframe\">\n",
       "  <thead>\n",
       "    <tr style=\"text-align: right;\">\n",
       "      <th></th>\n",
       "      <th>price_bin</th>\n",
       "      <th>Count</th>\n",
       "    </tr>\n",
       "  </thead>\n",
       "  <tbody>\n",
       "    <tr>\n",
       "      <th>0</th>\n",
       "      <td>(1250, 4187]</td>\n",
       "      <td>4822</td>\n",
       "    </tr>\n",
       "    <tr>\n",
       "      <th>1</th>\n",
       "      <td>(4187, 7124]</td>\n",
       "      <td>1629</td>\n",
       "    </tr>\n",
       "    <tr>\n",
       "      <th>2</th>\n",
       "      <td>(7124, 10061]</td>\n",
       "      <td>2892</td>\n",
       "    </tr>\n",
       "    <tr>\n",
       "      <th>3</th>\n",
       "      <td>(10061, 12998]</td>\n",
       "      <td>104</td>\n",
       "    </tr>\n",
       "  </tbody>\n",
       "</table>\n",
       "</div>"
      ],
      "text/plain": [
       "        price_bin  Count\n",
       "0    (1250, 4187]   4822\n",
       "1    (4187, 7124]   1629\n",
       "2   (7124, 10061]   2892\n",
       "3  (10061, 12998]    104"
      ]
     },
     "execution_count": 116,
     "metadata": {},
     "output_type": "execute_result"
    }
   ],
   "source": [
    "num_price"
   ]
  },
  {
   "cell_type": "code",
   "execution_count": null,
   "metadata": {
    "id": "NgSO_fJjShHt"
   },
   "outputs": [],
   "source": [
    "num_price['avg_rating'] = price_rating.groupby('price_bin')['rating'].mean().reset_index(level=0, drop=True)"
   ]
  },
  {
   "cell_type": "code",
   "execution_count": null,
   "metadata": {
    "colab": {
     "base_uri": "https://localhost:8080/",
     "height": 175
    },
    "id": "e4NVyNJ0TFdo",
    "outputId": "da8bc184-c12f-43ca-b86a-db0ce7d5ed98"
   },
   "outputs": [
    {
     "data": {
      "text/html": [
       "<div>\n",
       "<style scoped>\n",
       "    .dataframe tbody tr th:only-of-type {\n",
       "        vertical-align: middle;\n",
       "    }\n",
       "\n",
       "    .dataframe tbody tr th {\n",
       "        vertical-align: top;\n",
       "    }\n",
       "\n",
       "    .dataframe thead th {\n",
       "        text-align: right;\n",
       "    }\n",
       "</style>\n",
       "<table border=\"1\" class=\"dataframe\">\n",
       "  <thead>\n",
       "    <tr style=\"text-align: right;\">\n",
       "      <th></th>\n",
       "      <th>price_bin</th>\n",
       "      <th>Count</th>\n",
       "      <th>avg_rating</th>\n",
       "    </tr>\n",
       "  </thead>\n",
       "  <tbody>\n",
       "    <tr>\n",
       "      <th>0</th>\n",
       "      <td>(1250, 4187]</td>\n",
       "      <td>4822</td>\n",
       "      <td>4.079144</td>\n",
       "    </tr>\n",
       "    <tr>\n",
       "      <th>1</th>\n",
       "      <td>(4187, 7124]</td>\n",
       "      <td>1629</td>\n",
       "      <td>4.164263</td>\n",
       "    </tr>\n",
       "    <tr>\n",
       "      <th>2</th>\n",
       "      <td>(7124, 10061]</td>\n",
       "      <td>2892</td>\n",
       "      <td>4.174947</td>\n",
       "    </tr>\n",
       "    <tr>\n",
       "      <th>3</th>\n",
       "      <td>(10061, 12998]</td>\n",
       "      <td>104</td>\n",
       "      <td>4.225098</td>\n",
       "    </tr>\n",
       "  </tbody>\n",
       "</table>\n",
       "</div>"
      ],
      "text/plain": [
       "        price_bin  Count  avg_rating\n",
       "0    (1250, 4187]   4822    4.079144\n",
       "1    (4187, 7124]   1629    4.164263\n",
       "2   (7124, 10061]   2892    4.174947\n",
       "3  (10061, 12998]    104    4.225098"
      ]
     },
     "execution_count": 118,
     "metadata": {},
     "output_type": "execute_result"
    }
   ],
   "source": [
    "num_price"
   ]
  },
  {
   "cell_type": "code",
   "execution_count": null,
   "metadata": {
    "id": "4VOq4A_oTYMg"
   },
   "outputs": [],
   "source": [
    "num_price.to_csv('num_price.csv')"
   ]
  },
  {
   "cell_type": "markdown",
   "metadata": {
    "id": "2i_BJLnwqv6L"
   },
   "source": [
    "## Rating x Subscribe"
   ]
  },
  {
   "cell_type": "code",
   "execution_count": null,
   "metadata": {
    "id": "Z_9Vi5BHq4y1"
   },
   "outputs": [],
   "source": [
    "subs_rate = num_price"
   ]
  },
  {
   "cell_type": "code",
   "execution_count": null,
   "metadata": {
    "id": "6_z3lt8xt7pR"
   },
   "outputs": [],
   "source": [
    "subs_rate['num_subs'] = price_rating.groupby('price_bin')['num_subscribers'].sum().reset_index(level=0, drop=True)"
   ]
  },
  {
   "cell_type": "code",
   "execution_count": null,
   "metadata": {
    "colab": {
     "base_uri": "https://localhost:8080/",
     "height": 175
    },
    "id": "Z5Mbs9DruuYC",
    "outputId": "26d20871-4b7d-46a0-d9f7-7aa31eae8a14"
   },
   "outputs": [
    {
     "data": {
      "text/html": [
       "<div>\n",
       "<style scoped>\n",
       "    .dataframe tbody tr th:only-of-type {\n",
       "        vertical-align: middle;\n",
       "    }\n",
       "\n",
       "    .dataframe tbody tr th {\n",
       "        vertical-align: top;\n",
       "    }\n",
       "\n",
       "    .dataframe thead th {\n",
       "        text-align: right;\n",
       "    }\n",
       "</style>\n",
       "<table border=\"1\" class=\"dataframe\">\n",
       "  <thead>\n",
       "    <tr style=\"text-align: right;\">\n",
       "      <th></th>\n",
       "      <th>price_bin</th>\n",
       "      <th>Count</th>\n",
       "      <th>avg_rating</th>\n",
       "      <th>num_subs</th>\n",
       "    </tr>\n",
       "  </thead>\n",
       "  <tbody>\n",
       "    <tr>\n",
       "      <th>0</th>\n",
       "      <td>(1250, 4187]</td>\n",
       "      <td>4822</td>\n",
       "      <td>4.079144</td>\n",
       "      <td>10015117</td>\n",
       "    </tr>\n",
       "    <tr>\n",
       "      <th>1</th>\n",
       "      <td>(4187, 7124]</td>\n",
       "      <td>1629</td>\n",
       "      <td>4.164263</td>\n",
       "      <td>4892822</td>\n",
       "    </tr>\n",
       "    <tr>\n",
       "      <th>2</th>\n",
       "      <td>(7124, 10061]</td>\n",
       "      <td>2892</td>\n",
       "      <td>4.174947</td>\n",
       "      <td>16686241</td>\n",
       "    </tr>\n",
       "    <tr>\n",
       "      <th>3</th>\n",
       "      <td>(10061, 12998]</td>\n",
       "      <td>104</td>\n",
       "      <td>4.225098</td>\n",
       "      <td>518990</td>\n",
       "    </tr>\n",
       "  </tbody>\n",
       "</table>\n",
       "</div>"
      ],
      "text/plain": [
       "        price_bin  Count  avg_rating  num_subs\n",
       "0    (1250, 4187]   4822    4.079144  10015117\n",
       "1    (4187, 7124]   1629    4.164263   4892822\n",
       "2   (7124, 10061]   2892    4.174947  16686241\n",
       "3  (10061, 12998]    104    4.225098    518990"
      ]
     },
     "execution_count": 122,
     "metadata": {},
     "output_type": "execute_result"
    }
   ],
   "source": [
    "subs_rate"
   ]
  },
  {
   "cell_type": "code",
   "execution_count": null,
   "metadata": {
    "id": "s3YJCeKovAn4"
   },
   "outputs": [],
   "source": [
    "subs_rate.to_csv('subs_rate.csv')"
   ]
  },
  {
   "cell_type": "markdown",
   "metadata": {
    "id": "JyEix6z8EG9D"
   },
   "source": [
    "## Category x Subscribers"
   ]
  },
  {
   "cell_type": "code",
   "execution_count": null,
   "metadata": {
    "id": "2evKvIjNEL7I"
   },
   "outputs": [],
   "source": [
    "count_category = pd.DataFrame({'Count': newData.groupby('category').size()}).reset_index()"
   ]
  },
  {
   "cell_type": "code",
   "execution_count": null,
   "metadata": {
    "colab": {
     "base_uri": "https://localhost:8080/",
     "height": 269
    },
    "id": "fec-8tUgQdRy",
    "outputId": "0cc49beb-0ca6-43bf-febc-ca7c57b29c93"
   },
   "outputs": [
    {
     "data": {
      "text/html": [
       "<div>\n",
       "<style scoped>\n",
       "    .dataframe tbody tr th:only-of-type {\n",
       "        vertical-align: middle;\n",
       "    }\n",
       "\n",
       "    .dataframe tbody tr th {\n",
       "        vertical-align: top;\n",
       "    }\n",
       "\n",
       "    .dataframe thead th {\n",
       "        text-align: right;\n",
       "    }\n",
       "</style>\n",
       "<table border=\"1\" class=\"dataframe\">\n",
       "  <thead>\n",
       "    <tr style=\"text-align: right;\">\n",
       "      <th></th>\n",
       "      <th>category</th>\n",
       "      <th>Count</th>\n",
       "      <th>num_subscribe</th>\n",
       "    </tr>\n",
       "  </thead>\n",
       "  <tbody>\n",
       "    <tr>\n",
       "      <th>0</th>\n",
       "      <td>IT</td>\n",
       "      <td>6</td>\n",
       "      <td>15795</td>\n",
       "    </tr>\n",
       "    <tr>\n",
       "      <th>1</th>\n",
       "      <td>business</td>\n",
       "      <td>5527</td>\n",
       "      <td>20336740</td>\n",
       "    </tr>\n",
       "    <tr>\n",
       "      <th>2</th>\n",
       "      <td>design</td>\n",
       "      <td>4</td>\n",
       "      <td>9883</td>\n",
       "    </tr>\n",
       "    <tr>\n",
       "      <th>3</th>\n",
       "      <td>development</td>\n",
       "      <td>9</td>\n",
       "      <td>63241</td>\n",
       "    </tr>\n",
       "    <tr>\n",
       "      <th>4</th>\n",
       "      <td>financial</td>\n",
       "      <td>1298</td>\n",
       "      <td>4487967</td>\n",
       "    </tr>\n",
       "    <tr>\n",
       "      <th>5</th>\n",
       "      <td>office</td>\n",
       "      <td>1</td>\n",
       "      <td>93</td>\n",
       "    </tr>\n",
       "    <tr>\n",
       "      <th>6</th>\n",
       "      <td>self development</td>\n",
       "      <td>21</td>\n",
       "      <td>49600</td>\n",
       "    </tr>\n",
       "  </tbody>\n",
       "</table>\n",
       "</div>"
      ],
      "text/plain": [
       "           category  Count  num_subscribe\n",
       "0                IT      6          15795\n",
       "1          business   5527       20336740\n",
       "2            design      4           9883\n",
       "3       development      9          63241\n",
       "4         financial   1298        4487967\n",
       "5            office      1             93\n",
       "6  self development     21          49600"
      ]
     },
     "execution_count": 74,
     "metadata": {},
     "output_type": "execute_result"
    }
   ],
   "source": [
    "count_category"
   ]
  },
  {
   "cell_type": "code",
   "execution_count": null,
   "metadata": {
    "id": "E63GyN_kEaNi"
   },
   "outputs": [],
   "source": [
    "count_category['num_subscribe'] = newData.groupby('category')['num_subscribers'].sum().reset_index(level=0, drop=True)"
   ]
  },
  {
   "cell_type": "code",
   "execution_count": null,
   "metadata": {
    "id": "A-Ryvog1IDTW"
   },
   "outputs": [],
   "source": [
    "count_category.to_csv('count_category.csv')"
   ]
  },
  {
   "cell_type": "markdown",
   "metadata": {
    "id": "Wecy29y74a-N"
   },
   "source": [
    "# Analisis dan Visualisasi"
   ]
  },
  {
   "cell_type": "markdown",
   "metadata": {
    "id": "jqUVGiOO4fdu"
   },
   "source": [
    "## Subs pada year"
   ]
  },
  {
   "cell_type": "markdown",
   "metadata": {
    "id": "4xBiZO5Y4nEk"
   },
   "source": [
    "![image.png](data:image/png;base64,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)"
   ]
  },
  {
   "cell_type": "code",
   "execution_count": null,
   "metadata": {
    "id": "XBBJGNfD5rJC"
   },
   "outputs": [],
   "source": [
    "top_course = time_subs[time_subs['publish_year'] == 2016].sort_values(by='num_subscribers', ascending=False)"
   ]
  },
  {
   "cell_type": "code",
   "execution_count": null,
   "metadata": {
    "colab": {
     "base_uri": "https://localhost:8080/"
    },
    "id": "LJ1KgMXH9iCw",
    "outputId": "dd572260-a20a-436a-fda2-c87091b169e9"
   },
   "outputs": [
    {
     "data": {
      "text/html": [
       "<div>\n",
       "<style scoped>\n",
       "    .dataframe tbody tr th:only-of-type {\n",
       "        vertical-align: middle;\n",
       "    }\n",
       "\n",
       "    .dataframe tbody tr th {\n",
       "        vertical-align: top;\n",
       "    }\n",
       "\n",
       "    .dataframe thead th {\n",
       "        text-align: right;\n",
       "    }\n",
       "</style>\n",
       "<table border=\"1\" class=\"dataframe\">\n",
       "  <thead>\n",
       "    <tr style=\"text-align: right;\">\n",
       "      <th></th>\n",
       "      <th>title</th>\n",
       "      <th>num_subscribers</th>\n",
       "    </tr>\n",
       "  </thead>\n",
       "  <tbody>\n",
       "    <tr>\n",
       "      <th>4</th>\n",
       "      <td>An Entire MBA in 1 Course:Award Winning Busine...</td>\n",
       "      <td>374836</td>\n",
       "    </tr>\n",
       "    <tr>\n",
       "      <th>0</th>\n",
       "      <td>The Complete SQL Bootcamp 2020: Go from Zero t...</td>\n",
       "      <td>295509</td>\n",
       "    </tr>\n",
       "    <tr>\n",
       "      <th>3</th>\n",
       "      <td>The Complete Financial Analyst Course 2020</td>\n",
       "      <td>245860</td>\n",
       "    </tr>\n",
       "    <tr>\n",
       "      <th>19</th>\n",
       "      <td>Deep Learning Prerequisites: The Numpy Stack i...</td>\n",
       "      <td>239309</td>\n",
       "    </tr>\n",
       "    <tr>\n",
       "      <th>1</th>\n",
       "      <td>Tableau 2020 A-Z: Hands-On Tableau Training fo...</td>\n",
       "      <td>209070</td>\n",
       "    </tr>\n",
       "    <tr>\n",
       "      <th>22</th>\n",
       "      <td>Introduction to Finance, Accounting, Modeling ...</td>\n",
       "      <td>140676</td>\n",
       "    </tr>\n",
       "    <tr>\n",
       "      <th>8</th>\n",
       "      <td>Become a Product Manager | Learn the Skills &amp; ...</td>\n",
       "      <td>112572</td>\n",
       "    </tr>\n",
       "    <tr>\n",
       "      <th>6</th>\n",
       "      <td>Agile Crash Course: Agile Project Management; ...</td>\n",
       "      <td>96207</td>\n",
       "    </tr>\n",
       "    <tr>\n",
       "      <th>607</th>\n",
       "      <td>Business Bootcamp: 7 Weeks to Start Your Own B...</td>\n",
       "      <td>89171</td>\n",
       "    </tr>\n",
       "    <tr>\n",
       "      <th>17</th>\n",
       "      <td>The Complete Investment Banking Course 2020</td>\n",
       "      <td>88468</td>\n",
       "    </tr>\n",
       "  </tbody>\n",
       "</table>\n",
       "</div>"
      ],
      "text/plain": [
       "                                                 title  num_subscribers\n",
       "4    An Entire MBA in 1 Course:Award Winning Busine...           374836\n",
       "0    The Complete SQL Bootcamp 2020: Go from Zero t...           295509\n",
       "3           The Complete Financial Analyst Course 2020           245860\n",
       "19   Deep Learning Prerequisites: The Numpy Stack i...           239309\n",
       "1    Tableau 2020 A-Z: Hands-On Tableau Training fo...           209070\n",
       "22   Introduction to Finance, Accounting, Modeling ...           140676\n",
       "8    Become a Product Manager | Learn the Skills & ...           112572\n",
       "6    Agile Crash Course: Agile Project Management; ...            96207\n",
       "607  Business Bootcamp: 7 Weeks to Start Your Own B...            89171\n",
       "17         The Complete Investment Banking Course 2020            88468"
      ]
     },
     "execution_count": 125,
     "metadata": {},
     "output_type": "execute_result"
    }
   ],
   "source": [
    "top_course[['title', 'num_subscribers']].head(10)"
   ]
  },
  {
   "cell_type": "markdown",
   "metadata": {
    "id": "80lpWtyE_IpA"
   },
   "source": [
    "**berikut kelas lengkapnya**\n",
    "1. *An Entire MBA in 1 Course:Award Winning Business School Prof*\n",
    "2. *The Complete SQL Bootcamp 2020: Go from Zero to Hero*\n",
    "3. *The Complete Financial Analyst Course 2020*\n",
    "4. *Deep Learning Prerequisites: The Numpy Stack in Python (V2+)*\n",
    "5. *Tableau 2020 A-Z: Hands-On Tableau Training for Data Science*\n",
    "6. *Introduction to Finance, Accounting, Modeling and Valuation*\n",
    "7. *Become a Product Manager | Learn the Skills & Get the Job*\n",
    "8. *Agile Crash Course: Agile Project Management*\n",
    "9. *Business Bootcamp: 7 Weeks to Start Your Own Business*\n",
    "10. *The Complete Investment Banking Course 2020*"
   ]
  },
  {
   "cell_type": "code",
   "execution_count": null,
   "metadata": {
    "id": "3NPap6GmFRtF"
   },
   "outputs": [],
   "source": [
    "top_course_2020 = time_subs[time_subs['publish_year'] == 2020].sort_values(by='num_subscribers', ascending=False)"
   ]
  },
  {
   "cell_type": "code",
   "execution_count": null,
   "metadata": {
    "colab": {
     "base_uri": "https://localhost:8080/"
    },
    "id": "RpVR3AzPGueT",
    "outputId": "f5f4fe62-f465-4b11-c4a9-942732ad60ed"
   },
   "outputs": [
    {
     "data": {
      "text/html": [
       "<div>\n",
       "<style scoped>\n",
       "    .dataframe tbody tr th:only-of-type {\n",
       "        vertical-align: middle;\n",
       "    }\n",
       "\n",
       "    .dataframe tbody tr th {\n",
       "        vertical-align: top;\n",
       "    }\n",
       "\n",
       "    .dataframe thead th {\n",
       "        text-align: right;\n",
       "    }\n",
       "</style>\n",
       "<table border=\"1\" class=\"dataframe\">\n",
       "  <thead>\n",
       "    <tr style=\"text-align: right;\">\n",
       "      <th></th>\n",
       "      <th>title</th>\n",
       "      <th>num_subscribers</th>\n",
       "    </tr>\n",
       "  </thead>\n",
       "  <tbody>\n",
       "    <tr>\n",
       "      <th>1047</th>\n",
       "      <td>Artificial Intelligence Expert Certification</td>\n",
       "      <td>58882</td>\n",
       "    </tr>\n",
       "    <tr>\n",
       "      <th>913</th>\n",
       "      <td>Freelance Writing Course: 15 Courses in 1</td>\n",
       "      <td>58014</td>\n",
       "    </tr>\n",
       "    <tr>\n",
       "      <th>600</th>\n",
       "      <td>Microsoft Power BI: Latest 2020 Beginner to Ex...</td>\n",
       "      <td>54597</td>\n",
       "    </tr>\n",
       "    <tr>\n",
       "      <th>907</th>\n",
       "      <td>Entrepreneurship - Ft. Matthew Rolnick of Yaym...</td>\n",
       "      <td>53614</td>\n",
       "    </tr>\n",
       "    <tr>\n",
       "      <th>1284</th>\n",
       "      <td>Next-Level LinkedIn Marketing: LinkedIn Market...</td>\n",
       "      <td>45166</td>\n",
       "    </tr>\n",
       "    <tr>\n",
       "      <th>982</th>\n",
       "      <td>Tableau Training: Master Tableau For Data Science</td>\n",
       "      <td>44864</td>\n",
       "    </tr>\n",
       "    <tr>\n",
       "      <th>1575</th>\n",
       "      <td>Shopify guide: The complete shopify store crea...</td>\n",
       "      <td>38246</td>\n",
       "    </tr>\n",
       "    <tr>\n",
       "      <th>1329</th>\n",
       "      <td>Introduction to Forex- learn to trade forex by...</td>\n",
       "      <td>37024</td>\n",
       "    </tr>\n",
       "    <tr>\n",
       "      <th>1928</th>\n",
       "      <td>Grant Writing Full Course: Nonprofits, Artists...</td>\n",
       "      <td>33109</td>\n",
       "    </tr>\n",
       "    <tr>\n",
       "      <th>2333</th>\n",
       "      <td>Shopify Guide: Start your own clothing brand w...</td>\n",
       "      <td>32964</td>\n",
       "    </tr>\n",
       "  </tbody>\n",
       "</table>\n",
       "</div>"
      ],
      "text/plain": [
       "                                                  title  num_subscribers\n",
       "1047       Artificial Intelligence Expert Certification            58882\n",
       "913           Freelance Writing Course: 15 Courses in 1            58014\n",
       "600   Microsoft Power BI: Latest 2020 Beginner to Ex...            54597\n",
       "907   Entrepreneurship - Ft. Matthew Rolnick of Yaym...            53614\n",
       "1284  Next-Level LinkedIn Marketing: LinkedIn Market...            45166\n",
       "982   Tableau Training: Master Tableau For Data Science            44864\n",
       "1575  Shopify guide: The complete shopify store crea...            38246\n",
       "1329  Introduction to Forex- learn to trade forex by...            37024\n",
       "1928  Grant Writing Full Course: Nonprofits, Artists...            33109\n",
       "2333  Shopify Guide: Start your own clothing brand w...            32964"
      ]
     },
     "execution_count": 127,
     "metadata": {},
     "output_type": "execute_result"
    }
   ],
   "source": [
    "top_course_2020[['title', 'num_subscribers']].head(10)"
   ]
  },
  {
   "cell_type": "code",
   "execution_count": null,
   "metadata": {
    "colab": {
     "base_uri": "https://localhost:8080/"
    },
    "id": "FrXJxVbGG1JR",
    "outputId": "17ffa34a-c6b0-4b84-b087-40204b25e3a1"
   },
   "outputs": [
    {
     "data": {
      "text/html": [
       "<div>\n",
       "<style scoped>\n",
       "    .dataframe tbody tr th:only-of-type {\n",
       "        vertical-align: middle;\n",
       "    }\n",
       "\n",
       "    .dataframe tbody tr th {\n",
       "        vertical-align: top;\n",
       "    }\n",
       "\n",
       "    .dataframe thead th {\n",
       "        text-align: right;\n",
       "    }\n",
       "</style>\n",
       "<table border=\"1\" class=\"dataframe\">\n",
       "  <thead>\n",
       "    <tr style=\"text-align: right;\">\n",
       "      <th></th>\n",
       "      <th>title</th>\n",
       "      <th>num_subscribers</th>\n",
       "    </tr>\n",
       "  </thead>\n",
       "  <tbody>\n",
       "    <tr>\n",
       "      <th>15</th>\n",
       "      <td>The Complete Financial Analyst Training &amp; Inve...</td>\n",
       "      <td>182002</td>\n",
       "    </tr>\n",
       "    <tr>\n",
       "      <th>35</th>\n",
       "      <td>The Complete Presentation and Public Speaking/...</td>\n",
       "      <td>158654</td>\n",
       "    </tr>\n",
       "    <tr>\n",
       "      <th>2</th>\n",
       "      <td>PMP Exam Prep Seminar -  PMBOK Guide 6</td>\n",
       "      <td>155282</td>\n",
       "    </tr>\n",
       "    <tr>\n",
       "      <th>5</th>\n",
       "      <td>Microsoft Power BI - A Complete Introduction [...</td>\n",
       "      <td>124180</td>\n",
       "    </tr>\n",
       "    <tr>\n",
       "      <th>16</th>\n",
       "      <td>The Ultimate Hands-On Hadoop - Tame your Big D...</td>\n",
       "      <td>114945</td>\n",
       "    </tr>\n",
       "    <tr>\n",
       "      <th>77</th>\n",
       "      <td>The Complete Personal Finance Course: Save,Pro...</td>\n",
       "      <td>87181</td>\n",
       "    </tr>\n",
       "    <tr>\n",
       "      <th>20</th>\n",
       "      <td>Python for Finance: Investment Fundamentals &amp; ...</td>\n",
       "      <td>83072</td>\n",
       "    </tr>\n",
       "    <tr>\n",
       "      <th>14</th>\n",
       "      <td>SQL - MySQL for Data Analytics and Business In...</td>\n",
       "      <td>78968</td>\n",
       "    </tr>\n",
       "    <tr>\n",
       "      <th>13</th>\n",
       "      <td>The Complete Foundation Stock Trading Course</td>\n",
       "      <td>76812</td>\n",
       "    </tr>\n",
       "    <tr>\n",
       "      <th>25</th>\n",
       "      <td>The Complete Shopify Aliexpress Dropship course</td>\n",
       "      <td>74011</td>\n",
       "    </tr>\n",
       "  </tbody>\n",
       "</table>\n",
       "</div>"
      ],
      "text/plain": [
       "                                                title  num_subscribers\n",
       "15  The Complete Financial Analyst Training & Inve...           182002\n",
       "35  The Complete Presentation and Public Speaking/...           158654\n",
       "2              PMP Exam Prep Seminar -  PMBOK Guide 6           155282\n",
       "5   Microsoft Power BI - A Complete Introduction [...           124180\n",
       "16  The Ultimate Hands-On Hadoop - Tame your Big D...           114945\n",
       "77  The Complete Personal Finance Course: Save,Pro...            87181\n",
       "20  Python for Finance: Investment Fundamentals & ...            83072\n",
       "14  SQL - MySQL for Data Analytics and Business In...            78968\n",
       "13       The Complete Foundation Stock Trading Course            76812\n",
       "25    The Complete Shopify Aliexpress Dropship course            74011"
      ]
     },
     "execution_count": 128,
     "metadata": {},
     "output_type": "execute_result"
    }
   ],
   "source": [
    "top_course_2017 = time_subs[time_subs['publish_year'] == 2017].sort_values(by='num_subscribers', ascending=False)\n",
    "top_course_2017[['title', 'num_subscribers']].head(10)"
   ]
  },
  {
   "cell_type": "markdown",
   "metadata": {
    "id": "qLJElTiCPq_s"
   },
   "source": [
    "## Subs pada price"
   ]
  },
  {
   "cell_type": "markdown",
   "metadata": {
    "id": "5W6onZIEP01K"
   },
   "source": [
    "![image.png](data:image/png;base64,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)"
   ]
  },
  {
   "cell_type": "markdown",
   "metadata": {
    "id": "Zl3KMixNQXml"
   },
   "source": [
    "dari visualisasi diatas, ternyata pada tahun 2018 harga rerata course terhitung tinggi yaitu `$5,192`. Namun yang berlangganan hanyalah 5jt sekian yang terhitung sedikit jika dibandikan pada tahun 2018 dengan pelanggan hampir 7juta. Pada tahun 2016, harga rerata course `$4.8`. Jika dibandingkan keduanya, selisih yang dihasilkan dari harga dan jumlah berlangganan sedikit atau kurang lebih hampir sama. \n",
    "\n",
    "Tetapi pada tahun 2017 dengan jumlah pelanggan yang kurang lebih sama dengan tahun 2016, dan rerata harga course juga terhitung sedikit lebih tinggi yang hampir sama dengan tahun 2018. Sehingga dapat ditarik kesimpulan, bahwa harga dalam sebuah course tidak selalu mempengaruhi jumlah pelanggan. Pelanggan memilih berlangganan sebuah course karena mereka memang minat dan butuh, bukan perihal faktor harga murah saja."
   ]
  },
  {
   "cell_type": "markdown",
   "metadata": {
    "id": "CZz9rCUwZPby"
   },
   "source": [
    "![image.png](data:image/png;base64,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)"
   ]
  },
  {
   "cell_type": "markdown",
   "metadata": {
    "id": "FjeqwYtxZWal"
   },
   "source": [
    "hal tersebut diperkuat dengan hasil visualisasi perbandingan harga asli dengan harga yang telah didiskon terhadap jumlah pelanggan. ternyata dengan harga diskon yang kurang lebih harganya konstan dari tahun ke tahun tidak memberikan pengaruh pada jumlah pelanggan"
   ]
  },
  {
   "cell_type": "markdown",
   "metadata": {
    "id": "c42zdjWE-6uk"
   },
   "source": [
    "## price pada num_lectures"
   ]
  },
  {
   "cell_type": "code",
   "execution_count": null,
   "metadata": {
    "colab": {
     "base_uri": "https://localhost:8080/"
    },
    "id": "HULfbsVS_BMu",
    "outputId": "51e80a3f-3b96-4a19-af22-684a993b0aef"
   },
   "outputs": [
    {
     "data": {
      "text/plain": [
       "<seaborn.axisgrid.FacetGrid at 0x7f4df909e7d0>"
      ]
     },
     "execution_count": 129,
     "metadata": {},
     "output_type": "execute_result"
    },
    {
     "data": {
      "image/png": "[encoded data removed]",
      "text/plain": [
       "<Figure size 360x360 with 1 Axes>"
      ]
     },
     "metadata": {},
     "output_type": "display_data"
    }
   ],
   "source": [
    "sns.catplot(x='lectures_bin', y='price_detail__amount', data=price_course_2)"
   ]
  },
  {
   "cell_type": "markdown",
   "metadata": {
    "id": "87kvH3LDCkYX"
   },
   "source": [
    "dari hasil diatas dapat diperoleh kesimpulan bahwa ternyata penentuan harga tidak memiliki pengaruh dengan harga yang ditetapkan. masing-masing jumlah memiliki penyebaran harga yang rata tersebar di masing masing harga. dan bukan juga dipengaruhi kepopuleran (banyaknya pelanggan) entah karena murah atau mahal karena berkualitas, yang jelas harga juga tidak mempengaruhi jumlah pelanggan. Jadi bisa ditarik hipotesis bahwa pemberlakuan harga bisa diliat dari tingkat kesulitan topik yang dibahas untuk saat ini."
   ]
  },
  {
   "cell_type": "markdown",
   "metadata": {
    "id": "XL7mzlAjOzA1"
   },
   "source": [
    "## Price pada rating"
   ]
  },
  {
   "cell_type": "code",
   "execution_count": null,
   "metadata": {
    "colab": {
     "base_uri": "https://localhost:8080/"
    },
    "id": "QuJu36XhO64Q",
    "outputId": "a789c741-d363-436e-e974-971eec9ecd11"
   },
   "outputs": [
    {
     "data": {
      "text/plain": [
       "<seaborn.axisgrid.FacetGrid at 0x7f4defc42550>"
      ]
     },
     "execution_count": 130,
     "metadata": {},
     "output_type": "execute_result"
    },
    {
     "data": {
      "image/png": "[encoded data removed]",
      "text/plain": [
       "<Figure size 360x360 with 1 Axes>"
      ]
     },
     "metadata": {},
     "output_type": "display_data"
    }
   ],
   "source": [
    "sns.catplot(x='price_bin', y='rating', data=price_rating)\n",
    "#g.fig.set_size_inches(3,6)"
   ]
  },
  {
   "cell_type": "markdown",
   "metadata": {
    "id": "rUqxkQ-GQo1l"
   },
   "source": [
    "1250 4187\n",
    "4187 7124\n",
    "7124 10061\n",
    "10061 12998"
   ]
  },
  {
   "cell_type": "markdown",
   "metadata": {
    "id": "fz_mOnGPne1U"
   },
   "source": [
    "dari hasil visualisasi diatas dapat ditarik kesimpulan smeentara bahwa harga course tidak memiliki pengaruh terhadap rating. yang awalnya kami menyimpulkan bahwa harga course bisa diliat dari kualitas course dengan melihat rating masing-masing course. ternyata masing masing harga merata ratingnya."
   ]
  },
  {
   "cell_type": "markdown",
   "metadata": {
    "id": "m9epbhMsh7fR"
   },
   "source": [
    "![image.png](data:image/png;base64,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)"
   ]
  },
  {
   "cell_type": "markdown",
   "metadata": {
    "id": "UKsijMFdpdKi"
   },
   "source": [
    "namun, visualisasi ini mencoba lebih memperjelas. ternyata walaupun rating hampir sama, rating tertinggi tetap diperoleh dari course dengan harga yang tinggi. yang bisa disimpulkan course tersebut berkualitas, bermanfaat dan sesuai kebutuhan pelanggan. walaupun jumlah course harga ini terhitung sedikit.\n",
    "tetapi secara keseluruhan course udemy memiliki rating yang cukup baik"
   ]
  },
  {
   "cell_type": "markdown",
   "metadata": {
    "id": "8xX_5FEtUx4V"
   },
   "source": [
    "## Rating pada Subscribe"
   ]
  },
  {
   "cell_type": "markdown",
   "metadata": {
    "id": "BSSSPAh-U7CL"
   },
   "source": [
    "![image.png](data:image/png;base64,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)"
   ]
  },
  {
   "cell_type": "markdown",
   "metadata": {
    "id": "6aqoZZopVIe_"
   },
   "source": [
    "ternyata, rating juga mempengaruhi jumlah pelanggan. bisa dikatakan rating terbanyak mempengaruhi jumlah pelanggan. pelanggan juga memperhatikan harga. pelanggan lebih memilih berlangganan pada harga course tingkat ke-3. yang bisa dikatakan rate harga ketiga hampir sama dengan harga keempat. perusahaan bisa lebih memperbanyak jumlah course pada jenis harga ketiga"
   ]
  }
 ],
 "metadata": {
  "colab": {
   "collapsed_sections": [
    "6M0Se40OvkrM",
    "KdtXjQObCG-M",
    "qzqVJE4ICh01",
    "OLP-JtRsPBWN",
    "b9f2YIkAfGVa",
    "nLfeFLoClGdP",
    "96gNO0Kx1umi",
    "Wecy29y74a-N",
    "jqUVGiOO4fdu"
   ],
   "name": "data Udemy",
   "provenance": [],
   "toc_visible": true
  },
  "kernelspec": {
   "display_name": "Python 3 (ipykernel)",
   "language": "python",
   "name": "python3"
  },
  "language_info": {
   "codemirror_mode": {
    "name": "ipython",
    "version": 3
   },
   "file_extension": ".py",
   "mimetype": "text/x-python",
   "name": "python",
   "nbconvert_exporter": "python",
   "pygments_lexer": "ipython3",
   "version": "3.7.8"
  }
 },
 "nbformat": 4,
 "nbformat_minor": 1
}
